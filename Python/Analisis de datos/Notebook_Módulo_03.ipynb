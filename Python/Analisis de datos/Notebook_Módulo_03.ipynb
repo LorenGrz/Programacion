{
 "cells": [
  {
   "cell_type": "markdown",
   "id": "4ea69a51",
   "metadata": {},
   "source": [
    "# Módulo 3: Gráficos\n"
   ]
  },
  {
   "cell_type": "markdown",
   "id": "0b60dfc8",
   "metadata": {},
   "source": [
    "# Matplotlib\n",
    "Matplotlib es una librería de Python especializada en la creación de gráficos en dos dimensiones a partir de datos contenidos en listas o arrays en Python y su extensión matemática NumPy. Se basa en el programa matlab.\n",
    "\n",
    "Matplotlib tiene una amplia base de código que puede ser desalentador para muchos usuarios nuevos. Sin embargo, la mayoría de la biblioteca se puede entender con un marco conceptual bastante simple y conocimiento de algunos puntos importantes. Todos los graficos y las funciones de matplotlib siguen las mismas reglas. Por ende una vez que nos familiaricemos con algunas, el resto seran mas faciles.\n",
    "\n",
    "Para poder tener un resúmen general de las herramientas que tiene Matplotlib dejamos un link: [CheatsSheet](https://matplotlib.org/cheatsheets/_images/cheatsheets-1.png)."
   ]
  },
  {
   "cell_type": "markdown",
   "id": "bb35a917",
   "metadata": {},
   "source": [
    "## Tipos de gráficos\n",
    "\n",
    "Permite crear y personalizar los tipos de gráficos más comunes, entre ellos:\n",
    "\n",
    "  *  Diagramas de líneas `.plot`\n",
    "  *  Diagramas de barras `.bar` o `.barh`\n",
    "  *  Histograma `.hist`\n",
    "  *  Diagramas de dispersión o puntos `.scatter`\n",
    "  *  Diagramas de sectores  `.pie`\n",
    "  *  Diagramas de caja y bigotes `.boxplot`\n",
    "  *  Diagramas de violín `.violinplot`\n",
    "  *  Diagramas de areas `.fill_between`\n",
    "  *  Diagramas de contorno `.contour`\n",
    "  *  Mapas de color `.imshow`\n"
   ]
  },
  {
   "cell_type": "markdown",
   "id": "ff2dd5b9",
   "metadata": {},
   "source": [
    "<img src=\"https://i0.wp.com/cesarquezadab.com/wp-content/uploads/2022/02/Captura-24.jpg?resize=740%2C390&ssl=1\">"
   ]
  },
  {
   "cell_type": "markdown",
   "id": "1a28706e",
   "metadata": {},
   "source": [
    "## Cómo instalar Matplotlib"
   ]
  },
  {
   "cell_type": "code",
   "execution_count": null,
   "id": "13923fa7",
   "metadata": {},
   "outputs": [],
   "source": [
    "pip install matplotlib"
   ]
  },
  {
   "cell_type": "markdown",
   "id": "ca751396",
   "metadata": {},
   "source": [
    "## Cómo importar Matplotlib"
   ]
  },
  {
   "cell_type": "code",
   "execution_count": null,
   "id": "9857a626",
   "metadata": {},
   "outputs": [],
   "source": [
    "import pandas as pd\n",
    "import numpy as np\n",
    "import matplotlib.pyplot as plt\n",
    "%matplotlib inline"
   ]
  },
  {
   "cell_type": "markdown",
   "id": "a42dcad6",
   "metadata": {},
   "source": []
  },
  {
   "cell_type": "markdown",
   "id": "d0bb2486",
   "metadata": {},
   "source": [
    "### Vamos a generar unos datos para empezar a graficar. Utilizamos de numpy la funcion linspace que nos retorna valores entre los valores especificados. \n",
    "\n",
    "**`np.linspace(desde, hasta, cantidad de valores)`**"
   ]
  },
  {
   "cell_type": "code",
   "execution_count": null,
   "id": "127e3c7f",
   "metadata": {},
   "outputs": [],
   "source": [
    "#Generamos los valores del eje x\n",
    "x = np.linspace(-10, 10, 50)\n",
    "x"
   ]
  },
  {
   "cell_type": "code",
   "execution_count": null,
   "id": "29814901",
   "metadata": {},
   "outputs": [],
   "source": [
    "x2 = list(range(-10, 10))"
   ]
  },
  {
   "cell_type": "code",
   "execution_count": null,
   "id": "7437e2ab",
   "metadata": {},
   "outputs": [],
   "source": [
    "x2"
   ]
  },
  {
   "cell_type": "code",
   "execution_count": null,
   "id": "53bea1ee",
   "metadata": {},
   "outputs": [],
   "source": [
    "type(x2)"
   ]
  },
  {
   "cell_type": "code",
   "execution_count": null,
   "id": "1e3eae79",
   "metadata": {},
   "outputs": [],
   "source": [
    "type(x)"
   ]
  },
  {
   "cell_type": "markdown",
   "id": "fc5bb85b",
   "metadata": {},
   "source": [
    "Vemos la diferencia entre range() y linspace()?\n",
    "\n",
    "range nos retorna una lista mientras que linspace nos devuelve un array\n"
   ]
  },
  {
   "cell_type": "markdown",
   "id": "de97984d",
   "metadata": {},
   "source": [
    "Recordemos la fórmula de una recta o funcion lineal:\n",
    "$$ y = a · x + b $$"
   ]
  },
  {
   "cell_type": "code",
   "execution_count": null,
   "id": "98d997b8",
   "metadata": {},
   "outputs": [],
   "source": [
    "# Definimos los parámetros de la recta\n",
    "a = -2\n",
    "b = 3"
   ]
  },
  {
   "cell_type": "code",
   "execution_count": null,
   "id": "0e1ef1fc",
   "metadata": {},
   "outputs": [],
   "source": [
    "# Creamos y a partir de la función\n",
    "y = a*x + b\n",
    "y"
   ]
  },
  {
   "cell_type": "markdown",
   "id": "1b73e306",
   "metadata": {},
   "source": [
    "La manera más rápida y fácil de graficar es usar el método plot de matplotlib"
   ]
  },
  {
   "cell_type": "markdown",
   "id": "8bcbb80e",
   "metadata": {},
   "source": [
    "Mediante la función **len()** Python nos devuelve la longitud o cantidad de valores que incluye una variable"
   ]
  },
  {
   "cell_type": "code",
   "execution_count": null,
   "id": "f32dfd5b",
   "metadata": {},
   "outputs": [],
   "source": [
    "len(x), len(y)"
   ]
  },
  {
   "cell_type": "code",
   "execution_count": null,
   "id": "7c7d0e41",
   "metadata": {},
   "outputs": [],
   "source": [
    "plt.plot(x, y)"
   ]
  },
  {
   "cell_type": "markdown",
   "id": "0445f30d",
   "metadata": {},
   "source": [
    "## Generamos nuestro primer gráfico! Ahora vamos a mejorarlo un poco."
   ]
  },
  {
   "cell_type": "markdown",
   "id": "7f0d05d2",
   "metadata": {},
   "source": [
    "## Características al momento de plotear con Matplotlib:\n",
    "\n",
    "<img src=\"https://matplotlib.org/3.1.1/_images/sphx_glr_anatomy_001.png\">\n",
    "\n",
    "**`plt.plot(x, y)`**\n",
    "\n",
    "**x** = Abscisas.\n",
    "\n",
    "**y** = Ordenadas. \n",
    "\n",
    "Tanto x como y pueden ser abcisas tuplas, listas o arrays, pero ambas deben tener el mismo tamaño.\n",
    "\n",
    "*Algunas Funciones:*\n",
    "- **`plt.title('')`** = título del gráfico\n",
    "- **`plt.xlabel('')`** = nombre del eje x\n",
    "- **`plt.ylabel('')`** = nombre del eje x\n",
    "- **`plt.grid(True)`** = incluye la grilla\n",
    "- **`plt.legend()`** = agrega leyenda al gráfica"
   ]
  },
  {
   "cell_type": "code",
   "execution_count": null,
   "id": "4a123c86",
   "metadata": {},
   "outputs": [],
   "source": [
    "# Generamos el mismo gráfico que antes\n",
    "plt.plot(x, y)\n",
    "# Ahora le agregamos una grilla\n",
    "plt.grid(True)"
   ]
  },
  {
   "cell_type": "code",
   "execution_count": null,
   "id": "82eb0507",
   "metadata": {},
   "outputs": [],
   "source": [
    "# Generamos el mismo gráfico que antes\n",
    "plt.plot(x, y)\n",
    "# Ahora le agregamos una grilla, un título y los nombres de los ejes\n",
    "plt.grid(True)\n",
    "plt.title('y = ax + b')\n",
    "plt.xlabel('x')\n",
    "plt.ylabel('y')"
   ]
  },
  {
   "cell_type": "markdown",
   "id": "9c4d6998",
   "metadata": {},
   "source": [
    "# Ejemplo Polinomio \n",
    "graficar un polinomio de grado 2 (**𝑦=𝑎𝑥2+𝑏𝑥+𝑐**) con los coeficientes que ustedes quieran, para los valores de x desde el -5 al 15."
   ]
  },
  {
   "cell_type": "code",
   "execution_count": null,
   "id": "91d7525c",
   "metadata": {},
   "outputs": [],
   "source": [
    "a = 5\n",
    "b = 3\n",
    "c = 8"
   ]
  },
  {
   "cell_type": "code",
   "execution_count": null,
   "id": "94da25bc",
   "metadata": {},
   "outputs": [],
   "source": [
    "x = np.linspace(-5, 15, 80)\n",
    "x"
   ]
  },
  {
   "cell_type": "code",
   "execution_count": null,
   "id": "6abd682e",
   "metadata": {},
   "outputs": [],
   "source": [
    "y = a*x**2 + b*x + c\n",
    "y"
   ]
  },
  {
   "cell_type": "code",
   "execution_count": null,
   "id": "215df0bc",
   "metadata": {},
   "outputs": [],
   "source": [
    "plt.plot(x, y)"
   ]
  },
  {
   "cell_type": "code",
   "execution_count": null,
   "id": "b232012e",
   "metadata": {},
   "outputs": [],
   "source": [
    "# Generamos el mismo gráfico que antes\n",
    "plt.plot(x, y)\n",
    "# Ahora le agregamos una grilla\n",
    "plt.grid(True)"
   ]
  },
  {
   "cell_type": "code",
   "execution_count": null,
   "id": "e33f1250",
   "metadata": {},
   "outputs": [],
   "source": [
    "# Generamos el mismo gráfico que antes\n",
    "plt.plot(x, y)\n",
    "# Ahora le agregamos una grilla, un título y los nombres de los ejes\n",
    "plt.grid(True)\n",
    "plt.title('y = 5x^2 + 3x + 8')\n",
    "plt.xlabel('x')\n",
    "plt.ylabel('y')\n"
   ]
  },
  {
   "cell_type": "markdown",
   "id": "e3078bc9",
   "metadata": {},
   "source": [
    "# Más características de los gráficos"
   ]
  },
  {
   "cell_type": "markdown",
   "id": "4fa7ccc7",
   "metadata": {},
   "source": [
    "### Vamos a personalizar un poco más los gráficos. A la función plot, podemos pasarle un argumento de formato (fmt) en el que le especificamos el color del trazo, el tipo de marcador y el tipo de línea.\n",
    "\n",
    "**`plot(x, y, color= ' ', linestyle= ' ', linewidth= ' ', marker=' '):`**\n",
    "\n",
    "\n",
    "*Algunas Opciones:*\n",
    "\n",
    "- **color** = color de la línea\n",
    "\n",
    "- **linestyle** = tipo de línea \n",
    "\n",
    "- **linewidth** = ancho de línea.\n",
    "\n",
    "- **marker** = marcador de la línea.\n",
    "\n",
    "============= ===============================\n",
    "\n",
    "Podemos elegir de los siguientes **colores (color):**\n",
    "\n",
    "`'b'` blue\n",
    "\n",
    "`'g'` green\n",
    "\n",
    "`'r'` red\n",
    "\n",
    "`'c'` cyan\n",
    "\n",
    "`'m'` magenta\n",
    "\n",
    "`'y'` yellow\n",
    "\n",
    "`'k'` black\n",
    "\n",
    "`'w'` white\n",
    "\n",
    "============= ===============================\n",
    "\n",
    "Los siguientes **marcadores (marker):**\n",
    "\n",
    "`'.'` point marker\n",
    "\n",
    "`','` pixel marker\n",
    "\n",
    "`'o'` circle marker\n",
    "\n",
    "`'v'` triangle_down marker\n",
    "\n",
    "`'^'` triangle_up marker\n",
    "\n",
    "`'<'` triangle_left marker\n",
    "\n",
    "`'>'` triangle_right marker\n",
    "\n",
    "`'1'` tri_down marker\n",
    "\n",
    "`'2'` tri_up marker\n",
    "\n",
    "`'3'` tri_left marker\n",
    "\n",
    "`'4'` tri_right marker\n",
    "\n",
    "`'s'` square marker\n",
    "\n",
    "`'p'` pentagon marker\n",
    "\n",
    "`'*'` star marker\n",
    "\n",
    "`'h'` hexagon1 marker\n",
    "\n",
    "`'H'` hexagon2 marker\n",
    "\n",
    "`'+'` plus marker\n",
    "\n",
    "`'x'` x marker\n",
    "\n",
    "`'D'` diamond marker\n",
    "\n",
    "`'d'` thin_diamond marker\n",
    "\n",
    "`'|'` vline marker\n",
    "\n",
    "`'_'` hline marker\n",
    "\n",
    "============= ===============================\n",
    "\n",
    "Y los siguientes **tipos de linea (linestyle):**\n",
    "\n",
    "`'-'` solid line style (estilo de línea sólida)\n",
    "\n",
    "`'--'` dashed line style (estilo de línea intermitente)\n",
    "\n",
    "`'-.'` dash-dot line style\n",
    "\n",
    "`':'` dotted line style\n"
   ]
  },
  {
   "cell_type": "markdown",
   "id": "a9cb0f9d",
   "metadata": {},
   "source": [
    "Combinando los caracteres de la forma **`'colormarcadorlinea'`** podemos personalizar cada trazo.\n",
    "Otra forma de hacerlo es agregar cada opción por separado: **`color=\"k\", linestyle=\"-\", marker=\"*\"`**\n",
    "\n",
    "Veamos ejemplos"
   ]
  },
  {
   "cell_type": "markdown",
   "id": "2d184bbd",
   "metadata": {},
   "source": [
    "##### Graficamos las funciones Seno y Coseno y aplicamos diferentes colores y formatos"
   ]
  },
  {
   "cell_type": "code",
   "execution_count": null,
   "id": "de055f93",
   "metadata": {},
   "outputs": [],
   "source": [
    "x = np.linspace(0,np.pi*4, 100)\n",
    "seno = np.sin(x)\n",
    "coseno = np.cos(x)"
   ]
  },
  {
   "cell_type": "code",
   "execution_count": null,
   "id": "fce4b4e4",
   "metadata": {},
   "outputs": [],
   "source": [
    "plt.plot(x, seno)\n",
    "plt.plot(x, coseno)\n",
    "plt.grid(True)"
   ]
  },
  {
   "cell_type": "code",
   "execution_count": null,
   "id": "e0bfb0cc",
   "metadata": {},
   "outputs": [],
   "source": [
    "plt.plot(x, seno, 'ro:')\n",
    "plt.plot(x, coseno, 'g-')"
   ]
  },
  {
   "cell_type": "markdown",
   "id": "2f1156bd",
   "metadata": {},
   "source": [
    "Otra forma de poner colores a los gráficos es mediante el código de cada color. Algunos de los mismos se encuentran en la siguiente [página](https://python-charts.com/es/colores/).\n",
    "Por ejemplo usamos el color \"chartreuse\" cuyo código es #7FFF00"
   ]
  },
  {
   "cell_type": "code",
   "execution_count": null,
   "id": "a365cb05",
   "metadata": {},
   "outputs": [],
   "source": [
    "plt.plot(x, seno, 'ro:')\n",
    "plt.plot(x, coseno, color=\"#7FFF00\")\n"
   ]
  },
  {
   "cell_type": "markdown",
   "id": "3251eddf",
   "metadata": {},
   "source": [
    "Por defecto pyhton usa una linea continua si no se especifican otras características. Para poder especificar diferentes formas o tipos de gráficos debemos agregarselos mediante comas (\",\") y lo que deseemos. Para esto tendrán que buscar en los sitios correspondientes e ir probando.\n",
    "\n",
    "Ahora probamos un grafíco con puntos como en del seno, el cual determinamos directamente con dos puntos (\":\") y ahora lo hacemos agregando  **marker = \"o\"** luego de una coma (\",\")."
   ]
  },
  {
   "cell_type": "code",
   "execution_count": null,
   "id": "9d017235",
   "metadata": {},
   "outputs": [],
   "source": [
    "plt.plot(x, seno, 'ro:')\n",
    "plt.plot(x, coseno, color=\"#7FFF00\", marker=\"o\")"
   ]
  },
  {
   "cell_type": "markdown",
   "id": "66bb9d59",
   "metadata": {},
   "source": [
    "Podemos ver diferentes maneras de llegar a un mismo resultado de gráfico, usando distintos códigos o formas de comunicarle a Python como hacer lo que tenemos en mente. "
   ]
  },
  {
   "cell_type": "markdown",
   "id": "32cacf07",
   "metadata": {},
   "source": [
    "Ahora jugamos un poco y hacemos los gráficos de Seno y Coseno agregando todas las carácterísticas que aprendimos hasta ahora."
   ]
  },
  {
   "cell_type": "code",
   "execution_count": null,
   "id": "b787e525",
   "metadata": {},
   "outputs": [],
   "source": [
    "plt.plot(x, seno, color=\"#8A2BE2\", linestyle=\"-\", linewidth=\"2\", marker=\"*\", label=\"Seno\")\n",
    "plt.plot(x, coseno, color=\"#008B8B\", linestyle=\" \", linewidth=\"2\", marker=\".\", label=\"Coseno\")\n",
    "plt.title('Funciones trigonométricas', fontsize=\"25\", color=\"#2F4F4F\")\n",
    "plt.xlabel('x', fontsize=\"20\")\n",
    "plt.ylabel('y', fontsize=\"20\")\n",
    "plt.legend()"
   ]
  },
  {
   "cell_type": "markdown",
   "id": "6663ed32",
   "metadata": {},
   "source": [
    "Una vez que tenemos el gráfico completo y listo como queremos mostrarlo podemos exportar el mismo en el formato que queramos tenerlo. Por ejemlo podemos exportar este gráfico en **\".png\"** para poder usarlo en alguna presentación de Power Point. \n",
    "Para hacer esto simplemtente debemos incorporar la linea de código: **plt.savefig**('Nombre del Gráfico'.png)."
   ]
  },
  {
   "cell_type": "code",
   "execution_count": null,
   "id": "56eb96d7",
   "metadata": {},
   "outputs": [],
   "source": [
    "plt.plot(x, seno, color=\"#8A2BE2\", linestyle=\"-\", linewidth=\"2\", marker=\"*\", label=\"Seno\")\n",
    "plt.plot(x, coseno, color=\"#008B8B\", linestyle=\" \", linewidth=\"2\", marker=\".\", label=\"Coseno\")\n",
    "plt.title('Funciones trigonométricas', fontsize=\"25\", color=\"#2F4F4F\")\n",
    "plt.xlabel('x', fontsize=\"20\")\n",
    "plt.ylabel('y', fontsize=\"20\")\n",
    "plt.legend()\n",
    "plt.savefig('Funciones Trigonométricas.png')"
   ]
  },
  {
   "cell_type": "markdown",
   "id": "3d3b7523",
   "metadata": {},
   "source": [
    "## Subplot\n",
    "\n",
    "También podemos generar diferentes gráficos (subplots) dentro de un mismo gráfico (plot) para mostrarlos todos juntos. No nos detendremos mucho en esto, dado que las categorías y formas de hacer los gráficos siguen la misma lógica que la mostrada hasta ahora. Pondremos un ejemplo para que se visualice esta forma de graficar.\n",
    "\n",
    "\n",
    "Para crear mas figuras en una misma ventana podemos utilizar el siguiente comando:\n",
    "`subplot(numRows, numCols, plotNum)`\n",
    "\n",
    "- **numRows** = Número de filas de la figura\n",
    "\n",
    "- **numCols** = Número de columnas de la figura\n",
    "\n",
    "- **plotNum** = Número de gráfica en la figura\n"
   ]
  },
  {
   "cell_type": "code",
   "execution_count": null,
   "id": "81cfc5dc",
   "metadata": {},
   "outputs": [],
   "source": [
    "#Seteamos los parametros\n",
    "a = np.linspace(0,20,50)\n",
    "b= np.sin(a)\n",
    "plt.figure()\n",
    "plt.suptitle('Título de la figura')\n",
    "\n",
    "\n",
    "# Primera gráfica\n",
    "plt.subplot(2,2,1)\n",
    "plt.plot(a, b,'r-')\n",
    "plt.title('gráfico 1')\n",
    "\n",
    "\n",
    "# Segunda gráfica\n",
    "plt.subplot(2,2,2)\n",
    "plt.plot(a+2, b*25,'g.')\n",
    "plt.title('gráfico 2')\n",
    "\n",
    "\n",
    "# Tercera gráfica\n",
    "plt.subplot(2,2,3)\n",
    "plt.plot(b, a,'b:')\n",
    "plt.title('gráfico 3')\n",
    "\n",
    "# Cuarta gráfica\n",
    "plt.subplot(2,2,4)\n",
    "plt.plot(a, b,'k-.')\n",
    "plt.title('gráfico 4')\n",
    "\n",
    "#Ajuste del gráfico\n",
    "plt.subplots_adjust(left=0.125,\n",
    "                    bottom=0.1, \n",
    "                    right=0.9, \n",
    "                    top=0.9, \n",
    "                    wspace=0.2, \n",
    "                    hspace=0.35)\n",
    "\n",
    "# Mostramos en pantalla\n",
    "plt.show()"
   ]
  },
  {
   "cell_type": "markdown",
   "id": "cf467590",
   "metadata": {},
   "source": [
    "## Gráficos de barras\n",
    "\n",
    "Otra forma de graficar y que se usa mucho para mostrar variaciones o lo que deseemos visualizar es el gráfico de barras y también está dentro de la librería de matplotlib.\n",
    "\n",
    "Para hacer estos gráficos usamos el código **`plt.bar([Lista 1] , [Valores de Lista 1])`** en dónde ponemos los elementos de la lista en el primer corchete y en el segundo los valores que se corresponden. Lo mostramos a continuación con un ejemplo:"
   ]
  },
  {
   "cell_type": "code",
   "execution_count": null,
   "id": "4ab6960e",
   "metadata": {},
   "outputs": [],
   "source": [
    "#Generamos un gráfico de cuatro barras\n",
    "plt.bar([0,1,2,3], [5, 10, 15, 20])\n",
    "plt.title('Gráfico de barras')"
   ]
  },
  {
   "cell_type": "code",
   "execution_count": null,
   "id": "7480c110",
   "metadata": {},
   "outputs": [],
   "source": [
    "x=[0,1,2,3]\n",
    "y=[5, 10, 15, 20]\n",
    "plt.bar(x, y)\n",
    "plt.title('Gráfico de barras')"
   ]
  },
  {
   "cell_type": "markdown",
   "id": "1a9071b6",
   "metadata": {},
   "source": [
    "Ahora supomos una lista que incluya a dos equipos: `['Equipo 1' , 'Equipo 2']`"
   ]
  },
  {
   "cell_type": "code",
   "execution_count": null,
   "id": "6e7c302c",
   "metadata": {},
   "outputs": [],
   "source": [
    "plt.bar(['Equipo 1', 'Equipo 2'], [10, 15])\n",
    "plt.title(\"Equipos\")"
   ]
  },
  {
   "cell_type": "markdown",
   "id": "8b7ccfbd",
   "metadata": {},
   "source": [
    "Cuando queremos poner dos valores para un mismo equipo, veamos lo que sucede si no especificamos nada:"
   ]
  },
  {
   "cell_type": "code",
   "execution_count": null,
   "id": "0939edcb",
   "metadata": {},
   "outputs": [],
   "source": [
    "plt.bar(['Equipo 1', 'Equipo 2'], [5, 8])\n",
    "plt.bar(['Equipo 1', 'Equipo 2'], [15, 15])"
   ]
  },
  {
   "cell_type": "markdown",
   "id": "70c98ab7",
   "metadata": {},
   "source": [
    "El gráfico queda superpuesto y no se visualiza lo que queríamos mostrar. Para esto Python lee la primera línea de código y la grafica y luego la segunda y la grafica, y así sucesivamente. Es por eso que si los primeros valores son menores a los de la segunda lista, se van a superponer. En este caso particular, donde **todos** los valores de la primera lista son menores a los de la segunda lista, podría escribirse \"al revés\", es decir primero los valores mas altos y luego los mas bajos y de esta forma Python tambien superpone los gráficos pero pueden visualizarse. \n",
    "\n",
    "Representemoslo:"
   ]
  },
  {
   "cell_type": "code",
   "execution_count": null,
   "id": "753ead41",
   "metadata": {},
   "outputs": [],
   "source": [
    "plt.bar(['Equipo 1', 'Equipo 2'], [15, 15])\n",
    "plt.bar(['Equipo 1', 'Equipo 2'], [5, 8])"
   ]
  },
  {
   "cell_type": "markdown",
   "id": "f8caec66",
   "metadata": {},
   "source": [
    "Otra forma de visualizar gráficos apilados, en caso de que haya valores alternados en las distintas listas, es especificando que valores queremos que aparezcan debajo del gráfico. Esto es:"
   ]
  },
  {
   "cell_type": "code",
   "execution_count": null,
   "id": "ae6e459c",
   "metadata": {},
   "outputs": [],
   "source": [
    "# Apilados\n",
    "plt.bar(['Equipo 1', 'Equipo 2'], [8, 15])\n",
    "plt.bar(['Equipo 1', 'Equipo 2'], [10, 5],  bottom = [8, 15]) # \"Levantamos el segundo gráfico\""
   ]
  },
  {
   "cell_type": "markdown",
   "id": "a9cc02a7",
   "metadata": {},
   "source": [
    "Otra manera es hacerlo de forma agrupada y también podemos dar formato al gráfico para visualizarlo de otra forma."
   ]
  },
  {
   "cell_type": "code",
   "execution_count": null,
   "id": "b3652579",
   "metadata": {},
   "outputs": [],
   "source": [
    "#Agrupados\n",
    "\n",
    "x = np.array([0,1]) #Seteamos el eje X\n",
    "y1 = [8, 15] # Seteamos los valores para la primera barra\n",
    "y2 = [10, 5] # Seteamos los valores para la segunda barra\n",
    "ancho = 0.3 #Seteamos el ancho de las barras\n",
    "\n",
    "plt.bar(x, y1, width=ancho, color=\"#FFA07A\")\n",
    "plt.bar(x+ancho, y2, width=ancho, color=\"#90EE90\")\n",
    "\n",
    "#titulos \n",
    "plt.title('Barras agrupadas', fontsize=16)\n",
    "plt.xlabel('Equipos', size=12)\n",
    "plt.ylabel('Puntos', size=12)\n",
    "#etiquetas en el eje x\n",
    "plt.xticks((x+ancho/2), ['Equipo 1', 'Equipo 2'])\n",
    "#leyendas\n",
    "plt.legend([\"Ronda 1\", \"Ronda 2\"])\n",
    "\n"
   ]
  },
  {
   "cell_type": "markdown",
   "id": "a389fd5d",
   "metadata": {},
   "source": [
    "Como vemos, matplotlib es muy poderoso, pero cuando queremos hacer gráficos customizados se vuelve más complejo. Por eso es importante leer la documentación y buscar ejemplos en internet que nos ayuden a hacer lo que queremos graficar."
   ]
  },
  {
   "cell_type": "markdown",
   "id": "0b131bb5",
   "metadata": {},
   "source": [
    "## Histogramas \n",
    "\n",
    "El número por defecto de clases (bins) de un histograma hecho con la función hist es 10. Los rangos de las barras se conocen como clases o intervalos. \n",
    "\n",
    "Sin embargo, esto puede que no sea la mejor opción para todos los conjuntos de datos. En este escenario, puedes utilizar el argumento bins para elegir un número de clases más adecuado o establecer un método de selección para que python los elija.\n"
   ]
  },
  {
   "cell_type": "code",
   "execution_count": null,
   "id": "d2f2692e",
   "metadata": {},
   "outputs": [],
   "source": [
    "#Seteamos una semilla para guardar el estado de una función aleatoria,\n",
    "#de modo que pueda generar los mismos números aleatorios en múltiples ejecuciones del código \n",
    "np.random.seed(0)\n",
    "\n",
    "#Generamos una muestra de 1000 observaciones de una distribucion normal estandar \n",
    "data = np.random.randn(1000)\n"
   ]
  },
  {
   "cell_type": "code",
   "execution_count": null,
   "id": "ff7ef135",
   "metadata": {},
   "outputs": [],
   "source": [
    "#Graficar\n",
    "#podes guardar la informacion de un histograma poniendo su nombre del lado izquierdo del igual\n",
    "n, bins, _ = plt.hist(data, bins='auto')\n",
    "plt.title('Histograma', fontsize=16)"
   ]
  },
  {
   "cell_type": "code",
   "execution_count": null,
   "id": "5d342321",
   "metadata": {},
   "outputs": [],
   "source": [
    "n"
   ]
  },
  {
   "cell_type": "code",
   "execution_count": null,
   "id": "fab7c6b5",
   "metadata": {},
   "outputs": [],
   "source": [
    "bins"
   ]
  },
  {
   "cell_type": "code",
   "execution_count": null,
   "id": "6aa53e28",
   "metadata": {},
   "outputs": [],
   "source": [
    "plt.bar(x=list(range(len(n))), width=0.5, height=n, color=\"#FF4500\")"
   ]
  },
  {
   "cell_type": "markdown",
   "id": "a2611b51",
   "metadata": {},
   "source": [
    "## Gráfico de dispersión"
   ]
  },
  {
   "cell_type": "code",
   "execution_count": 488,
   "id": "2255dc13",
   "metadata": {},
   "outputs": [
    {
     "data": {
      "image/png": "[encoded data removed]",
      "text/plain": [
       "<Figure size 800x600 with 1 Axes>"
      ]
     },
     "metadata": {},
     "output_type": "display_data"
    }
   ],
   "source": [
    "#generamos una distribución de datos en forma normal con media=0 y desvío=1 (500 observaciones)\n",
    "\n",
    "X = np.random.normal(0,1,500)\n",
    "Y = np.random.normal(0,1,500) \n",
    "\n",
    "\n",
    "plt.figure(figsize=(8,6))\n",
    "plt.scatter(X,Y, s=70, c=\"#8A2BE2\", alpha=0.5, edgecolor='black')\n",
    "plt.title('Gráfico de dispersión', fontsize=16)\n",
    "\n",
    "#Acortamos los ejes\n",
    "limite = 4\n",
    "plt.xlim(-limite, limite)\n",
    "plt.ylim(-limite, limite)\n",
    "\n",
    "plt.show()\n"
   ]
  },
  {
   "cell_type": "markdown",
   "id": "4d20d883",
   "metadata": {},
   "source": [
    "## Gráfico de torta"
   ]
  },
  {
   "cell_type": "code",
   "execution_count": 482,
   "id": "4287ff20",
   "metadata": {},
   "outputs": [
    {
     "data": {
      "text/plain": [
       "array([1., 1., 1., 1., 1., 1., 1.])"
      ]
     },
     "execution_count": 482,
     "metadata": {},
     "output_type": "execute_result"
    }
   ],
   "source": [
    "n = 7\n",
    "#Generamos un array de 1 \n",
    "Z = np.ones(n)\n",
    "Z\n"
   ]
  },
  {
   "cell_type": "code",
   "execution_count": 483,
   "id": "2d6823ff",
   "metadata": {},
   "outputs": [
    {
     "data": {
      "text/plain": [
       "array([1., 1., 1., 1., 1., 1., 2.])"
      ]
     },
     "execution_count": 483,
     "metadata": {},
     "output_type": "execute_result"
    }
   ],
   "source": [
    "#Le cambiamos el ultimo valor a un número 2\n",
    "Z[6] = 2\n",
    "Z"
   ]
  },
  {
   "cell_type": "code",
   "execution_count": 491,
   "id": "cd607a72",
   "metadata": {},
   "outputs": [
    {
     "data": {
      "image/png": "[encoded data removed]",
      "text/plain": [
       "<Figure size 640x480 with 1 Axes>"
      ]
     },
     "metadata": {},
     "output_type": "display_data"
    }
   ],
   "source": [
    "#elegimos dos colores\n",
    "colores = [\"#EE6055\",\"#60D394\"]\n",
    "plt.axes([0.025, 0.025, 0.95, 0.95])\n",
    "\n",
    "plt.pie(Z, explode=Z* .04, colors=colores,\n",
    "        wedgeprops={\"linewidth\": .5, \"edgecolor\": \"black\"})\n",
    "plt.title(\"Gráfico de torta\")\n",
    "\n",
    "#Guardamos el grafico\n",
    "plt.savefig('Gráfico de Torta.png')\n",
    "#mostramos el grafico\n",
    "plt.show()\n"
   ]
  },
  {
   "cell_type": "code",
   "execution_count": null,
   "id": "bf239712",
   "metadata": {},
   "outputs": [],
   "source": []
  }
 ],
 "metadata": {
  "kernelspec": {
   "display_name": "Python 3 (ipykernel)",
   "language": "python",
   "name": "python3"
  },
  "language_info": {
   "codemirror_mode": {
    "name": "ipython",
    "version": 3
   },
   "file_extension": ".py",
   "mimetype": "text/x-python",
   "name": "python",
   "nbconvert_exporter": "python",
   "pygments_lexer": "ipython3",
   "version": "3.9.12"
  }
 },
 "nbformat": 4,
 "nbformat_minor": 5
}
