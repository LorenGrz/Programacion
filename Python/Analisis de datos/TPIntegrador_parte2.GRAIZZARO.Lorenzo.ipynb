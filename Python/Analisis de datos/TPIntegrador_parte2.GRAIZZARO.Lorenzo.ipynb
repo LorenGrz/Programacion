{
 "cells": [
  {
   "cell_type": "markdown",
   "id": "c1be9434",
   "metadata": {},
   "source": [
    "# Curso introducción al análisis de datos con Python\n",
    "\n",
    "## Trabajo práctico integrador"
   ]
  },
  {
   "cell_type": "markdown",
   "id": "8cfdcc58",
   "metadata": {},
   "source": [
    "Para realizar este trabajo prático deberá utilizar la última base guardada de la Parte 1.\n",
    "\n",
    "La misma cuenta con los siguientes datos:\n",
    "- **`municipio`:** contiene a todos los municipios de la provincia de Buenos Aires (salvo Lezama).\n",
    "- **`principal_actividad_económica`:** es una variable categórica que indica cuál es la actividad principal del municipio.\n",
    "- **`pob_total_2010`:** contiene la población total del año 2010 para cada municipio.\n",
    "- **`pob_varones_2010`:** contiene la población de varones del año 2010 para cada municipio.\n",
    "- **`pob_mujeres_2010`:** contiene la población de mujeres del año 2010 para cada municipio.\n",
    "- **`pob_total_2022`:** contiene la población total del año 2022 para cada municipio.\n",
    "- **`pob_varones_2022`:** contiene la población de varones del año 2022 para cada municipio.\n",
    "- **`pob_mujeres_2022`:** contiene la población de mujeres del año 2022 para cada municipio.\n",
    "- **`participacion_pbg`:** contine la participación de cada municipio en el PBG de la provincia.\n",
    "- **`participacion_recursos`:** contine la participación de cada municipio en los recursos de la provincia.\n",
    "- **`participacion_pob_nbi`:** contine la participación de cada municipio en la población total de la provincia con Necesidades Básicas Insatisfechas.\n",
    "- **`part_varones_sobre_mujeres`:** contiene la participación de la población de varones sobre la de mujeres para el año 2010.\n",
    "\n"
   ]
  },
  {
   "cell_type": "markdown",
   "id": "fd8fb6a9",
   "metadata": {},
   "source": [
    "## Parte 2 "
   ]
  },
  {
   "cell_type": "markdown",
   "id": "89a65eaf",
   "metadata": {},
   "source": [
    "**Ejercicio 1:** Importar **todas las librerías** que sean necesarias con los nombres que desee."
   ]
  },
  {
   "cell_type": "code",
   "execution_count": 123,
   "id": "36ed27b0",
   "metadata": {},
   "outputs": [],
   "source": [
    "# Tratamiento de datos\n",
    "import pandas as pd\n",
    "import numpy as np\n",
    "\n",
    "# Gráficos\n",
    "import matplotlib.pyplot as plt\n",
    "from matplotlib import style\n",
    "from matplotlib import colors\n",
    "import seaborn as sns\n",
    "\n",
    "# Preprocesado y modelado\n",
    "from scipy.stats import pearsonr\n",
    "from sklearn.linear_model import LinearRegression\n",
    "from sklearn.model_selection import train_test_split\n",
    "from sklearn.metrics import r2_score\n",
    "from sklearn.metrics import mean_squared_error\n",
    "import statsmodels.api as sm\n",
    "import statsmodels.formula.api as smf\n",
    "from statsmodels.stats.anova import anova_lm\n",
    "from scipy import stats\n",
    "\n",
    "# Configuración matplotlib\n",
    "plt.rcParams['image.cmap'] = \"bwr\"\n",
    "plt.rcParams['savefig.bbox'] = \"tight\"\n",
    "style.use('ggplot') or plt.style.use('ggplot')\n",
    "\n",
    "# Configuración warnings\n",
    "import warnings\n",
    "warnings.filterwarnings('ignore')"
   ]
  },
  {
   "cell_type": "markdown",
   "id": "129394ee",
   "metadata": {},
   "source": [
    "**Ejercicio 2:**  Cargar la base de datos que guardaste de la primera parte \"municipios_pba\" como un dataframe de pandas que se llame `municipios_df` para empezar a trabajar."
   ]
  },
  {
   "cell_type": "code",
   "execution_count": 124,
   "id": "46e9243a",
   "metadata": {},
   "outputs": [
    {
     "data": {
      "text/plain": [
       "pandas.core.frame.DataFrame"
      ]
     },
     "execution_count": 124,
     "metadata": {},
     "output_type": "execute_result"
    }
   ],
   "source": [
    "#Cargue la base\n",
    "municipios_df = pd.read_excel(\"municipios_pba1.xlsx\")\n",
    "type(municipios_df)"
   ]
  },
  {
   "cell_type": "code",
   "execution_count": 125,
   "id": "abe3278d",
   "metadata": {},
   "outputs": [
    {
     "data": {
      "text/html": [
       "<div>\n",
       "<style scoped>\n",
       "    .dataframe tbody tr th:only-of-type {\n",
       "        vertical-align: middle;\n",
       "    }\n",
       "\n",
       "    .dataframe tbody tr th {\n",
       "        vertical-align: top;\n",
       "    }\n",
       "\n",
       "    .dataframe thead th {\n",
       "        text-align: right;\n",
       "    }\n",
       "</style>\n",
       "<table border=\"1\" class=\"dataframe\">\n",
       "  <thead>\n",
       "    <tr style=\"text-align: right;\">\n",
       "      <th></th>\n",
       "      <th>Unnamed: 0</th>\n",
       "      <th>municipio</th>\n",
       "      <th>pob_total_2010</th>\n",
       "      <th>pob_varones_2010</th>\n",
       "      <th>pob_mujeres_2010</th>\n",
       "      <th>pob_total_2022</th>\n",
       "      <th>pob_varones_2022</th>\n",
       "      <th>pob_mujeres_2022</th>\n",
       "      <th>principal_actividad_economica</th>\n",
       "      <th>participacion_recursos</th>\n",
       "      <th>participacion_pbg</th>\n",
       "      <th>participacion_pob_nbi</th>\n",
       "      <th>dif_pob</th>\n",
       "      <th>part_varones_sobre_mujeres</th>\n",
       "    </tr>\n",
       "  </thead>\n",
       "  <tbody>\n",
       "    <tr>\n",
       "      <th>0</th>\n",
       "      <td>0</td>\n",
       "      <td>Adolfo Alsina</td>\n",
       "      <td>17222</td>\n",
       "      <td>8514</td>\n",
       "      <td>8708</td>\n",
       "      <td>17532</td>\n",
       "      <td>8545</td>\n",
       "      <td>8987</td>\n",
       "      <td>Agricultura y ganadería</td>\n",
       "      <td>0.001148</td>\n",
       "      <td>0.002207</td>\n",
       "      <td>0.000450</td>\n",
       "      <td>310</td>\n",
       "      <td>0.977722</td>\n",
       "    </tr>\n",
       "    <tr>\n",
       "      <th>1</th>\n",
       "      <td>1</td>\n",
       "      <td>Adolfo Gonzales Chaves</td>\n",
       "      <td>12168</td>\n",
       "      <td>5993</td>\n",
       "      <td>6175</td>\n",
       "      <td>11877</td>\n",
       "      <td>5799</td>\n",
       "      <td>6078</td>\n",
       "      <td>Agricultura y ganadería</td>\n",
       "      <td>0.000811</td>\n",
       "      <td>0.001626</td>\n",
       "      <td>0.000282</td>\n",
       "      <td>-291</td>\n",
       "      <td>0.970526</td>\n",
       "    </tr>\n",
       "    <tr>\n",
       "      <th>2</th>\n",
       "      <td>2</td>\n",
       "      <td>Alberti</td>\n",
       "      <td>10746</td>\n",
       "      <td>5246</td>\n",
       "      <td>5500</td>\n",
       "      <td>11041</td>\n",
       "      <td>5408</td>\n",
       "      <td>5633</td>\n",
       "      <td>Agricultura y ganadería</td>\n",
       "      <td>0.000920</td>\n",
       "      <td>0.001281</td>\n",
       "      <td>0.000204</td>\n",
       "      <td>295</td>\n",
       "      <td>0.953818</td>\n",
       "    </tr>\n",
       "    <tr>\n",
       "      <th>3</th>\n",
       "      <td>3</td>\n",
       "      <td>Almirante Brown</td>\n",
       "      <td>557025</td>\n",
       "      <td>273352</td>\n",
       "      <td>283673</td>\n",
       "      <td>605271</td>\n",
       "      <td>297635</td>\n",
       "      <td>307636</td>\n",
       "      <td>Ind. Manufacturera</td>\n",
       "      <td>0.019132</td>\n",
       "      <td>0.019951</td>\n",
       "      <td>0.042875</td>\n",
       "      <td>48246</td>\n",
       "      <td>0.963617</td>\n",
       "    </tr>\n",
       "    <tr>\n",
       "      <th>4</th>\n",
       "      <td>4</td>\n",
       "      <td>Arrecifes</td>\n",
       "      <td>29252</td>\n",
       "      <td>14136</td>\n",
       "      <td>15116</td>\n",
       "      <td>31709</td>\n",
       "      <td>15316</td>\n",
       "      <td>16393</td>\n",
       "      <td>Agricultura y ganadería</td>\n",
       "      <td>0.001729</td>\n",
       "      <td>0.002410</td>\n",
       "      <td>0.001089</td>\n",
       "      <td>2457</td>\n",
       "      <td>0.935168</td>\n",
       "    </tr>\n",
       "  </tbody>\n",
       "</table>\n",
       "</div>"
      ],
      "text/plain": [
       "   Unnamed: 0               municipio  pob_total_2010  pob_varones_2010  \\\n",
       "0           0           Adolfo Alsina           17222              8514   \n",
       "1           1  Adolfo Gonzales Chaves           12168              5993   \n",
       "2           2                 Alberti           10746              5246   \n",
       "3           3         Almirante Brown          557025            273352   \n",
       "4           4               Arrecifes           29252             14136   \n",
       "\n",
       "   pob_mujeres_2010  pob_total_2022  pob_varones_2022  pob_mujeres_2022  \\\n",
       "0              8708           17532              8545              8987   \n",
       "1              6175           11877              5799              6078   \n",
       "2              5500           11041              5408              5633   \n",
       "3            283673          605271            297635            307636   \n",
       "4             15116           31709             15316             16393   \n",
       "\n",
       "  principal_actividad_economica  participacion_recursos  participacion_pbg  \\\n",
       "0       Agricultura y ganadería                0.001148           0.002207   \n",
       "1       Agricultura y ganadería                0.000811           0.001626   \n",
       "2       Agricultura y ganadería                0.000920           0.001281   \n",
       "3            Ind. Manufacturera                0.019132           0.019951   \n",
       "4       Agricultura y ganadería                0.001729           0.002410   \n",
       "\n",
       "   participacion_pob_nbi  dif_pob  part_varones_sobre_mujeres  \n",
       "0               0.000450      310                    0.977722  \n",
       "1               0.000282     -291                    0.970526  \n",
       "2               0.000204      295                    0.953818  \n",
       "3               0.042875    48246                    0.963617  \n",
       "4               0.001089     2457                    0.935168  "
      ]
     },
     "execution_count": 125,
     "metadata": {},
     "output_type": "execute_result"
    }
   ],
   "source": [
    "#Muestre las primeras observaciones\n",
    "municipios_df.head(5)"
   ]
  },
  {
   "cell_type": "markdown",
   "id": "5bcd6aff",
   "metadata": {},
   "source": [
    "**Ejercicio 3:**  Suponga que usted es un analista y le solicitan que realice estadística inferencial para poder explicar los recursos disponibles de los municipios. Para eso nos interesa ver la correlación de la participación de los recursos de cada municipio en la provincia de Buenos Aires con la participación del Producto Bruto Geográfico de la PBA. \n",
    "Escribir el código para hallar esto:"
   ]
  },
  {
   "cell_type": "code",
   "execution_count": 126,
   "id": "0dd82b60",
   "metadata": {},
   "outputs": [
    {
     "name": "stdout",
     "output_type": "stream",
     "text": [
      "La correlación entre la participación de recursos y el PBG es:  0.7842395978812537\n",
      "P-value:  3.8231418206119576e-29\n"
     ]
    }
   ],
   "source": [
    "#pearsonr\n",
    "# Correlación entre las dos variables\n",
    "corr_pbg = pearsonr(x = municipios_df['participacion_pbg'], y =  municipios_df['participacion_recursos'])\n",
    "print(\"La correlación entre la participación de recursos y el PBG es: \", corr_pbg[0])\n",
    "print(\"P-value: \", corr_pbg[1])\n",
    "\n",
    "#modelo:\n",
    "modelo = LinearRegression()"
   ]
  },
  {
   "cell_type": "markdown",
   "id": "cb48dc4b",
   "metadata": {},
   "source": [
    "**Ejercicio 4:** Realizar una regresión usando como variable explicada \"participacion_recursos\" y como variable explicativa \"participacion_pbg\", utilizando el 95% de la muestra como \"train\", y analice cuales son los resultados obtenidos:\n",
    "- R cuadrado\n",
    "- Significatividad\n",
    "- Interpretación de los coeficientes"
   ]
  },
  {
   "cell_type": "code",
   "execution_count": 127,
   "id": "e602d039",
   "metadata": {},
   "outputs": [],
   "source": [
    "#values.reshape(-1,1)\n",
    "#train\n",
    "#test\n",
    "X = municipios_df[['participacion_pbg']] \n",
    "y = municipios_df['participacion_recursos']\n",
    "\n",
    "# División de los datos en train y test\n",
    "X_train, X_test, y_train, y_test = train_test_split(\n",
    "                                        X.values.reshape(-1,1),\n",
    "                                        y.values.reshape(-1,1),\n",
    "                                        train_size   = 0.95,\n",
    "                                        random_state = 1234,\n",
    "                                        shuffle      = True\n",
    "                                    )"
   ]
  },
  {
   "cell_type": "code",
   "execution_count": 128,
   "id": "79a3b89b",
   "metadata": {},
   "outputs": [
    {
     "name": "stdout",
     "output_type": "stream",
     "text": [
      "                            OLS Regression Results                            \n",
      "==============================================================================\n",
      "Dep. Variable:                      y   R-squared:                       0.614\n",
      "Model:                            OLS   Adj. R-squared:                  0.611\n",
      "Method:                 Least Squares   F-statistic:                     198.9\n",
      "Date:                Tue, 31 Oct 2023   Prob (F-statistic):           1.29e-27\n",
      "Time:                        03:08:08   Log-Likelihood:                 441.02\n",
      "No. Observations:                 127   AIC:                            -878.0\n",
      "Df Residuals:                     125   BIC:                            -872.3\n",
      "Df Model:                           1                                         \n",
      "Covariance Type:            nonrobust                                         \n",
      "==============================================================================\n",
      "                 coef    std err          t      P>|t|      [0.025      0.975]\n",
      "------------------------------------------------------------------------------\n",
      "const          0.0012      0.001      1.490      0.139      -0.000       0.003\n",
      "x1             0.8378      0.059     14.104      0.000       0.720       0.955\n",
      "==============================================================================\n",
      "Omnibus:                       62.343   Durbin-Watson:                   1.966\n",
      "Prob(Omnibus):                  0.000   Jarque-Bera (JB):             1471.511\n",
      "Skew:                          -0.999   Prob(JB):                         0.00\n",
      "Kurtosis:                      19.556   Cond. No.                         88.4\n",
      "==============================================================================\n",
      "\n",
      "Notes:\n",
      "[1] Standard Errors assume that the covariance matrix of the errors is correctly specified.\n"
     ]
    }
   ],
   "source": [
    "#add_constant\n",
    "#OLS\n",
    "#fit()\n",
    "X_train = sm.add_constant(X_train, prepend=True)\n",
    "modelo = sm.OLS(endog = y_train, exog = X_train,)\n",
    "modelo = modelo.fit()\n",
    "print(modelo.summary())"
   ]
  },
  {
   "cell_type": "markdown",
   "id": "0e02809d",
   "metadata": {},
   "source": [
    "**Interpretaciones de la regresión simple:**\n",
    "\n",
    "Escribir la interpretación del ejercicio 4:\n",
    "\n",
    " -Estos resultados sugieren que el modelo de regresión lineal simple es significativo en la predicción de los recursos y que la variable 'participacion_pbg' es altamente significativa en la predicción de los ingresos, con un R-cuadrado de alrededor del 61.4%.\n",
    " \n",
    " -El valor del estadístico F es 198.9 y la probabilidad es muy baja (1.29e-27), lo que indica que el modelo en su conjunto es significativo.\n",
    "\n",
    " -En este caso, 'participacion_pbg' tiene un coeficiente de 0.8378, lo que significa que, en promedio, por cada unidad adicional en 'participacion_pbg', se espera un aumento de 0.8378 unidades en 'participacion_recursos'."
   ]
  },
  {
   "cell_type": "markdown",
   "id": "6326e1e5",
   "metadata": {},
   "source": [
    "**Ejercicio 5:**  Ahora es interesante agregar otra variable al modelo para ver si ajusta mejor. Se observa en el dataframe que  la variable \"participacion_pob_nbi\" podria ser relevante para explicar el modelo. \n",
    "Realizar la correlación entre la participación de los recursos de cada municipio en la provincia de Buenos Aires y la participación en la población con NBI:\n",
    " "
   ]
  },
  {
   "cell_type": "code",
   "execution_count": 129,
   "id": "1aedf0c7",
   "metadata": {},
   "outputs": [
    {
     "name": "stdout",
     "output_type": "stream",
     "text": [
      "La correlación entre la participación de recursos y el la población con NBI es:  0.35189784009662783\n",
      "P-value:  3.052528166986341e-05\n"
     ]
    }
   ],
   "source": [
    "#pearsonr\n",
    "x = municipios_df[['participacion_pbg', 'participacion_pob_nbi']]\n",
    "y = municipios_df['participacion_recursos']\n",
    "corr_pob_nbi = pearsonr(x['participacion_pob_nbi'], y)\n",
    "print(\"La correlación entre la participación de recursos y el la población con NBI es: \", corr_pob_nbi[0])\n",
    "print(\"P-value: \", corr_pob_nbi[1])"
   ]
  },
  {
   "cell_type": "markdown",
   "id": "9534fbd5",
   "metadata": {},
   "source": [
    "**Ejercicio 6:**  Realizar una regresión multimple con las mismas variables que el ejercicio 4 y agregando la variable explicativa \"participacion_pob_nbi\". Recuerde utilizar el 95% de la muestra para \"train\".\n",
    "Interpretar nuevamente los resultados obtenidos:\n",
    "- R cuadrado\n",
    "- Significatividad\n",
    "- Interpretación de los coeficientes"
   ]
  },
  {
   "cell_type": "code",
   "execution_count": 130,
   "id": "c9a3738b",
   "metadata": {},
   "outputs": [],
   "source": [
    "#train\n",
    "#test\n",
    "x = municipios_df[['participacion_pbg', 'participacion_pob_nbi']]\n",
    "y = municipios_df['participacion_recursos']\n",
    "X_train, X_test, y_train, y_test = train_test_split(\n",
    "                                        x,\n",
    "                                        y.values.reshape(-1,1),\n",
    "                                        train_size   = 0.95,\n",
    "                                        random_state = 1234,\n",
    "                                        shuffle      = True\n",
    "                                    )"
   ]
  },
  {
   "cell_type": "code",
   "execution_count": 131,
   "id": "0cefc817",
   "metadata": {
    "scrolled": false
   },
   "outputs": [
    {
     "name": "stdout",
     "output_type": "stream",
     "text": [
      "                            OLS Regression Results                            \n",
      "==============================================================================\n",
      "Dep. Variable:                      y   R-squared:                       0.703\n",
      "Model:                            OLS   Adj. R-squared:                  0.699\n",
      "Method:                 Least Squares   F-statistic:                     147.1\n",
      "Date:                Tue, 31 Oct 2023   Prob (F-statistic):           1.86e-33\n",
      "Time:                        03:08:14   Log-Likelihood:                 457.74\n",
      "No. Observations:                 127   AIC:                            -909.5\n",
      "Df Residuals:                     124   BIC:                            -900.9\n",
      "Df Model:                           2                                         \n",
      "Covariance Type:            nonrobust                                         \n",
      "=========================================================================================\n",
      "                            coef    std err          t      P>|t|      [0.025      0.975]\n",
      "-----------------------------------------------------------------------------------------\n",
      "const                     0.0010      0.001      1.391      0.167      -0.000       0.002\n",
      "participacion_pbg         1.1629      0.075     15.592      0.000       1.015       1.311\n",
      "participacion_pob_nbi    -0.2936      0.048     -6.112      0.000      -0.389      -0.199\n",
      "==============================================================================\n",
      "Omnibus:                       40.444   Durbin-Watson:                   1.966\n",
      "Prob(Omnibus):                  0.000   Jarque-Bera (JB):              287.266\n",
      "Skew:                           0.803   Prob(JB):                     4.18e-63\n",
      "Kurtosis:                      10.191   Cond. No.                         141.\n",
      "==============================================================================\n",
      "\n",
      "Notes:\n",
      "[1] Standard Errors assume that the covariance matrix of the errors is correctly specified.\n"
     ]
    }
   ],
   "source": [
    "#add_constant\n",
    "#OLS\n",
    "#fit()\n",
    "X_train = sm.add_constant(X_train, prepend=True)\n",
    "modelo = sm.OLS(endog=y_train, exog=X_train,)\n",
    "modelo = modelo.fit()\n",
    "print(modelo.summary())"
   ]
  },
  {
   "cell_type": "markdown",
   "id": "537d10cc",
   "metadata": {},
   "source": [
    "**Interpretaciones de la regresión simple:**\n",
    "\n",
    "Escribir la interpretación del ejercicio 5:\n",
    "\n",
    "-En este caso, el R-cuadrado es de 0.703, lo que significa que aproximadamente el 70.3% de la variación en 'y' se puede explicar utilizando las variables independientes en el modelo.\n",
    "\n",
    "-El valor del estadístico F es 147.1 y la probabilidad es muy baja (1.86e-33), lo que indica que el modelo en su conjunto es significativo.\n",
    "\n",
    "-En este caso, el coeficiente para la constante es 0.0010, lo que es el valor esperado de 'participacion_recursos' cuando todas las variables independientes son cero. El coeficiente para 'participacion_pbg' es 1.1629, lo que significa que, en promedio, un aumento de una unidad en 'participacion_pbg' está asociado con un aumento de 1.1629 unidades en 'participacion_recursos'. El coeficiente para 'participacion_pob_nbi' es -0.2936, lo que significa que un aumento en 'participacion_pob_nbi' está asociado con una disminución de 0.2936 unidades en 'participacion_recursos'.\n"
   ]
  },
  {
   "cell_type": "markdown",
   "id": "dbd5179b",
   "metadata": {},
   "source": [
    "**Ejercicio 7:** Por último queremos saber si el índice de masculinidad es relevante para explicar el modelo. Para eso primero ealizar la correlación entre la participación de los recursos de cada municipio en la provincia de Buenos Aires y el índice de masculinidad para el año 2010."
   ]
  },
  {
   "cell_type": "code",
   "execution_count": 132,
   "id": "67c803e0",
   "metadata": {},
   "outputs": [
    {
     "name": "stdout",
     "output_type": "stream",
     "text": [
      "La correlación entre la participación de recursos y el índice de masculinidad es:  0.520242102683155\n",
      "P-value:  1.1748669891060645e-10\n"
     ]
    }
   ],
   "source": [
    "#pearsonr\n",
    "x = municipios_df[['pob_varones_2010']]\n",
    "y = municipios_df['participacion_recursos']\n",
    "corr_var2010 = pearsonr(x = municipios_df['pob_varones_2010'], y = municipios_df['participacion_recursos'])\n",
    "\n",
    "print(\"La correlación entre la participación de recursos y el índice de masculinidad es: \", corr_var2010[0])\n",
    "print(\"P-value: \", corr_var2010[1])"
   ]
  },
  {
   "cell_type": "markdown",
   "id": "a84109d4",
   "metadata": {},
   "source": [
    "**Ejercicio 8:**  Realizar una regresión múltiple con las mismas variables que el ejercicio 6 y agregando la variable explicativa \"part_varones_sobre_mujeres\" (índice de masculinidad del municipio). Recuerde utilizar el 95% de la muestra para \"train\".\n",
    "Interpretar nuevamente los resultados obtenidos:\n",
    "- R cuadrado\n",
    "- Significatividad\n",
    "- Interpretación de los coeficientes"
   ]
  },
  {
   "cell_type": "code",
   "execution_count": 133,
   "id": "b5531e51",
   "metadata": {},
   "outputs": [],
   "source": [
    "#train\n",
    "#test\n",
    "x = municipios_df[['pob_varones_2010', 'part_varones_sobre_mujeres']]\n",
    "y = municipios_df['participacion_recursos']\n",
    "X_train, X_test, y_train, y_test = train_test_split(\n",
    "                                        x,\n",
    "                                        y.values.reshape(-1,1),\n",
    "                                        train_size   = 0.95,\n",
    "                                        random_state = 1234,\n",
    "                                        shuffle      = True\n",
    "                                    )"
   ]
  },
  {
   "cell_type": "code",
   "execution_count": 135,
   "id": "6f0e50ac",
   "metadata": {
    "scrolled": false
   },
   "outputs": [
    {
     "name": "stdout",
     "output_type": "stream",
     "text": [
      "                            OLS Regression Results                            \n",
      "==============================================================================\n",
      "Dep. Variable:                      y   R-squared:                       0.313\n",
      "Model:                            OLS   Adj. R-squared:                  0.302\n",
      "Method:                 Least Squares   F-statistic:                     28.28\n",
      "Date:                Tue, 31 Oct 2023   Prob (F-statistic):           7.59e-11\n",
      "Time:                        03:10:16   Log-Likelihood:                 404.42\n",
      "No. Observations:                 127   AIC:                            -802.8\n",
      "Df Residuals:                     124   BIC:                            -794.3\n",
      "Df Model:                           2                                         \n",
      "Covariance Type:            nonrobust                                         \n",
      "==============================================================================================\n",
      "                                 coef    std err          t      P>|t|      [0.025      0.975]\n",
      "----------------------------------------------------------------------------------------------\n",
      "const                          0.0514      0.017      3.085      0.003       0.018       0.084\n",
      "pob_varones_2010            5.391e-08   8.83e-09      6.109      0.000    3.64e-08    7.14e-08\n",
      "part_varones_sobre_mujeres    -0.0479      0.017     -2.845      0.005      -0.081      -0.015\n",
      "==============================================================================\n",
      "Omnibus:                       38.286   Durbin-Watson:                   1.957\n",
      "Prob(Omnibus):                  0.000   Jarque-Bera (JB):              385.739\n",
      "Skew:                           0.577   Prob(JB):                     1.73e-84\n",
      "Kurtosis:                      11.460   Cond. No.                     3.16e+06\n",
      "==============================================================================\n",
      "\n",
      "Notes:\n",
      "[1] Standard Errors assume that the covariance matrix of the errors is correctly specified.\n",
      "[2] The condition number is large, 3.16e+06. This might indicate that there are\n",
      "strong multicollinearity or other numerical problems.\n"
     ]
    }
   ],
   "source": [
    "#add_constant\n",
    "#OLS\n",
    "#fit()\n",
    "X_train = sm.add_constant(X_train, prepend=True)\n",
    "modelo = sm.OLS(endog=y_train, exog=X_train,)\n",
    "modelo = modelo.fit()\n",
    "print(modelo.summary())"
   ]
  },
  {
   "cell_type": "markdown",
   "id": "0f815bfc",
   "metadata": {},
   "source": [
    "**Interpretacion de los datos:**\n",
    "\n",
    " -En este caso, el R-cuadrado es de 0.313, lo que significa que aproximadamente el 31.3% de la variación en 'participacion_recursos' se puede explicar utilizando las variables independientes en el modelo. \n",
    "\n",
    "-El valor del estadístico F es 28.28 y la probabilidad es muy baja (7.59e-11), lo que indica que el modelo en su conjunto es significativo.\n",
    "\n",
    "-El coeficiente para 'pob_varones_2010' es 5.391e-08, lo que se puede considerar como un aumento extremadamente pequeño en 'participacion_recursos', pero es practicamente 0. El coeficiente para 'part_varones_sobre_mujeres' es  -0.0479, lo que significa que un aumento en 'part_varones_sobre_mujeres' está asociado con una disminución en 'participacion_recursos'."
   ]
  },
  {
   "cell_type": "markdown",
   "id": "ceb3fdd1",
   "metadata": {},
   "source": [
    "**Ejercicio 9:**  A modo de conclusión se pide un análisis de las estadísticas realizadas. ¿Es pertinente agregar la variable de la participación de la poblacion con NBI? ¿Y la variable que mide el índice de masculinidad para el año 2010?"
   ]
  },
  {
   "cell_type": "markdown",
   "id": "56bb417b",
   "metadata": {},
   "source": [
    "**Analisis:**\n",
    " \n",
    " -Si es pertinente agregar la participación con NBI ya que indica que un aumento en 'participacion_pob_nbi' está asociado con una disminución de 0.2936 unidades en 'participacion_recursos', y eso es importante.\n",
    " \n",
    " -La variable que mide el indice de masculinidad en cambio si bien se asocia con un aumento, no es para nada pertinente, ya que al tener un coeficiente de 5.391e-08 se puede decir que es practicamente 0."
   ]
  }
 ],
 "metadata": {
  "kernelspec": {
   "display_name": "Python 3 (ipykernel)",
   "language": "python",
   "name": "python3"
  },
  "language_info": {
   "codemirror_mode": {
    "name": "ipython",
    "version": 3
   },
   "file_extension": ".py",
   "mimetype": "text/x-python",
   "name": "python",
   "nbconvert_exporter": "python",
   "pygments_lexer": "ipython3",
   "version": "3.11.5"
  }
 },
 "nbformat": 4,
 "nbformat_minor": 5
}
