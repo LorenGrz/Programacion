{
 "cells": [
  {
   "cell_type": "markdown",
   "id": "7e878cc2",
   "metadata": {},
   "source": [
    "# Expresiones"
   ]
  },
  {
   "cell_type": "markdown",
   "id": "72b25242",
   "metadata": {},
   "source": [
    "Avancemos un poco más con el diseño del código. Todos los lenguajes de programación tienen la capacidad de ejecutar `operaciones matemáticas simples` (suma, resta, multiplicación, división); es decir, incorporan una suerte de calculadora virtual que podemos usar en nuestros programas para hacer este tipo de operaciones. La `sintaxis` (por sintaxis entendemos el orden y la relación de los términos de un lenguaje necesarios para que una instrucción sea comprendida) para realizar una suma en Python es similar a la que usamos en matemática para expresar dicha operación."
   ]
  },
  {
   "cell_type": "code",
   "execution_count": null,
   "id": "97558d28",
   "metadata": {},
   "outputs": [],
   "source": [
    "#Suma\n",
    "print(4+3)\n",
    "#Resta\n",
    "print(5-2)\n",
    "#Multiplicación\n",
    "print(3 * 5)\n",
    "#División\n",
    "print(10 / 2)"
   ]
  },
  {
   "cell_type": "code",
   "execution_count": null,
   "id": "69db3680",
   "metadata": {},
   "outputs": [],
   "source": [
    "# No hace falta escribir \"print\" ni usar los paréntesis para realizar este tipo de operaciones\n",
    "4+3"
   ]
  },
  {
   "cell_type": "code",
   "execution_count": null,
   "id": "68cc920b",
   "metadata": {},
   "outputs": [],
   "source": [
    "print(\"sofia\")"
   ]
  },
  {
   "cell_type": "code",
   "execution_count": null,
   "id": "2aaaffc3",
   "metadata": {},
   "outputs": [],
   "source": [
    "#Corre las siguientes celdas y descubre que funciones se utilizan\n",
    "print(4 ** 2)\n",
    "print(18 % 7)\n",
    "print(7//2)"
   ]
  },
  {
   "cell_type": "markdown",
   "id": "a2082a7a",
   "metadata": {},
   "source": [
    "### Explicación\n",
    "\n",
    "La primera función es la *potenciación*, esto es, $4^2$\n",
    " \n",
    "El operador *%* devuelve el resto de la division, en este caso entre 18 y 7 (llamado `módulo`)\n",
    "\n",
    "El operador *//* devuelve el cociente de la division entre 7 y 3"
   ]
  },
  {
   "cell_type": "markdown",
   "id": "85aa4066",
   "metadata": {},
   "source": [
    "## Variables y Estructura de datos\n",
    "\n",
    "### Asignación de variables:\n",
    "\n",
    "En Python, una variable permite referir a un valor utilizando un nombre en especifico. Para crear una variable, se debe usar `=` como en el siguiente ejemplo:"
   ]
  },
  {
   "cell_type": "code",
   "execution_count": 1,
   "id": "37a78d99",
   "metadata": {},
   "outputs": [],
   "source": [
    "b = \"Hola mundo\""
   ]
  },
  {
   "cell_type": "code",
   "execution_count": 2,
   "id": "921cb5fd",
   "metadata": {},
   "outputs": [
    {
     "data": {
      "text/plain": [
       "'Hola mundo'"
      ]
     },
     "execution_count": 2,
     "metadata": {},
     "output_type": "execute_result"
    }
   ],
   "source": [
    "# Ejecuta para llamar a la variable recién creada\n",
    "b"
   ]
  },
  {
   "cell_type": "code",
   "execution_count": 3,
   "id": "62ba8eed",
   "metadata": {},
   "outputs": [],
   "source": [
    "#Asigna 100 a la variable mi_variable\n",
    "mi_variable = 100"
   ]
  },
  {
   "cell_type": "code",
   "execution_count": 4,
   "id": "bbce917f",
   "metadata": {},
   "outputs": [
    {
     "name": "stdout",
     "output_type": "stream",
     "text": [
      "100\n"
     ]
    }
   ],
   "source": [
    "#Muestra el contenido de la variable\n",
    "print(mi_variable)"
   ]
  },
  {
   "cell_type": "markdown",
   "id": "ad047d01",
   "metadata": {},
   "source": [
    "Generemos ahora una variable que esté formada por una operación entre otras variables"
   ]
  },
  {
   "cell_type": "code",
   "execution_count": 5,
   "id": "61c2a02f",
   "metadata": {},
   "outputs": [
    {
     "ename": "NameError",
     "evalue": "name 'factor' is not defined",
     "output_type": "error",
     "traceback": [
      "\u001b[1;31m---------------------------------------------------------------------------\u001b[0m",
      "\u001b[1;31mNameError\u001b[0m                                 Traceback (most recent call last)",
      "Input \u001b[1;32mIn [5]\u001b[0m, in \u001b[0;36m<cell line: 1>\u001b[1;34m()\u001b[0m\n\u001b[1;32m----> 1\u001b[0m resultado \u001b[38;5;241m=\u001b[39m \u001b[43mfactor\u001b[49m\u001b[38;5;241m*\u001b[39m\u001b[38;5;241m*\u001b[39m\u001b[38;5;241m7\u001b[39m\u001b[38;5;241m*\u001b[39m mi_variable\n\u001b[0;32m      2\u001b[0m \u001b[38;5;28mprint\u001b[39m(resultado)\n",
      "\u001b[1;31mNameError\u001b[0m: name 'factor' is not defined"
     ]
    }
   ],
   "source": [
    "resultado = factor**7* mi_variable\n",
    "print(resultado)"
   ]
  },
  {
   "cell_type": "markdown",
   "id": "c5296d6c",
   "metadata": {},
   "source": [
    "**¿Qué pasó en este caso?** quisimos generar una variable a través de una operación de otras variables, pero nunca habíamos definido la variable **factor**."
   ]
  },
  {
   "cell_type": "markdown",
   "id": "f12c355f",
   "metadata": {},
   "source": [
    "Las variables pueden ser llamadas posteriormente. Además podemos realizar calculos y operaciones con ellas."
   ]
  },
  {
   "cell_type": "code",
   "execution_count": 6,
   "id": "dcba7d11",
   "metadata": {},
   "outputs": [
    {
     "name": "stdout",
     "output_type": "stream",
     "text": [
      "194.87171000000012\n"
     ]
    }
   ],
   "source": [
    "#Ahora si, creo una variable llamada factor que contenga el numero 1.1\n",
    "factor = 1.1\n",
    "\n",
    "#Calcula el resultado de elevar a la 7 la varible factor multiplicarla \n",
    "#por el numero contenido en mi_varible y asignala a una nueva variable\n",
    "#llamada resultado\n",
    "\n",
    "resultado = factor**7*mi_variable\n",
    "\n",
    "#Imprime el resultado\n",
    "print(resultado)"
   ]
  },
  {
   "cell_type": "code",
   "execution_count": 7,
   "id": "74001e95",
   "metadata": {},
   "outputs": [
    {
     "ename": "NameError",
     "evalue": "name 'Resultado' is not defined",
     "output_type": "error",
     "traceback": [
      "\u001b[1;31m---------------------------------------------------------------------------\u001b[0m",
      "\u001b[1;31mNameError\u001b[0m                                 Traceback (most recent call last)",
      "Input \u001b[1;32mIn [7]\u001b[0m, in \u001b[0;36m<cell line: 1>\u001b[1;34m()\u001b[0m\n\u001b[1;32m----> 1\u001b[0m \u001b[38;5;28mprint\u001b[39m(\u001b[43mResultado\u001b[49m)\n",
      "\u001b[1;31mNameError\u001b[0m: name 'Resultado' is not defined"
     ]
    }
   ],
   "source": [
    "print(Resultado)"
   ]
  },
  {
   "cell_type": "markdown",
   "id": "974dfe3a",
   "metadata": {},
   "source": [
    "Hay ciertas reglas que se deben cumplir a la hora de declarar una variable:  \n",
    "\n",
    "- Los nombres de las variables siempre aparecen a la izquierda de `=`.\n",
    "- Python diferencia mayusculas de minusculas en el nombre de las variables.\n",
    "- Los nombres de las variables DEBEN comenzar con una letra. Luego pueden contener números y guiones bajos `_`. Pero no pueden contener caracteres especiales (como por ejemplo, `&`, `*`, `#`, etc).\n",
    "- Si bien Python no le importa como llames a tus variables, los nombres de las variables deben ser descriptivos de los valores o datos que contienen para que otras personas puedan interpretarlo.\n",
    "- Lee más acerca de estas convenciones en el [**PEP8**](https://peps.python.org/pep-0008/)."
   ]
  },
  {
   "cell_type": "markdown",
   "id": "c9795336",
   "metadata": {},
   "source": [
    "**PALABRAS RESERVADAS**: Hay 33 palabras que no podes utilizar como nombres de variables, debido a que están reservadas para el lenguaje ya que cumplen una función particular en Python.\n",
    "\n",
    "_Ellas son_: False, None, True, and, as, assert, break, class, continue, def, del, elif, else, except, finally, for, from, global, if, import, in, is, lambda, nonlocal, not, or, pass, raise, return, try, while, with, yield"
   ]
  },
  {
   "cell_type": "markdown",
   "id": "e400a1c2",
   "metadata": {},
   "source": [
    "## Entrada de datos\n",
    "Hasta el momento hemos estado usando la instrucción print para imprimir información en la\n",
    "consola. La operación inversa es la entrada de datos, esto es, que el usuario ingrese\n",
    "información en la consola y podamos guardarla en una variable. \n",
    "\n",
    "En Python esto se realiza vía la instrucción input ."
   ]
  },
  {
   "cell_type": "code",
   "execution_count": null,
   "id": "f30de1e7",
   "metadata": {},
   "outputs": [],
   "source": [
    "#Ejecuta esta linea\n",
    "numero = float(input(\"Escribe un número: \"))\n",
    "resultado = numero + 2\n",
    "resultado"
   ]
  },
  {
   "cell_type": "code",
   "execution_count": null,
   "id": "a6db2b63",
   "metadata": {},
   "outputs": [],
   "source": [
    "resultado\n"
   ]
  },
  {
   "cell_type": "markdown",
   "id": "8087a480",
   "metadata": {},
   "source": [
    "Notarás que input es similar a print , puesto que lo que indicamos entre paréntesis y entre comillas será mostrado en pantalla. Pero a diferencia de ésta, de input decimos que “retorna” un valor (así como 7 + 5 retornaba 12 ), que no es otra cosa que lo escrito en la consola por el usuario, y lo almacenamos en una variable que queramos.\n",
    "\n",
    "Una vez ingresado el nombre podemos imprimirlo en pantalla:"
   ]
  },
  {
   "cell_type": "code",
   "execution_count": null,
   "id": "d7403976",
   "metadata": {
    "scrolled": true
   },
   "outputs": [],
   "source": [
    "#Ejecuta esta línea\n",
    "nombre = input(\"Escribe tu nombre: \")\n",
    "print(nombre)"
   ]
  },
  {
   "cell_type": "markdown",
   "id": "0089fb19",
   "metadata": {},
   "source": [
    "### Tipos de dato\n",
    "Los tipos de dato permiten clasificar la información que contiene una variable. En Python,\n",
    "distinguimos cuatro tipos de dato básicos: números enteros(`int`), números de coma flotante\n",
    "(`float`), cadenas de texto(`strings`) y booleanos (`bool`), que solo pueden contener dos valores: verdadero o falso.\n",
    "\n",
    "Python nos provee una función útil para chequear que tipo de variable contiene cada variable definida: `type()` [Chequea la documentación](https://docs.python.org/3/library/functions.html?highlight=type#type). "
   ]
  },
  {
   "cell_type": "markdown",
   "id": "d265fe90",
   "metadata": {},
   "source": [
    "### Enteros (`int`)\n",
    "\n",
    "El primer tipo de datos que podemos tener son numeros enteros, que corresponde al tipo `int` en Python."
   ]
  },
  {
   "cell_type": "code",
   "execution_count": 3,
   "id": "57b0c10d",
   "metadata": {},
   "outputs": [
    {
     "data": {
      "text/plain": [
       "-785"
      ]
     },
     "execution_count": 3,
     "metadata": {},
     "output_type": "execute_result"
    }
   ],
   "source": [
    "9\n",
    "2500000\n",
    "-785"
   ]
  },
  {
   "cell_type": "code",
   "execution_count": 8,
   "id": "c3028a69",
   "metadata": {},
   "outputs": [
    {
     "name": "stdout",
     "output_type": "stream",
     "text": [
      "<class 'int'>\n",
      "<class 'int'>\n"
     ]
    }
   ],
   "source": [
    "#Declara la variable mi_numero y asignale el numero 4\n",
    "mi_numero = 4\n",
    "\n",
    "#Declara la variable otro_numero y asignale el numero -1\n",
    "otro_numero = -1\n",
    "\n",
    "#Chequea que tipo de variables son mi_numero y otro_numero\n",
    "print(type(mi_numero))\n",
    "print(type(otro_numero))"
   ]
  },
  {
   "cell_type": "code",
   "execution_count": 7,
   "id": "c4d89018",
   "metadata": {},
   "outputs": [
    {
     "name": "stdout",
     "output_type": "stream",
     "text": [
      "-4\n"
     ]
    }
   ],
   "source": [
    "#Imprime el resultado de multiplicar mi_numero y otro_numero\n",
    "print(mi_numero*otro_numero)\n"
   ]
  },
  {
   "cell_type": "code",
   "execution_count": null,
   "id": "900a1ba6",
   "metadata": {},
   "outputs": [],
   "source": [
    "print(type(mi_numero*otro_numero))"
   ]
  },
  {
   "cell_type": "markdown",
   "id": "bc172757",
   "metadata": {},
   "source": [
    "### FLOTANTES (`float`)\n",
    "\n",
    "Además de enteros, los datos también pueden ser de tipo flotantes. Esto es pueden contener numeros como `5.5`, `7.7`, `9014019401.43`. Este tipo de variable corresponde a `float` en Python."
   ]
  },
  {
   "cell_type": "code",
   "execution_count": 10,
   "id": "a0ffffef",
   "metadata": {},
   "outputs": [
    {
     "name": "stdout",
     "output_type": "stream",
     "text": [
      "<class 'float'>\n"
     ]
    }
   ],
   "source": [
    "#Declara la variable float_numero y asignale el numero 4.9\n",
    "flotante_numero = 4.9\n",
    "\n",
    "#Chequea que tipo de variable es float_numero\n",
    "print(type(flotante_numero))"
   ]
  },
  {
   "cell_type": "code",
   "execution_count": 11,
   "id": "d78d0852",
   "metadata": {},
   "outputs": [
    {
     "name": "stdout",
     "output_type": "stream",
     "text": [
      "4\n",
      "576.4801000000002\n"
     ]
    }
   ],
   "source": [
    "#Imprime el resultado de elevar float_numero a mi_numero, declarado anteriormente\n",
    "print(mi_numero)\n",
    "print(flotante_numero**mi_numero)"
   ]
  },
  {
   "cell_type": "code",
   "execution_count": 12,
   "id": "6db03438",
   "metadata": {},
   "outputs": [
    {
     "name": "stdout",
     "output_type": "stream",
     "text": [
      "<class 'float'>\n"
     ]
    }
   ],
   "source": [
    "print(type(flotante_numero**mi_numero))"
   ]
  },
  {
   "cell_type": "markdown",
   "id": "c57d565f",
   "metadata": {},
   "source": [
    "### BOOLEANOS (`bool`)\n",
    "Una variable booleana es una variable lógica que admite solo dos valores `True` y `False`. "
   ]
  },
  {
   "cell_type": "code",
   "execution_count": 16,
   "id": "bbd75fbb",
   "metadata": {},
   "outputs": [],
   "source": [
    "#Corre la siguiente linea \n",
    "mi_bool = True"
   ]
  },
  {
   "cell_type": "code",
   "execution_count": 17,
   "id": "4281c5ab",
   "metadata": {},
   "outputs": [],
   "source": [
    "#Ahora asigna a la variable otra_bool el valor False\n",
    "otra_bool = False"
   ]
  },
  {
   "cell_type": "code",
   "execution_count": 15,
   "id": "3c156daa",
   "metadata": {},
   "outputs": [
    {
     "name": "stdout",
     "output_type": "stream",
     "text": [
      "<class 'bool'>\n",
      "<class 'bool'>\n"
     ]
    }
   ],
   "source": [
    "#Chequea que tipo de variables son mi_bool y otra_bool\n",
    "print(type(mi_bool))\n",
    "print(type(otra_bool))"
   ]
  },
  {
   "cell_type": "markdown",
   "id": "eefe2ba0",
   "metadata": {},
   "source": [
    "Pese a que las variables booleanas son definidas con los valores `True` y `False`, Python las trata como numeros. "
   ]
  },
  {
   "cell_type": "code",
   "execution_count": 18,
   "id": "b62111e4",
   "metadata": {},
   "outputs": [
    {
     "data": {
      "text/plain": [
       "1"
      ]
     },
     "execution_count": 18,
     "metadata": {},
     "output_type": "execute_result"
    }
   ],
   "source": [
    "#Prueba que ocurre si sumamos mi_bool y otra_bool\n",
    "mi_bool + otra_bool"
   ]
  },
  {
   "cell_type": "code",
   "execution_count": 19,
   "id": "a8c69129",
   "metadata": {},
   "outputs": [
    {
     "data": {
      "text/plain": [
       "2"
      ]
     },
     "execution_count": 19,
     "metadata": {},
     "output_type": "execute_result"
    }
   ],
   "source": [
    "#Prueba que ocurre si sumamos mi_bool y mi_bool\n",
    "mi_bool + mi_bool"
   ]
  },
  {
   "cell_type": "code",
   "execution_count": 20,
   "id": "021f6501",
   "metadata": {},
   "outputs": [
    {
     "data": {
      "text/plain": [
       "0"
      ]
     },
     "execution_count": 20,
     "metadata": {},
     "output_type": "execute_result"
    }
   ],
   "source": [
    "#Prueba que ocurre si sumamos otra_bool y otra_bool\n",
    "otra_bool + otra_bool"
   ]
  },
  {
   "cell_type": "markdown",
   "id": "d0d30c74",
   "metadata": {},
   "source": [
    "Si comparamos expresiones, python nos dirá si son `True` o `False`"
   ]
  },
  {
   "cell_type": "code",
   "execution_count": 22,
   "id": "0a010464",
   "metadata": {},
   "outputs": [
    {
     "data": {
      "text/plain": [
       "True"
      ]
     },
     "execution_count": 22,
     "metadata": {},
     "output_type": "execute_result"
    }
   ],
   "source": [
    "\"casa\" == \"casa\""
   ]
  },
  {
   "cell_type": "code",
   "execution_count": 23,
   "id": "fbc4027d",
   "metadata": {},
   "outputs": [
    {
     "data": {
      "text/plain": [
       "False"
      ]
     },
     "execution_count": 23,
     "metadata": {},
     "output_type": "execute_result"
    }
   ],
   "source": [
    "3 == 5"
   ]
  },
  {
   "cell_type": "markdown",
   "id": "1c4f620b",
   "metadata": {},
   "source": [
    "### CADENA DE CARACTERES (`string`) \n",
    "La cadena de caracteres o string es otro tipo de datos que podemos encontrar en Python. Estas variables poseen de particular que se definen utilizando comillas, como en el ejemplo siguiente:"
   ]
  },
  {
   "cell_type": "code",
   "execution_count": 24,
   "id": "2a362e57",
   "metadata": {},
   "outputs": [
    {
     "data": {
      "text/plain": [
       "str"
      ]
     },
     "execution_count": 24,
     "metadata": {},
     "output_type": "execute_result"
    }
   ],
   "source": [
    "type(\"1\")"
   ]
  },
  {
   "cell_type": "code",
   "execution_count": 25,
   "id": "a93e419f",
   "metadata": {},
   "outputs": [
    {
     "data": {
      "text/plain": [
       "str"
      ]
     },
     "execution_count": 25,
     "metadata": {},
     "output_type": "execute_result"
    }
   ],
   "source": [
    "type(\"A\")"
   ]
  },
  {
   "cell_type": "code",
   "execution_count": 26,
   "id": "f4d888da",
   "metadata": {},
   "outputs": [
    {
     "name": "stdout",
     "output_type": "stream",
     "text": [
      "Aprender Python es muy sencillo\n",
      "Solo hay que practicar\n"
     ]
    }
   ],
   "source": [
    "#Corre las siguientes líneas\n",
    "mi_frase = \"Aprender Python es muy sencillo\"\n",
    "segunda_frase = 'Solo hay que practicar'\n",
    "print(mi_frase)\n",
    "print(segunda_frase)"
   ]
  },
  {
   "cell_type": "code",
   "execution_count": 27,
   "id": "0dd99750",
   "metadata": {},
   "outputs": [
    {
     "data": {
      "text/plain": [
       "str"
      ]
     },
     "execution_count": 27,
     "metadata": {},
     "output_type": "execute_result"
    }
   ],
   "source": [
    "type(mi_frase)"
   ]
  },
  {
   "cell_type": "code",
   "execution_count": 28,
   "id": "53dc6ff3",
   "metadata": {},
   "outputs": [
    {
     "data": {
      "text/plain": [
       "str"
      ]
     },
     "execution_count": 28,
     "metadata": {},
     "output_type": "execute_result"
    }
   ],
   "source": [
    "type(segunda_frase)"
   ]
  },
  {
   "cell_type": "markdown",
   "id": "74a98615",
   "metadata": {},
   "source": [
    "#### Comillas\n",
    "Como habras observado arriba, se pueden utilizar comillas dobles como simples para definir strings. La regla es que utilices las mismas comillas para **abrir y cerrar** el string."
   ]
  },
  {
   "cell_type": "code",
   "execution_count": 29,
   "id": "b539d332",
   "metadata": {},
   "outputs": [
    {
     "name": "stdout",
     "output_type": "stream",
     "text": [
      "Aca va un string\n"
     ]
    }
   ],
   "source": [
    "#Define un string que quieras y asignaselo a la variable mi_primer_string\n",
    "mi_primer_string = \"Aca va un string\"\n",
    "\n",
    "#Imprime la variable mi_primer_string\n",
    "print(mi_primer_string)"
   ]
  },
  {
   "cell_type": "code",
   "execution_count": 33,
   "id": "170fc869",
   "metadata": {
    "scrolled": true
   },
   "outputs": [
    {
     "name": "stdout",
     "output_type": "stream",
     "text": [
      "Aca va otro string\n"
     ]
    }
   ],
   "source": [
    "#Define un segundo string y asignaselo a la variable segundo_string\n",
    "segundo_string = \"Aca va otro string\"\n",
    "print(segundo_string)"
   ]
  },
  {
   "cell_type": "code",
   "execution_count": 36,
   "id": "ef490449",
   "metadata": {},
   "outputs": [
    {
     "data": {
      "text/plain": [
       "'Aca va un stringAca va otro string'"
      ]
     },
     "execution_count": 36,
     "metadata": {},
     "output_type": "execute_result"
    }
   ],
   "source": [
    "#Ahora aplica el operador suma (+) entre las dos variables y fijate que pasa\n",
    "mi_primer_string + segundo_string"
   ]
  },
  {
   "cell_type": "code",
   "execution_count": 37,
   "id": "9c16ab9d",
   "metadata": {},
   "outputs": [
    {
     "data": {
      "text/plain": [
       "'Aca va un string Aca va otro string'"
      ]
     },
     "execution_count": 37,
     "metadata": {},
     "output_type": "execute_result"
    }
   ],
   "source": [
    "mi_primer_string + \" \" +segundo_string"
   ]
  },
  {
   "cell_type": "markdown",
   "id": "c9f1ed43",
   "metadata": {},
   "source": [
    "Como observaste los strings también pueden sumarse, o en terminos más correctos, **concatenarse**."
   ]
  },
  {
   "cell_type": "code",
   "execution_count": 38,
   "id": "f7f9b27a",
   "metadata": {},
   "outputs": [],
   "source": [
    "#Para entender cómo opera Python un string ahora vamos a definir un número como un texto\n",
    "cuatro = str(4)"
   ]
  },
  {
   "cell_type": "code",
   "execution_count": 39,
   "id": "65aa44d3",
   "metadata": {},
   "outputs": [
    {
     "data": {
      "text/plain": [
       "'444'"
      ]
     },
     "execution_count": 39,
     "metadata": {},
     "output_type": "execute_result"
    }
   ],
   "source": [
    "cuatro * 3"
   ]
  },
  {
   "cell_type": "markdown",
   "id": "86e79e18",
   "metadata": {},
   "source": [
    "Python también nos permite acceder a un elemento del string o una porción de él. Esto se realiza mediante el uso de indices que se especifican con corchetes `[]`."
   ]
  },
  {
   "cell_type": "code",
   "execution_count": 35,
   "id": "9e0f334f",
   "metadata": {},
   "outputs": [
    {
     "data": {
      "text/plain": [
       "'e'"
      ]
     },
     "execution_count": 35,
     "metadata": {},
     "output_type": "execute_result"
    }
   ],
   "source": [
    "#Defino un string\n",
    "prueba_indice = \"Acceder a un caracter es facil\"\n",
    "\n",
    "#Accedo al cuarto caracter\n",
    "prueba_indice[3]"
   ]
  },
  {
   "cell_type": "markdown",
   "id": "b679f847",
   "metadata": {},
   "source": [
    "**¿Observaste bien?** Si especifico el índice 3, me trae el cuarto caracter. Esto es porque en Python los indices comienzan en 0. Entonces, el primer caracter tiene índice 0, el segundo 1 y así sucesivamente."
   ]
  },
  {
   "cell_type": "markdown",
   "id": "6fba64a7",
   "metadata": {},
   "source": [
    "También es posible acceder a una porción del string. Esto se hace utilizando también corchetes [], pero se especifica el indice donde comienzo, luego : y luego el indice donde termino."
   ]
  },
  {
   "cell_type": "code",
   "execution_count": 58,
   "id": "8eba9411",
   "metadata": {},
   "outputs": [
    {
     "name": "stdout",
     "output_type": "stream",
     "text": [
      "a un caracter \n"
     ]
    }
   ],
   "source": [
    "#Corre la siguiente linea\n",
    "print(prueba_indice[8:22])"
   ]
  },
  {
   "cell_type": "markdown",
   "id": "aa1fb7c6",
   "metadata": {},
   "source": [
    "**¿Notaste algo en particular?** Para poder traer la porción entre el 9no y el 22do caracter, debo especificar el caracter donde comienza (`8`) y la posición donde termina (`21`).   \n",
    "Sin embargo, especificamos 22. ¿Por qué? Porque Python **SIEMPRE excluye** la última posición que le especifiquemos. Entonces si especificamos hasta 21, traera hasta el 20. Si queremos hasta el 21 inclusive, debemos colocar 22 entonces."
   ]
  },
  {
   "cell_type": "code",
   "execution_count": 61,
   "id": "db2c96e0",
   "metadata": {},
   "outputs": [],
   "source": [
    "#asigna el string a la variable mi_frase_prueba\n",
    "mi_frase_prueba = \"Es esencial que leas mucho\"\n",
    "#asigna el string a la variable mi_segunda_prueba\n",
    "mi_segunda_prueba = \"Para muchos era invisible aunque sus ojos se destacaban\""
   ]
  },
  {
   "cell_type": "code",
   "execution_count": 67,
   "id": "0a55834b",
   "metadata": {},
   "outputs": [],
   "source": [
    "#Selecciona el substring esencial de la variable mi_frase_prueba y asignalo a la variable primera_palabra\n",
    "primera_palabra = mi_frase_prueba[3:11]\n",
    "\n",
    "#Selecciona el substring invisible de la variable mi_segunda_prueba y asignalo a la variable segunda_palabra\n",
    "segunda_palabra = mi_segunda_prueba[16:25]\n",
    "\n",
    "#Selecciona el substring ojos de la variable mi_segunda_prueba y asignalo a la variable tercera_palabra\n",
    "tercera_palabra = mi_segunda_prueba[37:41]"
   ]
  },
  {
   "cell_type": "code",
   "execution_count": 68,
   "id": "643b38e2",
   "metadata": {},
   "outputs": [
    {
     "data": {
      "text/plain": [
       "'esencial'"
      ]
     },
     "execution_count": 68,
     "metadata": {},
     "output_type": "execute_result"
    }
   ],
   "source": [
    "primera_palabra"
   ]
  },
  {
   "cell_type": "code",
   "execution_count": 59,
   "id": "60035f0e",
   "metadata": {},
   "outputs": [
    {
     "data": {
      "text/plain": [
       "'invisible'"
      ]
     },
     "execution_count": 59,
     "metadata": {},
     "output_type": "execute_result"
    }
   ],
   "source": [
    "segunda_palabra"
   ]
  },
  {
   "cell_type": "code",
   "execution_count": 60,
   "id": "dcb99b87",
   "metadata": {},
   "outputs": [
    {
     "data": {
      "text/plain": [
       "'ojos'"
      ]
     },
     "execution_count": 60,
     "metadata": {},
     "output_type": "execute_result"
    }
   ],
   "source": [
    "tercera_palabra"
   ]
  },
  {
   "cell_type": "code",
   "execution_count": 69,
   "id": "d161a11c",
   "metadata": {},
   "outputs": [
    {
     "name": "stdout",
     "output_type": "stream",
     "text": [
      "Lo esencial es invisible a los ojos\n"
     ]
    }
   ],
   "source": [
    "#Concatena los strings \"Lo\", primera_palabra, \"es\", segunda_palabra, \"a los\", tercera_palabra.\n",
    "#Imprime el resultado. No te olvides de especificar espacios usando el string \" \"\n",
    "print(\"Lo\"+\" \"+primera_palabra+\" \"+\"es\"+\" \"+segunda_palabra+\" \"+\"a los\"+\" \"+tercera_palabra)"
   ]
  },
  {
   "cell_type": "markdown",
   "id": "32448857",
   "metadata": {},
   "source": [
    "#### Inmutables\n",
    "\n",
    "Todos los tipos de variables que vimos hasta ahora son **inmutables**. Esto significa que no pueden ser alteradas después de haber sido creadas."
   ]
  },
  {
   "cell_type": "code",
   "execution_count": 70,
   "id": "ecc46966",
   "metadata": {},
   "outputs": [
    {
     "ename": "TypeError",
     "evalue": "'str' object does not support item assignment",
     "output_type": "error",
     "traceback": [
      "\u001b[1;31m---------------------------------------------------------------------------\u001b[0m",
      "\u001b[1;31mTypeError\u001b[0m                                 Traceback (most recent call last)",
      "Input \u001b[1;32mIn [70]\u001b[0m, in \u001b[0;36m<cell line: 3>\u001b[1;34m()\u001b[0m\n\u001b[0;32m      1\u001b[0m \u001b[38;5;66;03m#Corre la siguiente linea y observa que occurre\u001b[39;00m\n\u001b[0;32m      2\u001b[0m variable_inmutable \u001b[38;5;241m=\u001b[39m \u001b[38;5;124m\"\u001b[39m\u001b[38;5;124mLos strings son inmutables en Python\u001b[39m\u001b[38;5;124m\"\u001b[39m\n\u001b[1;32m----> 3\u001b[0m variable_inmutable[\u001b[38;5;241m8\u001b[39m] \u001b[38;5;241m=\u001b[39m \u001b[38;5;124m\"\u001b[39m\u001b[38;5;124mf\u001b[39m\u001b[38;5;124m\"\u001b[39m\n",
      "\u001b[1;31mTypeError\u001b[0m: 'str' object does not support item assignment"
     ]
    }
   ],
   "source": [
    "#Corre la siguiente linea y observa que occurre\n",
    "variable_inmutable = \"Los strings son inmutables en Python\"\n",
    "variable_inmutable[8] = \"f\""
   ]
  },
  {
   "cell_type": "markdown",
   "id": "d595e346",
   "metadata": {},
   "source": [
    "Lo que nos dice el error, es que una vez asignada una variable, no puedo cambiar parte de ella. \n",
    "Además de los mencionados hasta ahora, Python nos ofrece otras estructuras de datos que son más flexibles y permiten agrupar varios valores. Además muchas de ellas son mutables, es decir, permiten que asignemos o alteremos valores una vez definidas. "
   ]
  },
  {
   "cell_type": "markdown",
   "id": "e83f72b1",
   "metadata": {},
   "source": [
    "## Operaciones aritméticas\n",
    "Ahora que conocemos los cuatro tipos de dato básicos, veamos algunas operaciones que se\n",
    "pueden aplicar sobre ellos.\n",
    "Comencemos por los números enteros y de coma flotante. En la clase anterior estuvimos\n",
    "sumando dos enteros de la siguiente forma:"
   ]
  },
  {
   "cell_type": "code",
   "execution_count": null,
   "id": "ae8d70a5",
   "metadata": {},
   "outputs": [],
   "source": [
    "#Suma\n",
    "print(7+5)\n",
    "#Resta\n",
    "print(5-2)\n",
    "#Multiplicacion\n",
    "print(3 * 5)\n",
    "#División\n",
    "print(10 / 2)"
   ]
  },
  {
   "cell_type": "markdown",
   "id": "82ddc0ba",
   "metadata": {},
   "source": [
    "Los objetos alrededor de un operador (en este ejemplo, 7 y 5 ) pueden ser simples números\n",
    "enteros o de coma flotante, o bien expresiones que retornen un número entero o de coma\n",
    "flotante, o bien **variables** que contengan un número entero o de coma flotante."
   ]
  },
  {
   "cell_type": "code",
   "execution_count": null,
   "id": "5b708dc4",
   "metadata": {},
   "outputs": [],
   "source": [
    "a = 5\n",
    "pi = 3.1415\n",
    "print(a+7)\n",
    "print(pi-pi)\n",
    "print(pi*3)\n",
    "print(a/pi)"
   ]
  },
  {
   "cell_type": "markdown",
   "id": "76098103",
   "metadata": {},
   "source": [
    "Estas cuatro operaciones aritméticas retornan un entero cuando los dos objetos sobre los que actúan son enteros. Si alguno de ellos es un número de coma flotante, o bien ambos, el resultado es un número de coma flotante. De esto se sigue que pi - pi retorne 0.0 (un número de coma flotante) y no 0 (un número entero).\n",
    "\n",
    "También podemos hacer uso de los paréntesis para agrupar expresiones, al igual que en\n",
    "matemática:"
   ]
  },
  {
   "cell_type": "code",
   "execution_count": null,
   "id": "7104f900",
   "metadata": {},
   "outputs": [],
   "source": [
    "print(7 + 5 * 3)\n",
    "print((7 + 5) * 3)"
   ]
  },
  {
   "cell_type": "markdown",
   "id": "2b5e4336",
   "metadata": {},
   "source": [
    "## Operaciones comparativas\n",
    "Siguiendo con los números enteros y de coma flotante, además de las operaciones\n",
    "aritméticas disponemos de operaciones de comparación vía los siguientes operadores:\n",
    "\n",
    "     == (igualdad),\n",
    "     != (desigualdad),\n",
    "     > (mayor),\n",
    "     >= (mayor o igual),\n",
    "     < (menor) y,\n",
    "     < (menor o igual).\n",
    "     \n",
    "Al ejecutar alguna de estas cinco operaciones, el resultado siempre es un `booleano` (es decir, True o False ) según la comparación sea verdadera o falsa, así como el resultado en las operaciones aritméticas siempre era un número entero o de coma flotante. Ejemplos:"
   ]
  },
  {
   "cell_type": "code",
   "execution_count": null,
   "id": "6c075015",
   "metadata": {},
   "outputs": [],
   "source": [
    "print(7 > 5)\n",
    "print(7 <= 5)\n",
    "print(7 != 5)\n",
    "print(7 == 5)\n",
    "print(5 >= 7)\n",
    "print(5 < 7)"
   ]
  },
  {
   "cell_type": "markdown",
   "id": "3cde4df1",
   "metadata": {},
   "source": [
    "## Operaciones lógicas\n",
    "Las operaciones lógicas son tan comunes como las comparaciones en cualquier programa,\n",
    "puesto que nos permiten crear comparaciones más complejas. Consideremos la siguiente\n",
    "variable:"
   ]
  },
  {
   "cell_type": "code",
   "execution_count": null,
   "id": "d2a9e84a",
   "metadata": {},
   "outputs": [],
   "source": [
    "a = 5"
   ]
  },
  {
   "cell_type": "markdown",
   "id": "d3559ed0",
   "metadata": {},
   "source": [
    "¿Cómo puedo determinar si a es mayor a 1 y menor a 10, o, lo que es lo mismo, si a se\n",
    "encuentra entre 1 y 10? Necesito combinar dos operaciones de comparación; para ello,\n",
    "empleamos la palabra reservada (esto es, palabras que Python reserva para sí y que no\n",
    "pueden constituir el nombre de ninguna variable) `and` ."
   ]
  },
  {
   "cell_type": "code",
   "execution_count": null,
   "id": "16459112",
   "metadata": {},
   "outputs": [],
   "source": [
    "a > 1 and a < 10"
   ]
  },
  {
   "cell_type": "markdown",
   "id": "d4f9c197",
   "metadata": {},
   "source": [
    "Esta operación se conoce como **conjunción** . El resultado de una conjunción es `True` cuando las dos condiciones que se propone conectar son verdaderas. En este caso, a > 1\n",
    "and a < 10 es verdadero únicamente cuando a > 1 y a < 10 son ambas verdaderas. Si alguna de ellas es `False`, el resultado también lo es. Confirmemos lo que acabamos de decir:"
   ]
  },
  {
   "cell_type": "code",
   "execution_count": null,
   "id": "ff821a0b",
   "metadata": {},
   "outputs": [],
   "source": [
    "True and True"
   ]
  },
  {
   "cell_type": "code",
   "execution_count": null,
   "id": "2bed1436",
   "metadata": {},
   "outputs": [],
   "source": [
    "True and False"
   ]
  },
  {
   "cell_type": "code",
   "execution_count": null,
   "id": "10d13e37",
   "metadata": {},
   "outputs": [],
   "source": [
    "False and True"
   ]
  },
  {
   "cell_type": "markdown",
   "id": "5dac9b2a",
   "metadata": {},
   "source": [
    "Por otro lado, la **disyunción** nos permite saber si alguna de dos comparaciones es verdadera. \n",
    "Por ejemplo, si queremos saber si a es igual a 1 o bien igual a 10:"
   ]
  },
  {
   "cell_type": "code",
   "execution_count": null,
   "id": "68d7b1da",
   "metadata": {},
   "outputs": [],
   "source": [
    "a == 1 or a == 10"
   ]
  },
  {
   "cell_type": "markdown",
   "id": "6487d975",
   "metadata": {},
   "source": [
    "Una disyunción es verdadera cuando **al menos una** de las dos comparaciones que conecta es `True`. En nuestro ejemplo, tanto a == 1 como a == 10 son comparaciones `False`, puesto que a es 5 . Comprobemos del mismo modo esta definición:"
   ]
  },
  {
   "cell_type": "code",
   "execution_count": null,
   "id": "4c53ff4d",
   "metadata": {},
   "outputs": [],
   "source": [
    "True or True"
   ]
  },
  {
   "cell_type": "code",
   "execution_count": null,
   "id": "90dce630",
   "metadata": {},
   "outputs": [],
   "source": [
    "True or False"
   ]
  },
  {
   "cell_type": "code",
   "execution_count": null,
   "id": "c72d862a",
   "metadata": {},
   "outputs": [],
   "source": [
    "False or False"
   ]
  },
  {
   "cell_type": "markdown",
   "id": "6c0b386e",
   "metadata": {},
   "source": [
    "La **negación** , que ejecutamos con la palabra reservada not , invierte el valor lógico de un `booleano`."
   ]
  },
  {
   "cell_type": "code",
   "execution_count": null,
   "id": "b0932a27",
   "metadata": {},
   "outputs": [],
   "source": [
    "not True"
   ]
  },
  {
   "cell_type": "code",
   "execution_count": null,
   "id": "39eabab0",
   "metadata": {},
   "outputs": [],
   "source": [
    "not False"
   ]
  },
  {
   "cell_type": "markdown",
   "id": "4cdaa20d",
   "metadata": {},
   "source": [
    "## Condicionales\n",
    "Dijimos que el código de un programa es ejecutado por Python de izquierda a derecha y de arriba hacia abajo. Los condicionales nos permiten diferir la ejecución de una porción de código (es decir, una o más líneas) según se cumpla una condición u otra; o, lo que es lo\n",
    "mismo, hacer que un bloque de código se ejecute únicamente cuando se cumpla una condición. Es decir, los condicionales nos permiten modificar el `flujo del programa`.\n",
    "Observemos el siguiente código de ejemplo y vayamos analizando parte por parte."
   ]
  },
  {
   "cell_type": "code",
   "execution_count": null,
   "id": "4690ea9f",
   "metadata": {},
   "outputs": [],
   "source": [
    "a = 12\n",
    "if a > 10:\n",
    "    print(\"a es mayor que 10.\")"
   ]
  },
  {
   "cell_type": "markdown",
   "id": "179b393f",
   "metadata": {},
   "source": [
    "La primera línea define una variable `a` con el valor 12 , y la segunda línea indica que el código a continuación solo debe ejecutarse cuando la condición a > 10 sea verdadera. En efecto, si cambiamos `a = 12` por `a = 7` , veremos que, al correr el programa, la tercera línea será\n",
    "ignorada.\n",
    "\n",
    "El bloque de código que será ejecutado dependiendo del resultado de la condición debe tener aplicada una sangría de cuatro espacios (esto también se conoce como `indentación`, que  es una transliteración del inglés indentation). La sangría es necesaria para poder diferenciar el bloque que se encuentra dentro del condicional del resto del código. Por ejemplo:"
   ]
  },
  {
   "cell_type": "code",
   "execution_count": null,
   "id": "d8851a76",
   "metadata": {},
   "outputs": [],
   "source": [
    "a = 12\n",
    "if a > 10:\n",
    "    print(\"a es mayor que 10.\")\n",
    "print(\"Hola mundo\")"
   ]
  },
  {
   "cell_type": "markdown",
   "id": "49b338b0",
   "metadata": {},
   "source": [
    "En este caso, le estamos indicando a Python que únicamente la tercera línea debe ejecutarse si a > 10 . En cambio, la cuarta está por fuera del condicional por cuanto no tiene sangría, y por ende se ejecute siempre independientemente del resultado de la condición.\n",
    "\n",
    "Los condicionales, entonces, están constituidos por:\n",
    "* la palabra reservada **if** ,\n",
    "* una **condición o expresión** cuyo resultado debe ser True o False seguida de **dos puntos(:)** y,\n",
    "* una o más **líneas con sangría**."
   ]
  },
  {
   "cell_type": "markdown",
   "id": "239854b7",
   "metadata": {},
   "source": [
    "En Jupyter la sangría se aplica automáticamente a la siguiente línea al presionar `Enter` luego de indicar los dos puntos al final de la condición. También podemos insertar manualmente sangría presionando la tecla `Tab` o cuatro veces la `barra espaciadora`.\n",
    "La cantidad de código que podemos incluir dentro de un condicional es ilimitada. Incluso\n",
    "puede contener otras definiciones de variables y otros condicionales:"
   ]
  },
  {
   "cell_type": "code",
   "execution_count": null,
   "id": "fcb9b77c",
   "metadata": {},
   "outputs": [],
   "source": [
    "a = 12\n",
    "if a > 10:\n",
    "    print(\"a es mayor que 10.\")\n",
    "    b = 5\n",
    "    if b == 5 or b == 3.14:\n",
    "        print(\"b es 5 o 3.14.\")"
   ]
  },
  {
   "cell_type": "markdown",
   "id": "4dbc38ce",
   "metadata": {},
   "source": [
    "Ahora bien, consideremos esta variante:"
   ]
  },
  {
   "cell_type": "code",
   "execution_count": null,
   "id": "44d28819",
   "metadata": {},
   "outputs": [],
   "source": [
    "a = 12\n",
    "if a > 10:\n",
    "    print(\"a es mayor que 10.\")\n",
    "else:\n",
    "    print(\"a es menor o igual que 10.\")"
   ]
  },
  {
   "cell_type": "markdown",
   "id": "0326b124",
   "metadata": {},
   "source": [
    "La sintaxis es bastante clara: la tercera línea se ejecutará cuando a > 10 sea verdadero; y la quinta, cuando sea falso. Nótese que las palabras reservadas **if** y **else** deben estar alineadas, es decir, deben tener la misma sangría (si bien en este ejemplo no tienen sangría\n",
    "en absoluto).\n",
    "Por lo dicho es evidente que el código anterior es similar al siguiente:"
   ]
  },
  {
   "cell_type": "code",
   "execution_count": null,
   "id": "30e2cf2e",
   "metadata": {},
   "outputs": [],
   "source": [
    "if a > 10:\n",
    "    print(\"a es mayor que 10.\")\n",
    "if not a > 10:\n",
    "    print(\"a es menor o igual que 10.\")"
   ]
  },
  {
   "cell_type": "markdown",
   "id": "6932d29d",
   "metadata": {},
   "source": [
    "O bien a este otro:"
   ]
  },
  {
   "cell_type": "code",
   "execution_count": null,
   "id": "9b57aac9",
   "metadata": {},
   "outputs": [],
   "source": [
    "a = 12\n",
    "if a > 10:\n",
    "    print(\"a es mayor que 10.\")\n",
    "if a <= 10:\n",
    "    print(\"a es menor o igual que 10.\")"
   ]
  },
  {
   "cell_type": "markdown",
   "id": "64b23c8d",
   "metadata": {},
   "source": [
    "Nos resta la palabra reservada **elif** , que nos permite agregar más de una condición en un\n",
    "mismo condicional:"
   ]
  },
  {
   "cell_type": "code",
   "execution_count": null,
   "id": "ac3b6ecd",
   "metadata": {},
   "outputs": [],
   "source": [
    "a = 5\n",
    "if a == 1:\n",
    "    print(\"a es 1.\")\n",
    "elif a == 2:\n",
    "    print(\"a es 2.\")\n",
    "elif a > 2 and a < 10:\n",
    "    print(\"a es mayor que 2 y menor que 10.\")\n",
    "else:\n",
    "    print(\"a es mayor o igual que 10.\")"
   ]
  },
  {
   "cell_type": "markdown",
   "id": "5b4a6cf0",
   "metadata": {},
   "source": [
    "Así como en un condicional del tipo **if / else** únicamente se ejecuta un bloque de código, del mismo modo ocurre aquí. Cuando tenemos un condicional con múltiples condiciones (en donde la primera se escribe con if y el resto con **elif** ), todas ellas son evaluadas por Python (por “evaluar” entendemos determinar si son `True` o `False`) en el orden en el que están dispuestas en el código. De este modo, si a == 1 es `True`, se ejecuta print(\"a es 1.\") y el condicional termina; es decir, el resto de las condiciones no son consideradas. Pero si a == 1 es `False`, entonces se considera la segunda condición, a == 2 , y así sucesivamente hasta llegar al else en caso que todas las condiciones anteriores sean falsas."
   ]
  },
  {
   "cell_type": "markdown",
   "id": "a5a63b99",
   "metadata": {},
   "source": [
    "Además de los mencionados hasta ahora, Python nos ofrece otras estructuras de datos que son más flexibles y permiten agrupar varios valores. Además muchas de ellas son mutables, es decir, permiten que asignemos o alteremos valores una vez definidas.\n",
    "\n",
    "\n",
    "## Listas\n",
    "\n",
    "\n",
    "Las `listas` nos permiten agrupar varios objetos (de cualquiera de los cuatro tipos de dato básicos que vimos) en una misma variable. Cada uno de estos objetos se conoce como `elemento` . Para crear una lista vamos a escoger un nombre e indicar, entre corchetes y separados por comas, los elementos. Por ejemplo, el siguiente código crea distintos tipos de listas:"
   ]
  },
  {
   "cell_type": "code",
   "execution_count": null,
   "id": "1be0889d",
   "metadata": {},
   "outputs": [],
   "source": [
    "#Lista de numeros primos\n",
    "numeros_primos = [2, 3, 5, 7, 11]\n",
    "\n",
    "#Lista de nombres (strings)\n",
    "alumnos = [\"Jorge\", \"Matias\", \"Juan\", \"Martin\"]\n",
    "\n",
    "#Listas de distintos tipos de datos\n",
    "datos = [3.14, True, -1, False, \"Hola mundo\"]"
   ]
  },
  {
   "cell_type": "markdown",
   "id": "8313dc6b",
   "metadata": {},
   "source": [
    "La disposición de los `elementos` al momento de crear una lista es importante. Las listas son **colecciones ordenadas** de objetos. A cada uno de los elementos se le asigna un **índice** , que no es otra cosa que la posición en la que se encuentra en la lista, empezando del 0. El índice nos permite luego traer un elemento en particular de una lista cualquiera.\n",
    "\n",
    "Para acceder a un `elemento` de una `lista` a partir de su `índice`, vamos a indicarlo entre corchetes luego del nombre de la lista."
   ]
  },
  {
   "cell_type": "code",
   "execution_count": null,
   "id": "ef2f83f5",
   "metadata": {},
   "outputs": [],
   "source": [
    "print(numeros_primos[0])\n",
    "print(numeros_primos[1])\n",
    "print(numeros_primos[2])\n",
    "print(numeros_primos[3])\n",
    "print(numeros_primos[4])"
   ]
  },
  {
   "cell_type": "markdown",
   "id": "f55cc225",
   "metadata": {},
   "source": [
    "Hasta ahora vimos solo como acceder utilizando indices positivos, pero también podemos acceder usando **indices negativos**. El último caracter tendra el indice -1, el anteultimo -2 y así sucesivamente."
   ]
  },
  {
   "cell_type": "code",
   "execution_count": null,
   "id": "6acf173e",
   "metadata": {},
   "outputs": [],
   "source": [
    "#Imprime el ultimo elemento de la lista numeros_primos\n",
    "numeros_primos[-1]"
   ]
  },
  {
   "cell_type": "code",
   "execution_count": null,
   "id": "0b18d9f0",
   "metadata": {},
   "outputs": [],
   "source": [
    "#Imprime la sublista que va desde el tercer elemento hasta el cuarto elemento inclusive de la lista numeros_primos\n",
    "numeros_primos[2:5]"
   ]
  },
  {
   "cell_type": "code",
   "execution_count": null,
   "id": "180dbfaa",
   "metadata": {},
   "outputs": [],
   "source": [
    "#Imprime la sublista que contenga los primeros tres elementos de la lista numeros_primos\n",
    "numeros_primos[:3]"
   ]
  },
  {
   "cell_type": "code",
   "execution_count": null,
   "id": "2124622e",
   "metadata": {},
   "outputs": [],
   "source": [
    "#Imprime la sublista que contenga los ultimos dos elementos de la lista numeros_primos\n",
    "numeros_primos[-2:]"
   ]
  },
  {
   "cell_type": "markdown",
   "id": "d7c2d357",
   "metadata": {},
   "source": [
    "### .append()\n",
    "Ahora bien, podemos agregar un elemento al final de la lista (luego de haberla creado)\n",
    "usando la sintaxis `nombre_lista.append(elemento)` . Por ejemplo:"
   ]
  },
  {
   "cell_type": "code",
   "execution_count": null,
   "id": "66ce73f9",
   "metadata": {},
   "outputs": [],
   "source": [
    "numeros_primos.append(13)\n",
    "print(numeros_primos)\n",
    "print(numeros_primos[-1])"
   ]
  },
  {
   "cell_type": "markdown",
   "id": "59ac2368",
   "metadata": {},
   "source": [
    "### .insert()\n",
    "Ahora bien, podemos agregar un elemento al final de la lista (luego de haberla creado)\n",
    "usando la sintaxis `nombre_lista.append(elemento)` . Por ejemplo:"
   ]
  },
  {
   "cell_type": "code",
   "execution_count": null,
   "id": "83b177ec",
   "metadata": {},
   "outputs": [],
   "source": [
    "numeros_primos.insert(2, 3.14)"
   ]
  },
  {
   "cell_type": "markdown",
   "id": "eebe84bb",
   "metadata": {},
   "source": [
    "En este caso, el elemento 3.14 se inserta en la posición 2 , es decir, entre los números 3 y 5 ."
   ]
  },
  {
   "cell_type": "code",
   "execution_count": null,
   "id": "36fae4a6",
   "metadata": {},
   "outputs": [],
   "source": [
    "print(numeros_primos[2])\n",
    "print(numeros_primos)"
   ]
  },
  {
   "cell_type": "markdown",
   "id": "11bb375e",
   "metadata": {},
   "source": [
    "Nótese que todos los elementos subsiguientes al que acabamos de insertar sufren un desplazamiento hacia la derecha. De modo que el número 13, que antes estaba en la quinta posición, ahora está en la sexta.\n",
    "\n",
    "La operación `insert` es bastante menos frecuente que `append` .\n",
    "\n",
    "\n",
    "### del lista[indice]\n",
    "\n",
    "\n",
    "La sintaxis para quitar un elemento de una lista es `del nombre_lista[indice]` . Por ejemplo, para remover el elemento que acabamos de insertar:"
   ]
  },
  {
   "cell_type": "code",
   "execution_count": null,
   "id": "1750db3c",
   "metadata": {},
   "outputs": [],
   "source": [
    "del numeros_primos[2]"
   ]
  },
  {
   "cell_type": "markdown",
   "id": "b8aa1eb6",
   "metadata": {},
   "source": [
    "Del mismo modo los elementos de una lista se reorganizan luego de haber eliminado uno de ellos, a menos que haya sido el último. En particular, todos aquellos que estaban a la derecha del elemento removido se desplazan una posición hacia la izquierda."
   ]
  },
  {
   "cell_type": "code",
   "execution_count": null,
   "id": "99466f6e",
   "metadata": {},
   "outputs": [],
   "source": [
    "numeros_primos\n",
    "\n",
    "# Ahora la posicion [2] vuelve a ser el 5"
   ]
  },
  {
   "cell_type": "markdown",
   "id": "c940b61b",
   "metadata": {},
   "source": [
    "### len(lista)\n",
    "\n",
    "Otra operación frecuente sobre listas es obtener el número de elementos que contiene. Lo\n",
    "conseguimos vía la instrucción `len(nombre_lista)`.\n"
   ]
  },
  {
   "cell_type": "code",
   "execution_count": null,
   "id": "c875ea8b",
   "metadata": {},
   "outputs": [],
   "source": [
    "len(numeros_primos)"
   ]
  },
  {
   "cell_type": "markdown",
   "id": "240ecfa6",
   "metadata": {},
   "source": [
    "Existe una relación entre el número o la cantidad de elemento de una lista y la posición del último elemento. Puesto que los índices comienzan del cero, es evidente que el último será `len(nombre_lista) - 1` ."
   ]
  },
  {
   "cell_type": "code",
   "execution_count": null,
   "id": "4dc83992",
   "metadata": {},
   "outputs": [],
   "source": [
    "numeros_primos[len(numeros_primos)-1]"
   ]
  },
  {
   "cell_type": "markdown",
   "id": "edec5019",
   "metadata": {},
   "source": [
    "A partir de esto es claro que entre los corchetes podemos colocar un número o cualquier expresión que retorne un número. Por ejemplo, los siguientes métodos son todos similares para acceder al cuarto elemento (es decir, aquel cuyo índice es 3)."
   ]
  },
  {
   "cell_type": "code",
   "execution_count": null,
   "id": "d4a12f54",
   "metadata": {},
   "outputs": [],
   "source": [
    "numeros_primos[3] == numeros_primos[2+1]"
   ]
  },
  {
   "cell_type": "code",
   "execution_count": null,
   "id": "2fe9c5ad",
   "metadata": {},
   "outputs": [],
   "source": [
    "indice=3\n",
    "numeros_primos[3] == numeros_primos[indice]"
   ]
  },
  {
   "cell_type": "markdown",
   "id": "45df0c0e",
   "metadata": {},
   "source": [
    "Por último, para crear una **lista vacía** usamos dos corchetes sin elementos.\n",
    "\n",
    "Esto puede resultar útil cuando no conocemos los elementos de la lista al momento de crearla, pero los iremos añadiendo vía `append` o `insert` en el transcurso del programa."
   ]
  },
  {
   "cell_type": "code",
   "execution_count": null,
   "id": "9919d888",
   "metadata": {},
   "outputs": [],
   "source": [
    "lista_vacia = []"
   ]
  },
  {
   "cell_type": "markdown",
   "id": "09bfdfef",
   "metadata": {},
   "source": [
    "## Matrices\n",
    "\n",
    "\n",
    "Una lista puede contener otras listas como elementos. La sintaxis para lograr esto no se diferencia en modo alguno de lo que ya hemos aprendido."
   ]
  },
  {
   "cell_type": "code",
   "execution_count": null,
   "id": "bc822459",
   "metadata": {},
   "outputs": [],
   "source": [
    "mi_lista = [[3.14, \"Hola mundo\"], [True, False, -5]]"
   ]
  },
  {
   "cell_type": "markdown",
   "id": "dd42fba0",
   "metadata": {},
   "source": [
    "Este código crea una lista con dos elementos, que a su vez son listas:"
   ]
  },
  {
   "cell_type": "code",
   "execution_count": null,
   "id": "c2cfe4bd",
   "metadata": {},
   "outputs": [],
   "source": [
    "print(mi_lista[0])\n",
    "print(mi_lista[1])"
   ]
  },
  {
   "cell_type": "markdown",
   "id": "19ad9c52",
   "metadata": {},
   "source": [
    "Para acceder a los elementos de alguna de esas dos listas, simplemente agregamos otro par de corchetes:"
   ]
  },
  {
   "cell_type": "code",
   "execution_count": null,
   "id": "5bffa79f",
   "metadata": {},
   "outputs": [],
   "source": [
    "print(mi_lista[0][0])\n",
    "print(mi_lista[0][1])\n",
    "print(mi_lista[1][0])\n",
    "print(mi_lista[1][1])"
   ]
  },
  {
   "cell_type": "markdown",
   "id": "240cad2d",
   "metadata": {},
   "source": [
    "Las matrices no son un tipo de colección particular en Python, sino que pueden simularse usando listas que contengan otras listas dentro de sí. Por ejemplo:"
   ]
  },
  {
   "cell_type": "code",
   "execution_count": null,
   "id": "5ee7db9a",
   "metadata": {},
   "outputs": [],
   "source": [
    "m1 = [[3.3, 6.1, 4.0], [4.9, 5.7, 6.4]]"
   ]
  },
  {
   "cell_type": "markdown",
   "id": "e477d107",
   "metadata": {},
   "source": [
    "Ahora, según lo que acabamos de ver con el ejemplo de mi_lista , accedemos a los elementos indicando, entre corchetes, primero la **fila** y luego la **columna**."
   ]
  },
  {
   "cell_type": "code",
   "execution_count": null,
   "id": "2b9fcdd0",
   "metadata": {},
   "outputs": [],
   "source": [
    "m1[0][2]"
   ]
  },
  {
   "cell_type": "code",
   "execution_count": null,
   "id": "ba4c3210",
   "metadata": {},
   "outputs": [],
   "source": [
    "m1[1][1]"
   ]
  },
  {
   "cell_type": "markdown",
   "id": "97eef28d",
   "metadata": {},
   "source": [
    "## Bucle While\n",
    "\n",
    "\n",
    "Los bucles son otra herramienta que permiten modificar el flujo de un programa. Vimos que los condicionales pueden diferir la ejecución del código según se cumpla una condición u otra. Asimismo, los bucles repiten un bloque de código en tanto en cuanto se cumpla una condición.\n",
    "El bucle “while” en particular repite una porción de código siempre que una expresión sea verdadera.\n",
    "\n",
    "Observemos la  sintaxis con el siguiente ejemplo:"
   ]
  },
  {
   "cell_type": "code",
   "execution_count": null,
   "id": "c4f79ce8",
   "metadata": {},
   "outputs": [],
   "source": [
    "a = 1\n",
    "while a < 5:\n",
    "    print(\"Hola mundo\")"
   ]
  },
  {
   "cell_type": "markdown",
   "id": "5132af76",
   "metadata": {},
   "source": [
    "Ejecutando esto veremos que nuestro programa imprime “Hola mundo” **infinitamente**. Esto ocurre justamente porque el bloque de código del bucle, es decir, `print(\"Hola mundo\")`, se ejecuta siempre y cuando la condición `a < 5` sea verdadera.\n",
    "Puesto que a es 1 y no cambia su valor en todo el programa, la condición es siempre verdadera y el bucle se ejecuta infinitamente.\n",
    "\n",
    "Para que un bucle sea útil debe terminar en algún momento. Hay dos formas de conseguirlo: que la condición se vuelva falsa, o ejecutar una instrucción para forzar al bucle a que\n",
    "termine.\n",
    "\n",
    "Comencemos por la primera. Debemos hacer que `a < 5` sea falso en algún momento para que el bucle termine. Podemos lograrlo vía el siguiente código:"
   ]
  },
  {
   "cell_type": "code",
   "execution_count": null,
   "id": "7f55e643",
   "metadata": {},
   "outputs": [],
   "source": [
    "a = 1\n",
    "while a < 5:\n",
    "    print(\"Hola mundo\")\n",
    "    a = a + 1"
   ]
  },
  {
   "cell_type": "markdown",
   "id": "07d7ea77",
   "metadata": {},
   "source": [
    "Ejecutemos este programa y veremos que el resultado ahora son cuatro `“Hola mundo”` impresos en pantalla. La lógica de este comportamiento se comprende fácilmente si entendemos cómo avanza un bucle `while`:\n",
    "1. Chequear que la condición sea verdadera.\n",
    "2. Si es verdadera, ejecutar el bloque de código.\n",
    "3. Si es falsa, terminar el bucle (y también estos pasos).\n",
    "4. Volver al paso 1.\n",
    "Así, nuestro bucle se ejecuta hasta que a se convierte en 5 , y en consecuencia la condición `a < 5` (esto es, 5 < 5 ) se vuelve falsa.\n",
    "\n",
    "\n",
    "El segundo método para finalizar un bucle es vía la palabra reservada **break** . Cuando Python se encuentra con esta instrucción dentro de un bucle, éste termina abruptamente, por más que la condición siga siendo verdadera.\n",
    "\n",
    "Nuestro código anterior puede replicarse usando `break` del siguiente modo:"
   ]
  },
  {
   "cell_type": "code",
   "execution_count": null,
   "id": "885f9090",
   "metadata": {},
   "outputs": [],
   "source": [
    "a = 1\n",
    "while True:\n",
    "    if a < 5:\n",
    "        print(\"Hola mundo\")\n",
    "        a = a + 1\n",
    "    else:\n",
    "        break"
   ]
  },
  {
   "cell_type": "markdown",
   "id": "3a62c5c2",
   "metadata": {},
   "source": [
    "Poner `True` en lugar de una condición hace sencillamente que el bucle se ejecute infinitamente. Luego nos encargaremos de terminarlo manualmente vía `break` cuando la condición ( a < 5 ) sea falsa.\n",
    "\n",
    "\n",
    "## Bucle For\n",
    "El bucle `for`, como tal, también repite la ejecución de un bloque de código, pero no en base a una condición, como en el bucle `while`, sino tantas veces como `elementos` contenga una `lista`. \n",
    "\n",
    "El cuerpo del bucle `for` se ejecuta tantas veces como elementos tenga el elemento iterable. Cualquier iterable: listas, diccionarios, strings pueden ser utilizados.\n",
    "\n",
    "Veamos su sintaxis con el siguiente ejemplo:"
   ]
  },
  {
   "cell_type": "code",
   "execution_count": null,
   "id": "97fe97ea",
   "metadata": {},
   "outputs": [],
   "source": [
    "alumnos = [\"Matias\", \"Jorge\", \"Maria\", \"Gabriela\"]\n",
    "for alumno in alumnos:\n",
    "    print(\"Hola mundo\" )"
   ]
  },
  {
   "cell_type": "markdown",
   "id": "6826ea25",
   "metadata": {},
   "source": [
    "Por el momento prestemos únicamente atención a lo siguiente: si corremos este programa, el bloque de código dentro del `for` - `print(\"Hola mundo\")`- se ejecuta cuatro veces. Si agregamos un `elemento` a la `lista` de alumnos , veremos que se ejecutará cinco veces. Si agregamos otro más, seis. Y así sucesivamente. Los bucles `for` se aplican siempre sobre listas."
   ]
  },
  {
   "cell_type": "code",
   "execution_count": null,
   "id": "df073ca8",
   "metadata": {},
   "outputs": [],
   "source": [
    "alumnos = [\"Matias\", \"Jorge\", \"Maria\", \"Gabriela\"]\n",
    "for alumno in alumnos:\n",
    "    print(alumno)"
   ]
  },
  {
   "cell_type": "markdown",
   "id": "c1a2f6c3",
   "metadata": {},
   "source": [
    "Lo que ocurre es que en cada ejecución del bloque de código (que por la cantidad de `elementos` que tiene nuestra `lista` serán cuatro) la variable alumno contendrá un `elemento` de la lista alumnos diferente, siguiendo el orden en el que fueron definidos. En efecto, el código anterior es funcionalmente igual al a este:"
   ]
  },
  {
   "cell_type": "code",
   "execution_count": null,
   "id": "9da34a42",
   "metadata": {},
   "outputs": [],
   "source": [
    "alumnos = [\"Matias\", \"Jorge\", \"Maria\", \"Gabriela\"]\n",
    "alumno = alumnos[0]\n",
    "print(alumno)\n",
    "alumno = alumnos[1]\n",
    "print(alumno)\n",
    "alumno = alumnos[2]\n",
    "print(alumno)\n",
    "alumno = alumnos[3]\n",
    "print(alumno)"
   ]
  },
  {
   "cell_type": "markdown",
   "id": "c75090b1",
   "metadata": {},
   "source": [
    "La diferencia es que el bucle `for` se encarga de realizar las asignaciones a la variable alumno de forma automática.\n",
    "\n",
    "\n",
    "## Comparacion de bucles\n",
    "La mayoría de las tareas que requieren repitencia de un código (para las cuales los bucles son la herramienta ideal) pueden solucionarse usando cualquiera de los dos bucles que\n",
    "vimos. Sin embargo, en ocasiones es más pertinente alguno de ellos en particular. \n",
    "\n",
    "Supongamos que queremos imprimir números del uno al diez. Usar un `while` es una opción:"
   ]
  },
  {
   "cell_type": "code",
   "execution_count": null,
   "id": "651c41ba",
   "metadata": {},
   "outputs": [],
   "source": [
    "i = 1\n",
    "while i <= 10:\n",
    "    print(i)\n",
    "    i = i + 1"
   ]
  },
  {
   "cell_type": "markdown",
   "id": "f4347791",
   "metadata": {},
   "source": [
    "La alternativa es un bucle `for`:"
   ]
  },
  {
   "cell_type": "code",
   "execution_count": null,
   "id": "75f28fe3",
   "metadata": {},
   "outputs": [],
   "source": [
    "for i in [1, 2, 3, 4, 5, 6, 7, 8, 9, 10]:\n",
    "    print(i)"
   ]
  },
  {
   "cell_type": "markdown",
   "id": "cbd6fc46",
   "metadata": {},
   "source": [
    "## Range\n",
    "\n",
    "\n",
    "Aquí es claro cuál de los dos métodos es más conveniente: si ahora queremos imprimir números del uno al cien, el bucle `while` solo necesita modificar su condición por `i <= 100` .\n",
    "Pero en el caso segundo caso hay que agregar los noventa números restantes a la lista. Para solucionar este último inconveniente, Python incluye una instrucción llamada **range** que genera listas de números enteros en tiempo de ejecución. \n",
    "\n",
    "El código anterior, usando esta nueva instrucción, se expresa de la siguiente forma:"
   ]
  },
  {
   "cell_type": "code",
   "execution_count": null,
   "id": "6a3549d5",
   "metadata": {},
   "outputs": [],
   "source": [
    "for i in range(1, 11):\n",
    "    print(i)"
   ]
  },
  {
   "cell_type": "markdown",
   "id": "d7becf0b",
   "metadata": {},
   "source": [
    "La instrucción `range(inicio, fin)` genera una lista de números desde inicio hasta fin-1 (de ahí que `range(1, 11)` produzca números del uno al diez). Ahora es mucho más fácil cambiar este código para imprimir números del uno al cien, simplemente reemplazando `range(1, 11)` por `range(1, 101)`.\n",
    "\n",
    "Otro argumento que puede utilizarse en `range(inicio, fin, saltos)`, donde la tercer opcion seran cada cuantos numeros haran los saltos del conteo. Ejemplo:"
   ]
  },
  {
   "cell_type": "code",
   "execution_count": null,
   "id": "0df23c83",
   "metadata": {},
   "outputs": [],
   "source": [
    "# Range con salto cada 2 numeros\n",
    "for i in range(1, 11, 2):\n",
    "    print(i)"
   ]
  },
  {
   "cell_type": "markdown",
   "id": "231e6034",
   "metadata": {},
   "source": [
    "Hasta ahora vimos cómo crear una lista por extensión (es decir, escribiendo los elementos de la lista al momento de crearla) y vimos cómo crear una lista vacía para luego ir agregándole elementos. Existe otra manera más prolija y eficiente de crear listas que se llama por comprensión. Es muy parecido a crear una lista con un for, pero se hace todo en una sola línea."
   ]
  },
  {
   "cell_type": "code",
   "execution_count": null,
   "id": "a5150f18",
   "metadata": {},
   "outputs": [],
   "source": [
    "lista = [num for num in range(1000)]\n",
    "print(lista)"
   ]
  },
  {
   "cell_type": "markdown",
   "id": "adacc5de",
   "metadata": {},
   "source": [
    "También podemos agregar condiciones y expresiones a las listas por comprensión"
   ]
  },
  {
   "cell_type": "code",
   "execution_count": null,
   "id": "20a77fe8",
   "metadata": {},
   "outputs": [],
   "source": [
    "lista = [num**2 for num in range(-10, 10) if ((num%2 == 0) | (num%3 == 0))]\n",
    "print(lista)"
   ]
  },
  {
   "cell_type": "markdown",
   "id": "e2fbbf98",
   "metadata": {},
   "source": [
    "La sintaxis completa de las listas por comprensión es la siguiente:\n",
    "\n",
    "[*expresión* **for** elemento **in** *iterable* **if** *condición*]\n",
    "\n",
    "Este tipo de listas, a parte de ser más prolijas, son más eficientes."
   ]
  }
 ],
 "metadata": {
  "kernelspec": {
   "display_name": "Python 3 (ipykernel)",
   "language": "python",
   "name": "python3"
  },
  "language_info": {
   "codemirror_mode": {
    "name": "ipython",
    "version": 3
   },
   "file_extension": ".py",
   "mimetype": "text/x-python",
   "name": "python",
   "nbconvert_exporter": "python",
   "pygments_lexer": "ipython3",
   "version": "3.9.12"
  }
 },
 "nbformat": 4,
 "nbformat_minor": 5
}
