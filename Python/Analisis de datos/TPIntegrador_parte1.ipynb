{
 "cells": [
  {
   "cell_type": "markdown",
   "id": "c1be9434",
   "metadata": {},
   "source": [
    "# Curso introducción al análisis de datos con Python\n",
    "\n",
    "## Trabajo práctico integrador"
   ]
  },
  {
   "cell_type": "markdown",
   "id": "c756b385",
   "metadata": {},
   "source": [
    "Para realizar este trabajo prático deberá descargar en su computadora la base de datos `municipios_pba` que se encuentra disponible en el aula del curso.\n",
    "\n",
    "La misma cuenta con los siguientes datos:\n",
    "- **`municipio`:** contiene a todos los municipios de la provincia de Buenos Aires (salvo Lezama).\n",
    "- **`principal_actividad_económica`:** es una variable categórica que indica cuál es la actividad principal del municipio.\n",
    "- **`pob_total_2010`:** contiene la población total del año 2010 para cada municipio.\n",
    "- **`pob_varones_2010`:** contiene la población de varones del año 2010 para cada municipio.\n",
    "- **`pob_mujeres_2010`:** contiene la población de mujeres del año 2010 para cada municipio.\n",
    "- **`pob_total_2022`:** contiene la población total del año 2022 para cada municipio.\n",
    "- **`pob_varones_2022`:** contiene la población de varones del año 2022 para cada municipio.\n",
    "- **`pob_mujeres_2022`:** contiene la población de mujeres del año 2022 para cada municipio.\n",
    "- **`participacion_pbg`:** contine la participación de cada municipio en el PBG de la provincia.\n",
    "- **`participacion_recursos`:** contine la participación de cada municipio en los recursos de la provincia.\n",
    "- **`participacion_pob_nbi`:** contine la participación de cada municipio en la población total de la provincia con Necesidades Básicas Insatisfechas.\n"
   ]
  },
  {
   "cell_type": "markdown",
   "id": "fd8fb6a9",
   "metadata": {},
   "source": [
    "## Parte 1  "
   ]
  },
  {
   "cell_type": "markdown",
   "id": "89a65eaf",
   "metadata": {},
   "source": [
    "**Ejercicio 1:** Importar las librerías **numpy, pandas y matplotlib** con los nombres que desee."
   ]
  },
  {
   "cell_type": "code",
   "execution_count": null,
   "id": "36ed27b0",
   "metadata": {},
   "outputs": [],
   "source": []
  },
  {
   "cell_type": "markdown",
   "id": "129394ee",
   "metadata": {},
   "source": [
    "**Ejercicio 2:**  Cargar la base de datos \"municipios_pba.xlsx\" como un dataframe de pandas que se llame `municipios_df` para empezar a trabajar."
   ]
  },
  {
   "cell_type": "code",
   "execution_count": null,
   "id": "46e9243a",
   "metadata": {},
   "outputs": [],
   "source": [
    "#Cargue la base"
   ]
  },
  {
   "cell_type": "code",
   "execution_count": null,
   "id": "abe3278d",
   "metadata": {},
   "outputs": [],
   "source": [
    "#Muestre las primeras observaciones\n"
   ]
  },
  {
   "cell_type": "markdown",
   "id": "5bcd6aff",
   "metadata": {},
   "source": [
    "**Ejercicio 3:**  Averiguar las dimensiones y el tipo de dato que contiene cada columna del dataframe."
   ]
  },
  {
   "cell_type": "code",
   "execution_count": null,
   "id": "0dd82b60",
   "metadata": {},
   "outputs": [],
   "source": [
    "#shape\n"
   ]
  },
  {
   "cell_type": "code",
   "execution_count": null,
   "id": "79a3b89b",
   "metadata": {},
   "outputs": [],
   "source": [
    "#tdypes\n"
   ]
  },
  {
   "cell_type": "markdown",
   "id": "c9188217",
   "metadata": {},
   "source": [
    "**Ejercicio 4:**  Realizar estadísticas descriptivas para todo el dataframe"
   ]
  },
  {
   "cell_type": "code",
   "execution_count": null,
   "id": "30559d42",
   "metadata": {},
   "outputs": [],
   "source": [
    "#.describe()\n"
   ]
  },
  {
   "cell_type": "markdown",
   "id": "6326e1e5",
   "metadata": {},
   "source": [
    "**Ejercicio 5:**  Calcular el promedio de la población para 2010 y 2022 (columnas `pob_total_2010` y `pob_total_2022`)"
   ]
  },
  {
   "cell_type": "code",
   "execution_count": null,
   "id": "75c7682e",
   "metadata": {},
   "outputs": [],
   "source": [
    "#2010\n",
    "#.mean()\n"
   ]
  },
  {
   "cell_type": "code",
   "execution_count": null,
   "id": "37caa414",
   "metadata": {},
   "outputs": [],
   "source": [
    "#2022\n",
    "#.mean()\n"
   ]
  },
  {
   "cell_type": "markdown",
   "id": "7a6123fc",
   "metadata": {},
   "source": [
    "¿Cuál es mayor?"
   ]
  },
  {
   "cell_type": "markdown",
   "id": "a100b392",
   "metadata": {},
   "source": [
    "Escriba su respuesta acá:"
   ]
  },
  {
   "cell_type": "markdown",
   "id": "9534fbd5",
   "metadata": {},
   "source": [
    "**Ejercicio 6:**  Obtener la cantidad máxima y mínima de mujeres y varones en la población del año 2010 (columnas `pob_mujeres_2010` y `pob_varones_2010`)"
   ]
  },
  {
   "cell_type": "code",
   "execution_count": null,
   "id": "c9a3738b",
   "metadata": {},
   "outputs": [],
   "source": [
    "#mujeres\n",
    "#.max()\n"
   ]
  },
  {
   "cell_type": "code",
   "execution_count": null,
   "id": "226be99d",
   "metadata": {},
   "outputs": [],
   "source": [
    "#mujeres\n",
    "#.min()\n"
   ]
  },
  {
   "cell_type": "code",
   "execution_count": null,
   "id": "d9dc42e2",
   "metadata": {},
   "outputs": [],
   "source": [
    "#varones\n",
    "#.max()\n"
   ]
  },
  {
   "cell_type": "code",
   "execution_count": null,
   "id": "4c1747d6",
   "metadata": {},
   "outputs": [],
   "source": [
    "#varones\n",
    "#.min()\n"
   ]
  },
  {
   "cell_type": "markdown",
   "id": "dbd5179b",
   "metadata": {},
   "source": [
    "**Ejercicio 7:**  Agrupar por principal actividad economica (`principal_actividad_economica`) la cantidad de municipios (`municipio`). Una vez obtenida la tabla, cree dos listas con los resultados de la misma: por un lado tendrá una lista cuyos elementos serán las 6 actividades económicas y por otro lado tendrá una lista que contenga la cantidad de municipios para cada una de ellas. Note que cambas listas tendrán la misma cantidad de elementos."
   ]
  },
  {
   "cell_type": "code",
   "execution_count": null,
   "id": "b5531e51",
   "metadata": {},
   "outputs": [],
   "source": [
    "#.groupby()\n",
    "#count\n"
   ]
  },
  {
   "cell_type": "code",
   "execution_count": null,
   "id": "b2487fae",
   "metadata": {},
   "outputs": [],
   "source": [
    "#cree las listas con los nombres act_economica y cant_municipio\n",
    "act_economica=\n",
    "cant_municipio="
   ]
  },
  {
   "cell_type": "markdown",
   "id": "ceb3fdd1",
   "metadata": {},
   "source": [
    "**Ejercicio 8:**  Generar una nueva columna en el dataframe con el nombre `dif_pob` que sea la diferencia entre la columna `pob_total_2022` y `pob_total_2010`. Generar otra columna con el nombre `part_varones_sobre_mujeres` que contenga la participación de la población de varones (`pob_varones_2010`) sobre la de mujeres (`pob_mujeres_2010`) para el año 2010."
   ]
  },
  {
   "cell_type": "code",
   "execution_count": null,
   "id": "3fbce391",
   "metadata": {},
   "outputs": [],
   "source": [
    "#dif_pob\n"
   ]
  },
  {
   "cell_type": "code",
   "execution_count": null,
   "id": "67101538",
   "metadata": {
    "scrolled": true
   },
   "outputs": [],
   "source": [
    "#part_varones_sobre_mujeres\n"
   ]
  },
  {
   "cell_type": "code",
   "execution_count": null,
   "id": "fb4a3363",
   "metadata": {},
   "outputs": [],
   "source": [
    "#observa el dataframe\n"
   ]
  },
  {
   "cell_type": "markdown",
   "id": "d479aa91",
   "metadata": {},
   "source": [
    "**Ejercicio 9:** Utilizar condicionales para mostrar solo aquellas filas donde la diferencia de población entre 2022 y 2010 sea positiva."
   ]
  },
  {
   "cell_type": "code",
   "execution_count": null,
   "id": "eedcf614",
   "metadata": {},
   "outputs": [],
   "source": [
    "#dif_pob positiva\n"
   ]
  },
  {
   "cell_type": "markdown",
   "id": "e68ac966",
   "metadata": {},
   "source": [
    "**Ejercicio 10:** Realizar un bucle que calcule la participación de mujeres en la población total de cada municipio y lo imprima. Realice uno utilizando la poblacion de 2010 y otro la de 2022.\n"
   ]
  },
  {
   "cell_type": "code",
   "execution_count": null,
   "id": "70aef6f6",
   "metadata": {},
   "outputs": [],
   "source": [
    "#2010\n",
    "#utilice break para interrumpir el bucle\n",
    "\n"
   ]
  },
  {
   "cell_type": "code",
   "execution_count": null,
   "id": "31c2e476",
   "metadata": {},
   "outputs": [],
   "source": [
    "#2022\n",
    "#utilice break para interrumpir el bucle\n"
   ]
  },
  {
   "cell_type": "markdown",
   "id": "9614115d",
   "metadata": {},
   "source": [
    "**Ejercicio 11 (a):** Realizar un gráfico de barras que muestre la cantidad de municipios (en el eje y: utilice la lista creada en el ejercicio **(7)** `cant_municipio`) por actividad económica principal (en el eje x: utilice la lista creada en el ejercicio **(7)** `act_economica`)."
   ]
  },
  {
   "cell_type": "code",
   "execution_count": null,
   "id": "8c6f24ad",
   "metadata": {},
   "outputs": [],
   "source": []
  },
  {
   "cell_type": "markdown",
   "id": "332dc41e",
   "metadata": {},
   "source": [
    "**Ejercicio 11 (b):** Realizar un gráfico que contenga 3 graficos de dispersión:\n",
    "- En el primero muestre la relacion entre la participacion en los recursos (`participacion_recursos`) y la participacion en el pbg de cada municipio (`participacion_pbg`).\n",
    "- En el segundo muestre la relacion entre la participacion en los recursos (`participacion_recursos`) y la participacion en la población con NBI de cada municipio (`participacion_pob_nbi`).\n",
    "- En el tercero muestre la relacion entre la participacion en los recursos (`participacion_recursos`) y la participacion de varones sobre mujeres (`part_varones_sobre_mujeres`)."
   ]
  },
  {
   "cell_type": "code",
   "execution_count": null,
   "id": "9bae9b24",
   "metadata": {},
   "outputs": [],
   "source": [
    "# Primera gráfica\n",
    "\n",
    "# Segunda gráfica\n",
    "\n",
    "# Tercera gráfica"
   ]
  },
  {
   "cell_type": "markdown",
   "id": "78399d16",
   "metadata": {},
   "source": [
    "**Ejercicio 12:** Elegir uno de los gráficos anteriores **(11a)** o **(11b)** y cambiarle algunas caracteríticas:\n",
    "- Colores\n",
    "- Tipo de línea\n",
    "- Tamaños de letra o figura\n",
    "- Agregar título a la figura\n",
    "- Agregar títulos a ejes\n",
    "- Agregar leyenda "
   ]
  },
  {
   "cell_type": "code",
   "execution_count": null,
   "id": "e72c0b52",
   "metadata": {},
   "outputs": [],
   "source": []
  },
  {
   "cell_type": "markdown",
   "id": "5f43253f",
   "metadata": {},
   "source": [
    "**Por último, guarde la base de datos con las dos nuevas variables creadas**"
   ]
  },
  {
   "cell_type": "code",
   "execution_count": null,
   "id": "fefdd2c0",
   "metadata": {},
   "outputs": [],
   "source": [
    "municipios_df.to_excel(\"Escriba acá el directorio donde la quiere guardar/municipios_pba1.xlsx\")"
   ]
  }
 ],
 "metadata": {
  "kernelspec": {
   "display_name": "Python 3 (ipykernel)",
   "language": "python",
   "name": "python3"
  },
  "language_info": {
   "codemirror_mode": {
    "name": "ipython",
    "version": 3
   },
   "file_extension": ".py",
   "mimetype": "text/x-python",
   "name": "python",
   "nbconvert_exporter": "python",
   "pygments_lexer": "ipython3",
   "version": "3.10.9"
  }
 },
 "nbformat": 4,
 "nbformat_minor": 5
}
