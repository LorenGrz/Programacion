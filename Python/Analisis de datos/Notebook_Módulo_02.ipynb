{
 "cells": [
  {
   "cell_type": "markdown",
   "id": "b97ca489",
   "metadata": {
    "id": "b97ca489"
   },
   "source": [
    "# Modulo 2: Pandas - Conociendo un dataset\n",
    "\n"
   ]
  },
  {
   "cell_type": "markdown",
   "id": "4f643e86",
   "metadata": {},
   "source": [
    "Antes de empezar a utilizar una librería, lo primero que debemos hacer es llamarla.\n",
    "En caso de que sea una libreria que no está incluida en python debemos utilizar el comando `pip instal nombredelalibreria` antes de llamarla"
   ]
  },
  {
   "cell_type": "code",
   "execution_count": null,
   "id": "84d55e9e",
   "metadata": {
    "id": "84d55e9e"
   },
   "outputs": [],
   "source": [
    "#importa numpy\n",
    "import numpy as np\n",
    "#importa pandas\n",
    "import pandas as pd"
   ]
  },
  {
   "cell_type": "code",
   "execution_count": null,
   "id": "0dc57f92",
   "metadata": {
    "id": "0dc57f92"
   },
   "outputs": [],
   "source": [
    "#Creamos una serie de datos\n",
    "serie = pd.Series(data = [1,2,3, 4, 6.7],  #Escribimos los valores del serie\n",
    "          index=['primero', 'segundo' ,'tercero', 'cuarto', 'quinto']) #Indexamos los valores de la serie"
   ]
  },
  {
   "cell_type": "code",
   "execution_count": null,
   "id": "563387b9",
   "metadata": {
    "id": "563387b9",
    "outputId": "e3b02cfd-be90-4945-a581-4ad758b8a2aa"
   },
   "outputs": [],
   "source": [
    "#Veamos qué objeto es lo que acabamos de crear\n",
    "type(serie)"
   ]
  },
  {
   "cell_type": "code",
   "execution_count": null,
   "id": "b7772b09",
   "metadata": {
    "id": "b7772b09",
    "outputId": "9f583f7c-2780-4f7b-e991-d9e6590e7322"
   },
   "outputs": [],
   "source": [
    "serie "
   ]
  },
  {
   "cell_type": "code",
   "execution_count": null,
   "id": "c310a238",
   "metadata": {
    "id": "c310a238",
    "outputId": "fc079272-ecea-449a-8676-79e860f43046",
    "scrolled": true
   },
   "outputs": [],
   "source": [
    "serie.columns"
   ]
  },
  {
   "cell_type": "markdown",
   "id": "85538a04",
   "metadata": {},
   "source": [
    "**¿Qué sucede en este caso?** Nos marca un error porque las _Series_ no tienen columnas (mirar la imagen al inicio del módulo)\n",
    "\n",
    "Probemos entonces creando un _DataFrame_"
   ]
  },
  {
   "cell_type": "code",
   "execution_count": null,
   "id": "34459f94",
   "metadata": {
    "id": "34459f94"
   },
   "outputs": [],
   "source": [
    "df = pd.DataFrame(data = [1,2,3, 4, 6.7], \n",
    "          index=['primero', 'segundo' ,'tercero', 'cuarto', 'quinto'])\n",
    "#Generalmente se los nombra con las letras df\n",
    "\n",
    "df #para mostrarlo"
   ]
  },
  {
   "cell_type": "markdown",
   "id": "e7d68190",
   "metadata": {},
   "source": [
    "Notar que ahora si tenemos una columna cuyo nombre es cero."
   ]
  },
  {
   "cell_type": "code",
   "execution_count": null,
   "id": "97964ca0",
   "metadata": {
    "id": "97964ca0",
    "outputId": "d12100a4-0bda-4af8-9f9d-8c6574993f03"
   },
   "outputs": [],
   "source": [
    "df.index"
   ]
  },
  {
   "cell_type": "code",
   "execution_count": null,
   "id": "8b2e2751",
   "metadata": {
    "id": "8b2e2751",
    "outputId": "292a88d1-9591-44cd-efc9-e6df748fa6a2"
   },
   "outputs": [],
   "source": [
    "df.columns"
   ]
  },
  {
   "cell_type": "code",
   "execution_count": null,
   "id": "57294f5f",
   "metadata": {},
   "outputs": [],
   "source": [
    "#Otro ejemplo de DataFrame con nombre en filas y columnas\n",
    "df1= pd.DataFrame([ [0, 1, 2, 5], [3,4,5,4] ], \n",
    "                  columns=[\"a\", \"b\", \"c\", \"d\"],\n",
    "                 index=['primero', 'segundo'])\n",
    "df1"
   ]
  },
  {
   "cell_type": "code",
   "execution_count": null,
   "id": "2d475623",
   "metadata": {},
   "outputs": [],
   "source": [
    "df1.columns"
   ]
  },
  {
   "cell_type": "code",
   "execution_count": null,
   "id": "826db8d9",
   "metadata": {},
   "outputs": [],
   "source": [
    "df1.index"
   ]
  },
  {
   "cell_type": "code",
   "execution_count": null,
   "id": "bb027cf8",
   "metadata": {},
   "outputs": [],
   "source": [
    "#Otra forma de escribir el DF anterior\n",
    "df2=pd.DataFrame({'a': [0, 3], 'b': [1,4], 'c': [2,5], 'd': [5,4]}, index=['primero', 'segundo'])\n",
    "df2"
   ]
  },
  {
   "cell_type": "markdown",
   "id": "097ed87a",
   "metadata": {},
   "source": [
    "## Importar dataframes"
   ]
  },
  {
   "cell_type": "markdown",
   "id": "2deb6b97",
   "metadata": {
    "id": "2deb6b97"
   },
   "source": [
    "Pandas nos facilita con varias funciones para leer archivos que están por fuera del entorno de python. Entre ellas podemos encontrar:\n",
    "\n",
    "- `.read_csv()`: lee archivos `csv` como DataFrame\n",
    "- `.read_json()`: lee archivos `json` como DataFrame\n",
    "- `.read_excel()`: leer archivos `excel` como DataFrame\n",
    "\n",
    "Para conocer más funciones que ayuden a leer archivos, consulta [acá](https://pandas.pydata.org/pandas-docs/stable/user_guide/io.html)"
   ]
  },
  {
   "cell_type": "markdown",
   "id": "3ba4a24b",
   "metadata": {
    "id": "3ba4a24b"
   },
   "source": [
    "Nosotros vamos a usar [`.read_csv()`](https://pandas.pydata.org/pandas-docs/stable/reference/api/pandas.read_csv.html). "
   ]
  },
  {
   "cell_type": "markdown",
   "id": "f80f21e1",
   "metadata": {
    "id": "f80f21e1"
   },
   "source": [
    "Los archivos `csv` son un tipo de documento en formato abierto sencillo para representar datos en forma de tabla, en las que las columnas se separan por comas (o punto y coma) y las filas por saltos de línea. Es uno de los formatos más utilizados en Data Science."
   ]
  },
  {
   "cell_type": "markdown",
   "id": "ebeb2966",
   "metadata": {
    "id": "ebeb2966"
   },
   "source": [
    "La sintaxis para poder leer un archivo csv es: \n",
    "    \n",
    "`df = pd.read_csv('nombredelarchivo.csv', delimiter=',')`\n",
    "\n",
    "Aunque muchas veces se omite el `delimiter` si el archivo esta separado por comas."
   ]
  },
  {
   "cell_type": "markdown",
   "id": "25758769",
   "metadata": {
    "id": "25758769"
   },
   "source": [
    "Vamos a trabajar con el archivo `StudentsPerformance.csv` (Lo podes encontrar en la carpeta Clase2). Es usual descargar el archivo `csv` en la misma carpeta en la que trabajas con el jupyter notebook. De esta manera, no tendras que especificar el path a tu archivo.\n",
    "\n",
    "1) Lee el archivo csv `StudentsPerformace` usando `pandas`. Guardalo en una variable llamada `students`."
   ]
  },
  {
   "cell_type": "code",
   "execution_count": null,
   "id": "14b89294",
   "metadata": {
    "id": "14b89294"
   },
   "outputs": [],
   "source": [
    "students = pd.read_csv(\"StudentsPerformance.csv\")"
   ]
  },
  {
   "cell_type": "code",
   "execution_count": null,
   "id": "ee13df5d",
   "metadata": {
    "id": "ee13df5d",
    "outputId": "376a41f6-e0eb-4828-8bfd-c3216ad29f50",
    "scrolled": true
   },
   "outputs": [],
   "source": [
    "students"
   ]
  },
  {
   "cell_type": "markdown",
   "id": "4c517868",
   "metadata": {},
   "source": [
    "## Funciones"
   ]
  },
  {
   "cell_type": "code",
   "execution_count": null,
   "id": "72894824",
   "metadata": {
    "id": "72894824",
    "outputId": "763af396-ba97-4010-83e0-ac5118a62a0b"
   },
   "outputs": [],
   "source": [
    "#Miremos el index de este DataFrame\n",
    "students.index"
   ]
  },
  {
   "cell_type": "markdown",
   "id": "6a21124d",
   "metadata": {
    "id": "6a21124d"
   },
   "source": [
    "2) ¿Qué tipo de estructura de datos contiene la variable `students`? Para saberlo utilizamos `type`"
   ]
  },
  {
   "cell_type": "code",
   "execution_count": null,
   "id": "4e9f4ff6",
   "metadata": {
    "id": "4e9f4ff6",
    "outputId": "62f9382e-352c-433d-a100-312d07902b58"
   },
   "outputs": [],
   "source": [
    "type(students)"
   ]
  },
  {
   "cell_type": "markdown",
   "id": "17cef6bb",
   "metadata": {
    "id": "17cef6bb"
   },
   "source": [
    "3) ¿Cuántas filas y columnas tiene `students`? Para contestar esta pregunta, pandas tiene la funcion `.shape`. Su sintaxis es la siguiente: `df.shape` (`df` debe ser reemplazado por el nombre de tu `DataFrame`). \n",
    "\n",
    "\n",
    "De ahora en más cuando nos refiramos a un tipo de sintaxis donde debe colocarse `nombre_del_data_frame.funcion()`, la mencionaremos como `.funcion()`.\n",
    "\n",
    "¿Qué devuelve esta funcion? ¿Cuál crees que corresponde a las filas y cual a las columnas?\n",
    "\n",
    "\n",
    "**Numero de filas**: ____\n",
    "\n",
    "**Numero de columnas**: ____"
   ]
  },
  {
   "cell_type": "code",
   "execution_count": null,
   "id": "5dece862",
   "metadata": {
    "id": "5dece862",
    "outputId": "b2f8a1a7-5273-4853-c930-6522e6f760c6"
   },
   "outputs": [],
   "source": [
    "students.shape"
   ]
  },
  {
   "cell_type": "markdown",
   "id": "53730be8",
   "metadata": {
    "id": "53730be8"
   },
   "source": [
    "4) ¿Cuál es el nombre de las columnas contenidas en `students`? Para esto, pandas tiene el atributo `.columns`."
   ]
  },
  {
   "cell_type": "code",
   "execution_count": null,
   "id": "69838774",
   "metadata": {
    "id": "69838774",
    "outputId": "0a63b61d-3771-4ac9-f184-51ba39e4a751"
   },
   "outputs": [],
   "source": [
    "students.columns"
   ]
  },
  {
   "cell_type": "markdown",
   "id": "617b42a1",
   "metadata": {
    "id": "617b42a1"
   },
   "source": [
    "5) Inspecciona las primeras 10 filas de `students` usando la función `.head()`. Dentro de esta función podemos colocar un numero. Este numero nos dira cuantas filas queremos observar."
   ]
  },
  {
   "cell_type": "code",
   "execution_count": null,
   "id": "508ac042",
   "metadata": {
    "id": "508ac042",
    "outputId": "012a3ba2-233d-4bdb-932f-985cdd714b67"
   },
   "outputs": [],
   "source": [
    "students.head(10)"
   ]
  },
  {
   "cell_type": "markdown",
   "id": "f4421837",
   "metadata": {
    "id": "f4421837"
   },
   "source": [
    "6) Ahora inspecciona las 10 ultimas usando `.tail()`. También podemos indicar el número de filas que queremos observar."
   ]
  },
  {
   "cell_type": "code",
   "execution_count": null,
   "id": "afa93898",
   "metadata": {
    "id": "afa93898",
    "outputId": "6e2a3161-2cff-4ef5-8bb8-412ae8c6ecfb"
   },
   "outputs": [],
   "source": [
    "students.tail(10)"
   ]
  },
  {
   "cell_type": "markdown",
   "id": "99b2da8c",
   "metadata": {
    "id": "99b2da8c"
   },
   "source": [
    "7) ¿Qué tipos de datos contiene cada una de las columnas de `students`? Para esto, utiliza el atributo `.dtypes`."
   ]
  },
  {
   "cell_type": "code",
   "execution_count": null,
   "id": "a1a568ba",
   "metadata": {
    "id": "a1a568ba",
    "outputId": "0b13e912-51a5-4153-e2b0-74062a87d21b"
   },
   "outputs": [],
   "source": [
    "students.dtypes"
   ]
  },
  {
   "cell_type": "markdown",
   "id": "7777c61e",
   "metadata": {
    "id": "7777c61e"
   },
   "source": [
    "8) ¿Cómo accedemos a una fila o a una columa de un DataFrame?\n",
    "\n",
    "Una de las maneras de acceder a una columna es especificando el nombre de la misma. Por ejemplo, `df['nombre_columna']`.\n",
    "\n",
    "- Accede a la columna `gender` de `students`."
   ]
  },
  {
   "cell_type": "code",
   "execution_count": null,
   "id": "4e3b3426",
   "metadata": {
    "id": "4e3b3426",
    "outputId": "eebc294c-6440-44d3-e591-1c06158966da"
   },
   "outputs": [],
   "source": [
    "students['gender']\n"
   ]
  },
  {
   "cell_type": "markdown",
   "id": "c22a64a7",
   "metadata": {
    "id": "c22a64a7"
   },
   "source": [
    "- Accede ahora a la columna `lunch`."
   ]
  },
  {
   "cell_type": "code",
   "execution_count": null,
   "id": "789d2a1e",
   "metadata": {
    "id": "789d2a1e",
    "outputId": "e3dce7e4-4244-4a82-e783-8d1b9c209b52"
   },
   "outputs": [],
   "source": [
    "students['lunch']"
   ]
  },
  {
   "cell_type": "code",
   "execution_count": null,
   "id": "cbacefd9",
   "metadata": {
    "id": "cbacefd9",
    "outputId": "2b7196dd-3802-40e5-e16f-48af6d62c945"
   },
   "outputs": [],
   "source": [
    "students.lunch"
   ]
  },
  {
   "cell_type": "markdown",
   "id": "ad940e4b",
   "metadata": {
    "id": "ad940e4b"
   },
   "source": [
    "Otra manera de acceder es usando dos funciones `.loc[]` y `.iloc[]`.\n",
    "\n",
    "- `iloc[1:m, 1:n]`: Se usa para seleccionar filas basadas en su posición de 1 a m filas y de 1 a n columnas. "
   ]
  },
  {
   "cell_type": "code",
   "execution_count": null,
   "id": "67af2c01",
   "metadata": {
    "id": "67af2c01",
    "outputId": "8938312e-8552-4b87-e267-c7286e449207"
   },
   "outputs": [],
   "source": [
    "#seleccionar las dos primeras filas y 3 columnas\n",
    "students.iloc[:2,:3]"
   ]
  },
  {
   "cell_type": "code",
   "execution_count": null,
   "id": "8d7c5bfc",
   "metadata": {
    "id": "8d7c5bfc",
    "outputId": "db229539-b39d-4b24-8ab9-8a7349e9780f"
   },
   "outputs": [],
   "source": [
    "# o tambión se usa para las dos primeras filas y todas sus columnas\n",
    "students.iloc[:2,]"
   ]
  },
  {
   "cell_type": "code",
   "execution_count": null,
   "id": "95e12e8f",
   "metadata": {
    "id": "95e12e8f",
    "outputId": "130d1100-626c-49a9-e162-9f48b99f8986"
   },
   "outputs": [],
   "source": [
    "#Selecciona los datos entre la decima y vigesima fila.\n",
    "students.iloc[10:21]"
   ]
  },
  {
   "cell_type": "code",
   "execution_count": null,
   "id": "61da7ebd",
   "metadata": {
    "id": "61da7ebd",
    "outputId": "9eb9c366-8d46-45c5-d698-c99ca6de5ccc"
   },
   "outputs": [],
   "source": [
    "#Selecciona todos los datos para las dos primeras columnas \n",
    "students.iloc[:, :2]"
   ]
  },
  {
   "cell_type": "markdown",
   "id": "9ba5cfe7",
   "metadata": {
    "id": "9ba5cfe7"
   },
   "source": [
    "- `.loc[[nombre_fila], [nombre_columna]]`. Se usa para seleccionar filas o columnas basadas en su nombre "
   ]
  },
  {
   "cell_type": "code",
   "execution_count": null,
   "id": "c2dba0e3",
   "metadata": {
    "id": "c2dba0e3",
    "outputId": "2ed16fd6-70a3-4ab6-9650-708e7e1d718f"
   },
   "outputs": [],
   "source": [
    "#Selecciona la fila por nombre 1, o sea con indice igual a 0\n",
    "students.loc[0]"
   ]
  },
  {
   "cell_type": "code",
   "execution_count": null,
   "id": "d207416c",
   "metadata": {
    "id": "d207416c",
    "outputId": "bb44d572-f302-4016-c1c5-b1cd808f50f2"
   },
   "outputs": [],
   "source": [
    "#Corre el código y observa que devuelve\n",
    "students.loc[[1,20,3,4,5],['gender','lunch','race/ethnicity']]"
   ]
  },
  {
   "cell_type": "code",
   "execution_count": null,
   "id": "b58b71f1",
   "metadata": {
    "id": "b58b71f1",
    "outputId": "17e89664-39e0-430e-98b4-44a048ea5fec"
   },
   "outputs": [],
   "source": [
    "#Selecciona las filas con indices 3, 10, 30, 43, 43 y columnas reading score y writing score\n",
    "students.loc[[3, 10, 30, 43, 43], ['reading score', 'writing score']]"
   ]
  },
  {
   "cell_type": "code",
   "execution_count": null,
   "id": "7e330dcf",
   "metadata": {
    "id": "7e330dcf"
   },
   "outputs": [],
   "source": [
    "df2 = pd.DataFrame(data = ['perro', 'gato', 'flor'], index = ['str1', 'str2', 'st32'], columns=['titulo'])"
   ]
  },
  {
   "cell_type": "code",
   "execution_count": null,
   "id": "ad325e84",
   "metadata": {
    "id": "ad325e84",
    "outputId": "1c07c981-2f57-4fa2-c6cc-3dff62682add"
   },
   "outputs": [],
   "source": [
    "df2"
   ]
  },
  {
   "cell_type": "code",
   "execution_count": null,
   "id": "961e12db",
   "metadata": {
    "id": "961e12db",
    "outputId": "7b7812f4-8cef-437f-a1b8-3a3085444031"
   },
   "outputs": [],
   "source": [
    "df2.loc['str2']"
   ]
  },
  {
   "cell_type": "code",
   "execution_count": null,
   "id": "3805a424",
   "metadata": {
    "id": "3805a424",
    "outputId": "a6f6056e-9818-4afd-c51a-2a855ebb83b0"
   },
   "outputs": [],
   "source": [
    "df2.iloc[1]"
   ]
  },
  {
   "cell_type": "markdown",
   "id": "17a07406",
   "metadata": {
    "id": "17a07406"
   },
   "source": [
    "## Aplicando condicionales\n",
    " \n",
    "A veces queremos seleccionar filas que cumplan con ciertas condiciones, donde el valor de una columna en esa fila sea igual, mayor o menor que un valor.\n",
    "\n",
    "Para esto tenemos que usar una sintáxis especial. Vamos a construirla de a poco. \n",
    "\n",
    "Imaginemos que tenemos un DataFrame `df` con las columnas `col1`, `col2` y `col3` y queremos seleccionar solo aquellas filas donde `col1` sea mayor a 10.\n",
    "\n",
    "Para eso diremos que:\n",
    "\n",
    "`df['col1'] > 10` (La columna col1 debe ser mayor a 10). \n",
    "Ahora si corremos este codigo, veremos que devuelve valores booleanos. O sea devolvera False para aquellos valores que sean menores o iguales a 10 y True para los que sean mayores a 10.\n",
    "\n",
    "O sea que tenemos que agregar algo mas para poder seleccionar las columnas. Esta lista de valores booleanos se llama mascara booleana. \n",
    "\n",
    "¿Qué significa? Que si yo le paso estos valores a pandas, pandas interpretara que debe conservar aquellos valores donde tiene True y descartar donde tiene False.\n",
    "\n",
    "Por eso, para filtrar filas en base a estas condiciones escribimos:\n",
    "\n",
    "**`df[df['col1] > 10]`**\n",
    "\n",
    "Esto significa primero fijate en que filas de `df`, la columna `col1` es mayor a 10. Luego, selecciona solo aquellas filas donde esta condicion sea `True` y mostralas."
   ]
  },
  {
   "cell_type": "code",
   "execution_count": null,
   "id": "72887862",
   "metadata": {
    "id": "72887862",
    "outputId": "239fca68-0129-4536-93ef-c06264c20025"
   },
   "outputs": [],
   "source": [
    "#Selecciona solo las filas donde math score sea mayor a 70\n",
    "students[students['math score'] > 70]"
   ]
  },
  {
   "cell_type": "code",
   "execution_count": null,
   "id": "2df7d00b",
   "metadata": {
    "id": "2df7d00b",
    "outputId": "0f2640cc-b976-48ce-9117-2ac19c2bb5ab"
   },
   "outputs": [],
   "source": [
    "#Selecciona solo las filas donde reading score sea menor a 60\n",
    "students[students['reading score'] < 60]"
   ]
  },
  {
   "cell_type": "code",
   "execution_count": null,
   "id": "0c15281d",
   "metadata": {
    "id": "0c15281d",
    "outputId": "3b51bb0a-5905-4ecb-d1bc-7d5c79bd9121"
   },
   "outputs": [],
   "source": [
    "#Selecciona solo las filas donde gender sea igual a female\n",
    "students[students['gender'] == 'female']"
   ]
  },
  {
   "cell_type": "code",
   "execution_count": null,
   "id": "716065ec",
   "metadata": {
    "id": "716065ec",
    "outputId": "4c9e0625-2ce9-45a3-a4f3-aa587ea34272"
   },
   "outputs": [],
   "source": [
    "#Selecciona solo aquellas filas donde lunch sea distinto a standard\n",
    "students[students['lunch']!='standard']"
   ]
  },
  {
   "cell_type": "code",
   "execution_count": null,
   "id": "fba3a12b",
   "metadata": {
    "id": "fba3a12b",
    "outputId": "f51ab0ba-27c6-4746-c64a-cd7a6ea1583e"
   },
   "outputs": [],
   "source": [
    "#Muestra los valores de writing score para aquellos estudiantes que tengan reading score mayor a math score\n",
    "students[students['reading score'] > students['math score']]['writing score']"
   ]
  },
  {
   "cell_type": "code",
   "execution_count": null,
   "id": "6ee2cada",
   "metadata": {
    "id": "6ee2cada",
    "outputId": "764864aa-a913-4102-f504-d0bcbc35fc88"
   },
   "outputs": [],
   "source": [
    "#Selecciona aquellos estudiantes que posean reading and writing score mayor a 70\n",
    "students[(students['reading score']>70)&(students['writing score']>70)]"
   ]
  },
  {
   "cell_type": "markdown",
   "id": "f33e5e17",
   "metadata": {
    "id": "f33e5e17"
   },
   "source": [
    "### Missing Values o Valores faltantes\n",
    "\n",
    "Los valores faltantes son un problema muy grande a la hora de visualizar y limpiar datos así como también a la hora de entrenar un modelo. Uno de los pasos obligados de cualquier exploración de datos es evaluar la presencia de estos valores.\n",
    "\n",
    "Cómo manejar estos datos faltantes es un gran desafio, la mayoría de las veces no queremos eliminar esos valores porque significaría perder información valiosa en otros features que si tienen un valor asignado. \n",
    "\n",
    "Los valores faltantes estan codificados normalemente como `NaN`. Esto no es un string, sino que es un valor especial de la libreria `NumPy` que es tratado como un flotante.\n",
    "\n",
    "Algunas veces también se puede encontrar un dato faltante con la forma `None` (objeto de Python que representa ausencia de dato)\n",
    "\n",
    "Para chequear si tenemos valores faltantes podemos usar la función `.isnull()`. Esto nos devuelve una nueva DataFrame en la cual tendremos el valor False si no es faltante y True si ese valor es faltante."
   ]
  },
  {
   "cell_type": "code",
   "execution_count": null,
   "id": "0d8e990a",
   "metadata": {
    "id": "4195820f"
   },
   "outputs": [],
   "source": [
    "#Usa .isnull() para ver que ocurre\n",
    "students.isnull()"
   ]
  },
  {
   "cell_type": "code",
   "execution_count": null,
   "id": "01643261",
   "metadata": {
    "id": "01643261",
    "outputId": "0898b099-b615-441c-97e4-bcca9ca0f9a5"
   },
   "outputs": [],
   "source": [
    "#Prueba usar .isnull().sum() sobre tu dataframe para ver que devuelve\n",
    "students.isnull().sum()"
   ]
  },
  {
   "cell_type": "markdown",
   "id": "afffb3db",
   "metadata": {
    "id": "afffb3db"
   },
   "source": [
    "¿Hay valores faltantes en alguna de las columnas del DataFrame `students`?"
   ]
  },
  {
   "cell_type": "markdown",
   "id": "419e34c1",
   "metadata": {
    "id": "419e34c1"
   },
   "source": [
    "Si la cantidad de valores faltantes es poca, podemos entonces deshacernos de ellas. Para esto pandas ofrece la función [`.dropna()`](https://pandas.pydata.org/pandas-docs/stable/reference/api/pandas.DataFrame.dropna.html). Esta función hara que se eliminen las filas donde hay valores faltantes. Si no le pasamos ningun parametro extra, eliminara todas las filas con valores faltantes. Sin embargo, podes chequear en la documentación como eliminar solo algunas de las filas."
   ]
  },
  {
   "cell_type": "code",
   "execution_count": null,
   "id": "26b2a2e9",
   "metadata": {
    "id": "26b2a2e9"
   },
   "outputs": [],
   "source": [
    "#Elimina todas las filas que tengan valores faltantes. No te olvides de poner inplace=True dentro de la función.\n",
    "students.dropna(inplace=True)\n",
    "students"
   ]
  },
  {
   "cell_type": "markdown",
   "id": "23db8439",
   "metadata": {
    "id": "23db8439"
   },
   "source": [
    "## Estadísticas descriptivas\n",
    "\n",
    "Una manera de ver facilmente algunos detalles estadísticos de cada columna de un DataFrame es usando la fución `.describe()`."
   ]
  },
  {
   "cell_type": "code",
   "execution_count": null,
   "id": "8f8fffcc",
   "metadata": {
    "id": "8f8fffcc",
    "outputId": "e194c792-0de5-4b52-d6d7-dd0bb789d13a"
   },
   "outputs": [],
   "source": [
    "#Usa la funcion .describe() sobre students y describe que informacion estadistica proporciona\n",
    "students.describe()"
   ]
  },
  {
   "cell_type": "markdown",
   "id": "7a451d6a",
   "metadata": {
    "id": "7a451d6a"
   },
   "source": [
    "Tambien es posible visualizar estadísticas descriptivas específicas, por ejemplo, calcular solo el promedio de una columna de interés. \n",
    "Para esto pandas usa una función de numpy, pero provee la misma sintaxis que las demás funciones. Por ejemplo, si queremos calcular el promedio de la columna `col1` del DataFrame `df` usamos **`df['col1'].mean()`**."
   ]
  },
  {
   "cell_type": "code",
   "execution_count": null,
   "id": "b96a8bf7",
   "metadata": {
    "id": "b96a8bf7",
    "outputId": "934089e3-d126-4876-c1f1-03c12e65c40b"
   },
   "outputs": [],
   "source": [
    "#Calcula el promedio de la columna math score de students\n",
    "students['math score'].mean()"
   ]
  },
  {
   "cell_type": "code",
   "execution_count": null,
   "id": "7478ce43",
   "metadata": {},
   "outputs": [],
   "source": [
    "students['gender'].mean()"
   ]
  },
  {
   "cell_type": "markdown",
   "id": "4d95759e",
   "metadata": {
    "id": "4d95759e"
   },
   "source": [
    "De la misma manera, podemos usar funciones como `.min()`, `.max()`, `.median()`, `.std()`."
   ]
  },
  {
   "cell_type": "code",
   "execution_count": null,
   "id": "b20d7252",
   "metadata": {
    "id": "b20d7252",
    "outputId": "3e56c5c8-1d76-4506-d3cf-1aff44622e21"
   },
   "outputs": [],
   "source": [
    "#Calcula el minimo y maximo valor, la mediana y el desvio estandard en la columna math score de students\n",
    "students['math score'].min()"
   ]
  },
  {
   "cell_type": "code",
   "execution_count": null,
   "id": "dc010feb",
   "metadata": {
    "id": "dc010feb",
    "outputId": "6951b212-0f95-41b7-a3f4-9423695369d4"
   },
   "outputs": [],
   "source": [
    "students['math score'].max()"
   ]
  },
  {
   "cell_type": "code",
   "execution_count": null,
   "id": "29fa98b6",
   "metadata": {
    "id": "29fa98b6",
    "outputId": "11a0ba41-17c7-4dbd-950c-23217de26e5b"
   },
   "outputs": [],
   "source": [
    "students['math score'].median()"
   ]
  },
  {
   "cell_type": "code",
   "execution_count": null,
   "id": "d08710ac",
   "metadata": {
    "id": "d08710ac",
    "outputId": "ad9c4acb-bcac-4272-cd0d-7da8cfacfcf4"
   },
   "outputs": [],
   "source": [
    "students['math score'].std()"
   ]
  },
  {
   "cell_type": "markdown",
   "id": "9087e7f6",
   "metadata": {
    "id": "9087e7f6"
   },
   "source": [
    "## Funciones en Pandas\n",
    "\n",
    "Podes investigar [acá](https://pandas.pydata.org/pandas-docs/stable/index.html) algunas de las funciones que ofrece `pandas` para aplicarlas en tu código\n"
   ]
  },
  {
   "cell_type": "markdown",
   "id": "914c6d8d",
   "metadata": {},
   "source": [
    "## Indices\n",
    "\n",
    "- `.index`: Los DataFrame contienen una propiedad especial que son los índices. Estos son valores inmutables que se asignan a cada una de las filas del conjunto de datos. Al ser inmutables no es posible cambiar un valor específico, pero sí que es posible modificar todos los índices. "
   ]
  },
  {
   "cell_type": "code",
   "execution_count": null,
   "id": "f5496422",
   "metadata": {
    "id": "f5496422",
    "outputId": "acc1c3d6-2203-4a5e-95f6-f189e1a68dc9",
    "scrolled": true
   },
   "outputs": [],
   "source": [
    "#Veo el indice de las columnas \n",
    "students.index"
   ]
  },
  {
   "cell_type": "code",
   "execution_count": null,
   "id": "e241ed26",
   "metadata": {},
   "outputs": [],
   "source": [
    "students"
   ]
  },
  {
   "cell_type": "markdown",
   "id": "fdadb871",
   "metadata": {},
   "source": [
    "En este caso, el índice de nuestra base de datos es un rango de números que va de 0 a 1000."
   ]
  },
  {
   "cell_type": "markdown",
   "id": "2d592c1b",
   "metadata": {},
   "source": [
    "Algo que no comentamos es que las columnas también se pueden acceder a través de usar **nombrededataframe.nombredelacolumna** \n",
    "\n",
    "Esta nomenclatura en algunos casos hace que sea mas rápida la escritura del codigo pero tambien tenemos que tener cuidado porque es incompatible con los nombres de las columnas que contengan espacios."
   ]
  },
  {
   "cell_type": "code",
   "execution_count": null,
   "id": "19ceead1",
   "metadata": {
    "id": "19ceead1"
   },
   "outputs": [],
   "source": [
    "#Asigno un nuevo indice para las columnas\n",
    "students.index = students.gender"
   ]
  },
  {
   "cell_type": "code",
   "execution_count": null,
   "id": "aec4992a",
   "metadata": {},
   "outputs": [],
   "source": [
    "students.index = students['gender']"
   ]
  },
  {
   "cell_type": "code",
   "execution_count": null,
   "id": "13b34335",
   "metadata": {
    "id": "13b34335",
    "outputId": "13b524f6-478f-4f9b-b2fd-e36f1c0cb8f9"
   },
   "outputs": [],
   "source": [
    "students.head()"
   ]
  },
  {
   "cell_type": "code",
   "execution_count": null,
   "id": "e53b8d6e",
   "metadata": {},
   "outputs": [],
   "source": [
    "students.index"
   ]
  },
  {
   "cell_type": "markdown",
   "id": "afb68c3a",
   "metadata": {
    "id": "afb68c3a"
   },
   "source": [
    "## Eliminar\n",
    "- `.drop()`: Es una función que se utiliza para eliminar filas (axis=0) o columnas (axis=1) específicas de un DataFrame.\n"
   ]
  },
  {
   "cell_type": "code",
   "execution_count": null,
   "id": "34bc79af",
   "metadata": {
    "id": "34bc79af"
   },
   "outputs": [],
   "source": [
    "students.drop('gender', axis=1, inplace=True)"
   ]
  },
  {
   "cell_type": "markdown",
   "id": "7879a069",
   "metadata": {},
   "source": [
    "Por defecto, `.drop()` no modifica el DataFrame original. En su lugar, devuelve un nuevo DataFrame con las filas o columnas especificadas eliminadas. Si queremos modificar el DataFrame original en su lugar, podemos configurar el `inplace=True`."
   ]
  },
  {
   "cell_type": "code",
   "execution_count": null,
   "id": "ea4bb124",
   "metadata": {
    "id": "ea4bb124",
    "outputId": "1226e720-9a94-4513-8f3f-7faa9bdd2ba4"
   },
   "outputs": [],
   "source": [
    "students.head()"
   ]
  },
  {
   "cell_type": "code",
   "execution_count": null,
   "id": "15356918",
   "metadata": {},
   "outputs": [],
   "source": [
    "#borrar filas de mujeres\n",
    "students.drop('female', axis=0)"
   ]
  },
  {
   "cell_type": "markdown",
   "id": "6c6d2570",
   "metadata": {
    "id": "6c6d2570"
   },
   "source": [
    "## Agrupar\n",
    "- `.groupby()`:\n",
    "Es una herramienta que sirve para obtener medidas agrupadas por alguna caracteristica. Permite agrupar algunos datos en función de otros, es decir, hacer un análisis del DataFrame en función de una de las columnas. "
   ]
  },
  {
   "cell_type": "code",
   "execution_count": null,
   "id": "1f7d6858",
   "metadata": {},
   "outputs": [],
   "source": [
    "#en este caso agrupamos por lunch todas las demás variables\n",
    "students.groupby('lunch').mean()"
   ]
  },
  {
   "cell_type": "code",
   "execution_count": null,
   "id": "487e57ab",
   "metadata": {},
   "outputs": [],
   "source": [
    "#en este caso vemos cuál es la nota mínima en escritura agrupada por género\n",
    "students.groupby('gender')['writing score'].min()"
   ]
  },
  {
   "cell_type": "code",
   "execution_count": null,
   "id": "3de88f06",
   "metadata": {
    "id": "3de88f06",
    "outputId": "872bea15-0a83-4d93-ea59-07244d9be2c3",
    "scrolled": true
   },
   "outputs": [],
   "source": [
    "#en este caso vemos cuál es el promedio en reading y el máximo math score agrupadas según genero\n",
    "students.groupby('gender').agg({\"reading score\": \"mean\", \"math score\": \"max\" })"
   ]
  },
  {
   "cell_type": "code",
   "execution_count": null,
   "id": "86f790b6",
   "metadata": {},
   "outputs": [],
   "source": [
    "#Otra forma de usar el groupby es hacerlo para agrupar con más de una categoría\n",
    "students.groupby(['gender','parental level of education']).agg({\"reading score\": \"mean\"})"
   ]
  },
  {
   "cell_type": "markdown",
   "id": "ef62fff3",
   "metadata": {
    "id": "ef62fff3"
   },
   "source": [
    "## Completar \n",
    "- `.fillna()`:Es una función que completa los valores nulos (NA/NaN) con un valor que le especifiquemos"
   ]
  },
  {
   "cell_type": "code",
   "execution_count": null,
   "id": "cf2e01a9",
   "metadata": {
    "id": "cf2e01a9"
   },
   "outputs": [],
   "source": [
    "#si hay valores nulos llena esos valores con el valor que proveamos\n",
    "students['lunch'].fillna('standard', inplace=True)"
   ]
  },
  {
   "cell_type": "markdown",
   "id": "adca8373",
   "metadata": {
    "id": "adca8373"
   },
   "source": [
    "## Renombrar\n",
    "\n",
    "- `.rename()`: es una función que sirve para cambiar el nombre de columnas, indices, etc"
   ]
  },
  {
   "cell_type": "code",
   "execution_count": null,
   "id": "deb9a365",
   "metadata": {
    "id": "deb9a365"
   },
   "outputs": [],
   "source": [
    "students.rename(columns={'lunch': 'meal'}, inplace=True)"
   ]
  },
  {
   "cell_type": "code",
   "execution_count": null,
   "id": "e37176f7",
   "metadata": {
    "id": "e37176f7",
    "outputId": "95a40121-e100-4e52-8a04-2f795bc50abf"
   },
   "outputs": [],
   "source": [
    "students.head()"
   ]
  },
  {
   "cell_type": "markdown",
   "id": "cfb0b86d",
   "metadata": {
    "id": "cfb0b86d"
   },
   "source": [
    "## Cambiar tipo de dato\n",
    "\n",
    "- `.astype()`: es una función que sirve para cambiar de tipo de datos a los valores contenidos en una columna determinada"
   ]
  },
  {
   "cell_type": "code",
   "execution_count": null,
   "id": "f029e120",
   "metadata": {
    "id": "f029e120",
    "outputId": "566d8548-e9b4-4f1c-c1ff-23c681eacc9d"
   },
   "outputs": [],
   "source": [
    "#En este caso, convierte los float de la columna math score en strings\n",
    "students['math score'].astype(str)"
   ]
  },
  {
   "cell_type": "markdown",
   "id": "84f629ec",
   "metadata": {
    "id": "84f629ec"
   },
   "source": [
    "## Valores únicos\n",
    "\n",
    "- `.unique()`: se utiliza para obtener los valores únicos de una variable categórica"
   ]
  },
  {
   "cell_type": "code",
   "execution_count": null,
   "id": "92e3beb6",
   "metadata": {
    "id": "92e3beb6",
    "outputId": "79bba6bd-21d1-4660-88c1-614141f2a929"
   },
   "outputs": [],
   "source": [
    "#Obtiene los valores únicos de una variable categórica\n",
    "students['meal'].unique()"
   ]
  },
  {
   "cell_type": "code",
   "execution_count": null,
   "id": "da0b5a18",
   "metadata": {},
   "outputs": [],
   "source": [
    "students['race/ethnicity'].unique()"
   ]
  },
  {
   "cell_type": "markdown",
   "id": "d85b4f1e",
   "metadata": {
    "id": "d85b4f1e"
   },
   "source": [
    "## Contar\n",
    "\n",
    "- `.count()`: es una función que se utiliza para contar los valores no nulos en el total del DataFrame o en una columna específica"
   ]
  },
  {
   "cell_type": "code",
   "execution_count": null,
   "id": "c4ba5d7a",
   "metadata": {
    "id": "c4ba5d7a",
    "outputId": "3e926fd6-b913-4196-b52c-2ff3da59383b"
   },
   "outputs": [],
   "source": [
    "students.count()"
   ]
  },
  {
   "cell_type": "markdown",
   "id": "3362a5a1",
   "metadata": {
    "id": "3362a5a1"
   },
   "source": [
    "- `.value_counts()`: cuenta la cantidad de veces que cada nivel de una variable categorica aparece"
   ]
  },
  {
   "cell_type": "code",
   "execution_count": null,
   "id": "aadeba8b",
   "metadata": {
    "id": "aadeba8b",
    "outputId": "7b05d5e5-5fb1-4637-fb82-8fbc3ff55673"
   },
   "outputs": [],
   "source": [
    "students['race/ethnicity'].value_counts()"
   ]
  },
  {
   "cell_type": "code",
   "execution_count": null,
   "id": "bf73c016",
   "metadata": {},
   "outputs": [],
   "source": [
    "students['meal'].value_counts()"
   ]
  },
  {
   "cell_type": "markdown",
   "id": "32abf5e3",
   "metadata": {
    "id": "32abf5e3"
   },
   "source": [
    "- `.reset_index()`"
   ]
  },
  {
   "cell_type": "code",
   "execution_count": null,
   "id": "8cb311e7",
   "metadata": {
    "id": "8cb311e7",
    "outputId": "515e5fa9-71de-4b31-a097-553a143cd5d5"
   },
   "outputs": [],
   "source": [
    "#resetea los indices de una df\n",
    "students.reset_index(drop=False)"
   ]
  },
  {
   "cell_type": "markdown",
   "id": "ffe7f56a",
   "metadata": {
    "id": "ffe7f56a"
   },
   "source": [
    "# Base TITANIC"
   ]
  },
  {
   "cell_type": "markdown",
   "id": "b42dfc3b",
   "metadata": {
    "id": "06fd702a"
   },
   "source": [
    "Enumeremos sus variables\n",
    "- PassengerId: Id para cada pasajero\n",
    "- Survived: Vale 0 si no sobrevivió y 1 si sobrevivió \n",
    "- Pclass: Es una variable categoría que indica las clases: Class 1, Class 2 and Class 3.\n",
    "- Name: Nombre del pasajero\n",
    "- Sex: Género del pasajero\n",
    "- Age: Edad del pasajero\n",
    "- SibSp: Indica si el pasajero tiene hermanxs o esposxs.\n",
    "- Parch: Si el pasajero está solo o tiene familia. \n",
    "- Ticket: Número de ticket del pasajero\n",
    "- Fare: Indicador de la tarifa\n",
    "- Cabin: Cabina del pasajero\n",
    "- Embarked: Indica la categoría de embarco."
   ]
  },
  {
   "cell_type": "code",
   "execution_count": 384,
   "id": "34d77258",
   "metadata": {
    "id": "34d77258"
   },
   "outputs": [],
   "source": [
    "#Cargamos la base de datos\n",
    "titanic = pd.read_csv(\"titanic.csv\")"
   ]
  },
  {
   "cell_type": "code",
   "execution_count": 385,
   "id": "2fb00940",
   "metadata": {
    "id": "2fb00940",
    "outputId": "d282d641-85f2-451a-da5c-1a01cbdcb843"
   },
   "outputs": [
    {
     "data": {
      "text/html": [
       "<div>\n",
       "<style scoped>\n",
       "    .dataframe tbody tr th:only-of-type {\n",
       "        vertical-align: middle;\n",
       "    }\n",
       "\n",
       "    .dataframe tbody tr th {\n",
       "        vertical-align: top;\n",
       "    }\n",
       "\n",
       "    .dataframe thead th {\n",
       "        text-align: right;\n",
       "    }\n",
       "</style>\n",
       "<table border=\"1\" class=\"dataframe\">\n",
       "  <thead>\n",
       "    <tr style=\"text-align: right;\">\n",
       "      <th></th>\n",
       "      <th>PassengerId</th>\n",
       "      <th>Survived</th>\n",
       "      <th>Pclass</th>\n",
       "      <th>Name</th>\n",
       "      <th>Sex</th>\n",
       "      <th>Age</th>\n",
       "      <th>SibSp</th>\n",
       "      <th>Parch</th>\n",
       "      <th>Ticket</th>\n",
       "      <th>Fare</th>\n",
       "      <th>Cabin</th>\n",
       "      <th>Embarked</th>\n",
       "    </tr>\n",
       "  </thead>\n",
       "  <tbody>\n",
       "    <tr>\n",
       "      <th>0</th>\n",
       "      <td>1</td>\n",
       "      <td>0</td>\n",
       "      <td>3</td>\n",
       "      <td>Braund, Mr. Owen Harris</td>\n",
       "      <td>male</td>\n",
       "      <td>22.0</td>\n",
       "      <td>1</td>\n",
       "      <td>0</td>\n",
       "      <td>A/5 21171</td>\n",
       "      <td>7.2500</td>\n",
       "      <td>NaN</td>\n",
       "      <td>S</td>\n",
       "    </tr>\n",
       "    <tr>\n",
       "      <th>1</th>\n",
       "      <td>2</td>\n",
       "      <td>1</td>\n",
       "      <td>1</td>\n",
       "      <td>Cumings, Mrs. John Bradley (Florence Briggs Th...</td>\n",
       "      <td>female</td>\n",
       "      <td>38.0</td>\n",
       "      <td>1</td>\n",
       "      <td>0</td>\n",
       "      <td>PC 17599</td>\n",
       "      <td>71.2833</td>\n",
       "      <td>C85</td>\n",
       "      <td>C</td>\n",
       "    </tr>\n",
       "    <tr>\n",
       "      <th>2</th>\n",
       "      <td>3</td>\n",
       "      <td>1</td>\n",
       "      <td>3</td>\n",
       "      <td>Heikkinen, Miss. Laina</td>\n",
       "      <td>female</td>\n",
       "      <td>26.0</td>\n",
       "      <td>0</td>\n",
       "      <td>0</td>\n",
       "      <td>STON/O2. 3101282</td>\n",
       "      <td>7.9250</td>\n",
       "      <td>NaN</td>\n",
       "      <td>S</td>\n",
       "    </tr>\n",
       "    <tr>\n",
       "      <th>3</th>\n",
       "      <td>4</td>\n",
       "      <td>1</td>\n",
       "      <td>1</td>\n",
       "      <td>Futrelle, Mrs. Jacques Heath (Lily May Peel)</td>\n",
       "      <td>female</td>\n",
       "      <td>35.0</td>\n",
       "      <td>1</td>\n",
       "      <td>0</td>\n",
       "      <td>113803</td>\n",
       "      <td>53.1000</td>\n",
       "      <td>C123</td>\n",
       "      <td>S</td>\n",
       "    </tr>\n",
       "    <tr>\n",
       "      <th>4</th>\n",
       "      <td>5</td>\n",
       "      <td>0</td>\n",
       "      <td>3</td>\n",
       "      <td>Allen, Mr. William Henry</td>\n",
       "      <td>male</td>\n",
       "      <td>35.0</td>\n",
       "      <td>0</td>\n",
       "      <td>0</td>\n",
       "      <td>373450</td>\n",
       "      <td>8.0500</td>\n",
       "      <td>NaN</td>\n",
       "      <td>S</td>\n",
       "    </tr>\n",
       "    <tr>\n",
       "      <th>5</th>\n",
       "      <td>6</td>\n",
       "      <td>0</td>\n",
       "      <td>3</td>\n",
       "      <td>Moran, Mr. James</td>\n",
       "      <td>male</td>\n",
       "      <td>NaN</td>\n",
       "      <td>0</td>\n",
       "      <td>0</td>\n",
       "      <td>330877</td>\n",
       "      <td>8.4583</td>\n",
       "      <td>NaN</td>\n",
       "      <td>Q</td>\n",
       "    </tr>\n",
       "    <tr>\n",
       "      <th>6</th>\n",
       "      <td>7</td>\n",
       "      <td>0</td>\n",
       "      <td>1</td>\n",
       "      <td>McCarthy, Mr. Timothy J</td>\n",
       "      <td>male</td>\n",
       "      <td>54.0</td>\n",
       "      <td>0</td>\n",
       "      <td>0</td>\n",
       "      <td>17463</td>\n",
       "      <td>51.8625</td>\n",
       "      <td>E46</td>\n",
       "      <td>S</td>\n",
       "    </tr>\n",
       "    <tr>\n",
       "      <th>7</th>\n",
       "      <td>8</td>\n",
       "      <td>0</td>\n",
       "      <td>3</td>\n",
       "      <td>Palsson, Master. Gosta Leonard</td>\n",
       "      <td>male</td>\n",
       "      <td>2.0</td>\n",
       "      <td>3</td>\n",
       "      <td>1</td>\n",
       "      <td>349909</td>\n",
       "      <td>21.0750</td>\n",
       "      <td>NaN</td>\n",
       "      <td>S</td>\n",
       "    </tr>\n",
       "  </tbody>\n",
       "</table>\n",
       "</div>"
      ],
      "text/plain": [
       "   PassengerId  Survived  Pclass  \\\n",
       "0            1         0       3   \n",
       "1            2         1       1   \n",
       "2            3         1       3   \n",
       "3            4         1       1   \n",
       "4            5         0       3   \n",
       "5            6         0       3   \n",
       "6            7         0       1   \n",
       "7            8         0       3   \n",
       "\n",
       "                                                Name     Sex   Age  SibSp  \\\n",
       "0                            Braund, Mr. Owen Harris    male  22.0      1   \n",
       "1  Cumings, Mrs. John Bradley (Florence Briggs Th...  female  38.0      1   \n",
       "2                             Heikkinen, Miss. Laina  female  26.0      0   \n",
       "3       Futrelle, Mrs. Jacques Heath (Lily May Peel)  female  35.0      1   \n",
       "4                           Allen, Mr. William Henry    male  35.0      0   \n",
       "5                                   Moran, Mr. James    male   NaN      0   \n",
       "6                            McCarthy, Mr. Timothy J    male  54.0      0   \n",
       "7                     Palsson, Master. Gosta Leonard    male   2.0      3   \n",
       "\n",
       "   Parch            Ticket     Fare Cabin Embarked  \n",
       "0      0         A/5 21171   7.2500   NaN        S  \n",
       "1      0          PC 17599  71.2833   C85        C  \n",
       "2      0  STON/O2. 3101282   7.9250   NaN        S  \n",
       "3      0            113803  53.1000  C123        S  \n",
       "4      0            373450   8.0500   NaN        S  \n",
       "5      0            330877   8.4583   NaN        Q  \n",
       "6      0             17463  51.8625   E46        S  \n",
       "7      1            349909  21.0750   NaN        S  "
      ]
     },
     "execution_count": 385,
     "metadata": {},
     "output_type": "execute_result"
    }
   ],
   "source": [
    "#Primeras 8 filas\n",
    "titanic.head(8)"
   ]
  },
  {
   "cell_type": "code",
   "execution_count": 386,
   "id": "de0de92c",
   "metadata": {
    "id": "de0de92c",
    "outputId": "37149318-3165-4496-cb14-a06bd542b398"
   },
   "outputs": [
    {
     "data": {
      "text/plain": [
       "PassengerId      int64\n",
       "Survived         int64\n",
       "Pclass           int64\n",
       "Name            object\n",
       "Sex             object\n",
       "Age            float64\n",
       "SibSp            int64\n",
       "Parch            int64\n",
       "Ticket          object\n",
       "Fare           float64\n",
       "Cabin           object\n",
       "Embarked        object\n",
       "dtype: object"
      ]
     },
     "execution_count": 386,
     "metadata": {},
     "output_type": "execute_result"
    }
   ],
   "source": [
    "#Observamos los tipos de dato en cada columna\n",
    "titanic.dtypes"
   ]
  },
  {
   "cell_type": "code",
   "execution_count": 387,
   "id": "1939bbe5",
   "metadata": {
    "id": "1939bbe5",
    "outputId": "ad5c8f42-d6be-4775-9b57-05c9ef1d7b64"
   },
   "outputs": [
    {
     "data": {
      "text/html": [
       "<div>\n",
       "<style scoped>\n",
       "    .dataframe tbody tr th:only-of-type {\n",
       "        vertical-align: middle;\n",
       "    }\n",
       "\n",
       "    .dataframe tbody tr th {\n",
       "        vertical-align: top;\n",
       "    }\n",
       "\n",
       "    .dataframe thead th {\n",
       "        text-align: right;\n",
       "    }\n",
       "</style>\n",
       "<table border=\"1\" class=\"dataframe\">\n",
       "  <thead>\n",
       "    <tr style=\"text-align: right;\">\n",
       "      <th></th>\n",
       "      <th>PassengerId</th>\n",
       "      <th>Survived</th>\n",
       "      <th>Pclass</th>\n",
       "      <th>Age</th>\n",
       "      <th>SibSp</th>\n",
       "      <th>Parch</th>\n",
       "      <th>Fare</th>\n",
       "    </tr>\n",
       "  </thead>\n",
       "  <tbody>\n",
       "    <tr>\n",
       "      <th>count</th>\n",
       "      <td>891.000000</td>\n",
       "      <td>891.000000</td>\n",
       "      <td>891.000000</td>\n",
       "      <td>714.000000</td>\n",
       "      <td>891.000000</td>\n",
       "      <td>891.000000</td>\n",
       "      <td>891.000000</td>\n",
       "    </tr>\n",
       "    <tr>\n",
       "      <th>mean</th>\n",
       "      <td>446.000000</td>\n",
       "      <td>0.383838</td>\n",
       "      <td>2.308642</td>\n",
       "      <td>29.699118</td>\n",
       "      <td>0.523008</td>\n",
       "      <td>0.381594</td>\n",
       "      <td>32.204208</td>\n",
       "    </tr>\n",
       "    <tr>\n",
       "      <th>std</th>\n",
       "      <td>257.353842</td>\n",
       "      <td>0.486592</td>\n",
       "      <td>0.836071</td>\n",
       "      <td>14.526497</td>\n",
       "      <td>1.102743</td>\n",
       "      <td>0.806057</td>\n",
       "      <td>49.693429</td>\n",
       "    </tr>\n",
       "    <tr>\n",
       "      <th>min</th>\n",
       "      <td>1.000000</td>\n",
       "      <td>0.000000</td>\n",
       "      <td>1.000000</td>\n",
       "      <td>0.420000</td>\n",
       "      <td>0.000000</td>\n",
       "      <td>0.000000</td>\n",
       "      <td>0.000000</td>\n",
       "    </tr>\n",
       "    <tr>\n",
       "      <th>25%</th>\n",
       "      <td>223.500000</td>\n",
       "      <td>0.000000</td>\n",
       "      <td>2.000000</td>\n",
       "      <td>20.125000</td>\n",
       "      <td>0.000000</td>\n",
       "      <td>0.000000</td>\n",
       "      <td>7.910400</td>\n",
       "    </tr>\n",
       "    <tr>\n",
       "      <th>50%</th>\n",
       "      <td>446.000000</td>\n",
       "      <td>0.000000</td>\n",
       "      <td>3.000000</td>\n",
       "      <td>28.000000</td>\n",
       "      <td>0.000000</td>\n",
       "      <td>0.000000</td>\n",
       "      <td>14.454200</td>\n",
       "    </tr>\n",
       "    <tr>\n",
       "      <th>75%</th>\n",
       "      <td>668.500000</td>\n",
       "      <td>1.000000</td>\n",
       "      <td>3.000000</td>\n",
       "      <td>38.000000</td>\n",
       "      <td>1.000000</td>\n",
       "      <td>0.000000</td>\n",
       "      <td>31.000000</td>\n",
       "    </tr>\n",
       "    <tr>\n",
       "      <th>max</th>\n",
       "      <td>891.000000</td>\n",
       "      <td>1.000000</td>\n",
       "      <td>3.000000</td>\n",
       "      <td>80.000000</td>\n",
       "      <td>8.000000</td>\n",
       "      <td>6.000000</td>\n",
       "      <td>512.329200</td>\n",
       "    </tr>\n",
       "  </tbody>\n",
       "</table>\n",
       "</div>"
      ],
      "text/plain": [
       "       PassengerId    Survived      Pclass         Age       SibSp  \\\n",
       "count   891.000000  891.000000  891.000000  714.000000  891.000000   \n",
       "mean    446.000000    0.383838    2.308642   29.699118    0.523008   \n",
       "std     257.353842    0.486592    0.836071   14.526497    1.102743   \n",
       "min       1.000000    0.000000    1.000000    0.420000    0.000000   \n",
       "25%     223.500000    0.000000    2.000000   20.125000    0.000000   \n",
       "50%     446.000000    0.000000    3.000000   28.000000    0.000000   \n",
       "75%     668.500000    1.000000    3.000000   38.000000    1.000000   \n",
       "max     891.000000    1.000000    3.000000   80.000000    8.000000   \n",
       "\n",
       "            Parch        Fare  \n",
       "count  891.000000  891.000000  \n",
       "mean     0.381594   32.204208  \n",
       "std      0.806057   49.693429  \n",
       "min      0.000000    0.000000  \n",
       "25%      0.000000    7.910400  \n",
       "50%      0.000000   14.454200  \n",
       "75%      0.000000   31.000000  \n",
       "max      6.000000  512.329200  "
      ]
     },
     "execution_count": 387,
     "metadata": {},
     "output_type": "execute_result"
    }
   ],
   "source": [
    "#Estadísticas descriptivas\n",
    "titanic.describe()"
   ]
  },
  {
   "cell_type": "code",
   "execution_count": 388,
   "id": "3f086dde",
   "metadata": {
    "id": "3f086dde",
    "outputId": "443ccc8d-102c-4b58-fb73-d5ebfe8db438"
   },
   "outputs": [
    {
     "data": {
      "text/plain": [
       "80.0"
      ]
     },
     "execution_count": 388,
     "metadata": {},
     "output_type": "execute_result"
    }
   ],
   "source": [
    "#Calculamos la edad máxima de los pasajeros\n",
    "titanic[\"Age\"].max()"
   ]
  },
  {
   "cell_type": "code",
   "execution_count": null,
   "id": "83748e05",
   "metadata": {
    "id": "83748e05",
    "outputId": "3f072eb4-bbd7-45e1-ec21-eb4fc1a3c4db"
   },
   "outputs": [],
   "source": [
    "#Creamos una variable ages que contiene a la columna Age del df titanic\n",
    "ages = titanic[\"Age\"]\n",
    "ages"
   ]
  },
  {
   "cell_type": "code",
   "execution_count": null,
   "id": "596cf8c6",
   "metadata": {
    "id": "596cf8c6",
    "outputId": "543eb785-7f67-43cb-bb6e-0c2365c7537d"
   },
   "outputs": [],
   "source": [
    "#Es una serie de datos\n",
    "type(ages)"
   ]
  },
  {
   "cell_type": "code",
   "execution_count": null,
   "id": "cc41651c",
   "metadata": {
    "id": "cc41651c",
    "outputId": "db23ee80-d40a-4c4b-b4bd-e12f2ebe92f9"
   },
   "outputs": [],
   "source": [
    "#Veamos su dimensión\n",
    "ages.shape"
   ]
  },
  {
   "cell_type": "code",
   "execution_count": null,
   "id": "cb267fc8",
   "metadata": {
    "id": "cb267fc8",
    "outputId": "c6f30b33-a17a-41c7-8d67-0a53cc56b267"
   },
   "outputs": [],
   "source": [
    "#ahora en age_sex nos guardamos la columna Age y Sex\n",
    "age_sex = titanic[[\"Age\", \"Sex\"]]\n",
    "age_sex.head()"
   ]
  },
  {
   "cell_type": "code",
   "execution_count": null,
   "id": "33cf9995",
   "metadata": {},
   "outputs": [],
   "source": [
    "type(age_sex)"
   ]
  },
  {
   "cell_type": "code",
   "execution_count": 389,
   "id": "5eb51db6",
   "metadata": {
    "id": "5eb51db6",
    "outputId": "fe3625ba-9778-4b8e-8838-f4c450acfd3b"
   },
   "outputs": [
    {
     "data": {
      "text/html": [
       "<div>\n",
       "<style scoped>\n",
       "    .dataframe tbody tr th:only-of-type {\n",
       "        vertical-align: middle;\n",
       "    }\n",
       "\n",
       "    .dataframe tbody tr th {\n",
       "        vertical-align: top;\n",
       "    }\n",
       "\n",
       "    .dataframe thead th {\n",
       "        text-align: right;\n",
       "    }\n",
       "</style>\n",
       "<table border=\"1\" class=\"dataframe\">\n",
       "  <thead>\n",
       "    <tr style=\"text-align: right;\">\n",
       "      <th></th>\n",
       "      <th>PassengerId</th>\n",
       "      <th>Survived</th>\n",
       "      <th>Pclass</th>\n",
       "      <th>Name</th>\n",
       "      <th>Sex</th>\n",
       "      <th>Age</th>\n",
       "      <th>SibSp</th>\n",
       "      <th>Parch</th>\n",
       "      <th>Ticket</th>\n",
       "      <th>Fare</th>\n",
       "      <th>Cabin</th>\n",
       "      <th>Embarked</th>\n",
       "    </tr>\n",
       "  </thead>\n",
       "  <tbody>\n",
       "    <tr>\n",
       "      <th>1</th>\n",
       "      <td>2</td>\n",
       "      <td>1</td>\n",
       "      <td>1</td>\n",
       "      <td>Cumings, Mrs. John Bradley (Florence Briggs Th...</td>\n",
       "      <td>female</td>\n",
       "      <td>38.0</td>\n",
       "      <td>1</td>\n",
       "      <td>0</td>\n",
       "      <td>PC 17599</td>\n",
       "      <td>71.2833</td>\n",
       "      <td>C85</td>\n",
       "      <td>C</td>\n",
       "    </tr>\n",
       "    <tr>\n",
       "      <th>6</th>\n",
       "      <td>7</td>\n",
       "      <td>0</td>\n",
       "      <td>1</td>\n",
       "      <td>McCarthy, Mr. Timothy J</td>\n",
       "      <td>male</td>\n",
       "      <td>54.0</td>\n",
       "      <td>0</td>\n",
       "      <td>0</td>\n",
       "      <td>17463</td>\n",
       "      <td>51.8625</td>\n",
       "      <td>E46</td>\n",
       "      <td>S</td>\n",
       "    </tr>\n",
       "    <tr>\n",
       "      <th>11</th>\n",
       "      <td>12</td>\n",
       "      <td>1</td>\n",
       "      <td>1</td>\n",
       "      <td>Bonnell, Miss. Elizabeth</td>\n",
       "      <td>female</td>\n",
       "      <td>58.0</td>\n",
       "      <td>0</td>\n",
       "      <td>0</td>\n",
       "      <td>113783</td>\n",
       "      <td>26.5500</td>\n",
       "      <td>C103</td>\n",
       "      <td>S</td>\n",
       "    </tr>\n",
       "    <tr>\n",
       "      <th>13</th>\n",
       "      <td>14</td>\n",
       "      <td>0</td>\n",
       "      <td>3</td>\n",
       "      <td>Andersson, Mr. Anders Johan</td>\n",
       "      <td>male</td>\n",
       "      <td>39.0</td>\n",
       "      <td>1</td>\n",
       "      <td>5</td>\n",
       "      <td>347082</td>\n",
       "      <td>31.2750</td>\n",
       "      <td>NaN</td>\n",
       "      <td>S</td>\n",
       "    </tr>\n",
       "    <tr>\n",
       "      <th>15</th>\n",
       "      <td>16</td>\n",
       "      <td>1</td>\n",
       "      <td>2</td>\n",
       "      <td>Hewlett, Mrs. (Mary D Kingcome)</td>\n",
       "      <td>female</td>\n",
       "      <td>55.0</td>\n",
       "      <td>0</td>\n",
       "      <td>0</td>\n",
       "      <td>248706</td>\n",
       "      <td>16.0000</td>\n",
       "      <td>NaN</td>\n",
       "      <td>S</td>\n",
       "    </tr>\n",
       "    <tr>\n",
       "      <th>...</th>\n",
       "      <td>...</td>\n",
       "      <td>...</td>\n",
       "      <td>...</td>\n",
       "      <td>...</td>\n",
       "      <td>...</td>\n",
       "      <td>...</td>\n",
       "      <td>...</td>\n",
       "      <td>...</td>\n",
       "      <td>...</td>\n",
       "      <td>...</td>\n",
       "      <td>...</td>\n",
       "      <td>...</td>\n",
       "    </tr>\n",
       "    <tr>\n",
       "      <th>865</th>\n",
       "      <td>866</td>\n",
       "      <td>1</td>\n",
       "      <td>2</td>\n",
       "      <td>Bystrom, Mrs. (Karolina)</td>\n",
       "      <td>female</td>\n",
       "      <td>42.0</td>\n",
       "      <td>0</td>\n",
       "      <td>0</td>\n",
       "      <td>236852</td>\n",
       "      <td>13.0000</td>\n",
       "      <td>NaN</td>\n",
       "      <td>S</td>\n",
       "    </tr>\n",
       "    <tr>\n",
       "      <th>871</th>\n",
       "      <td>872</td>\n",
       "      <td>1</td>\n",
       "      <td>1</td>\n",
       "      <td>Beckwith, Mrs. Richard Leonard (Sallie Monypeny)</td>\n",
       "      <td>female</td>\n",
       "      <td>47.0</td>\n",
       "      <td>1</td>\n",
       "      <td>1</td>\n",
       "      <td>11751</td>\n",
       "      <td>52.5542</td>\n",
       "      <td>D35</td>\n",
       "      <td>S</td>\n",
       "    </tr>\n",
       "    <tr>\n",
       "      <th>873</th>\n",
       "      <td>874</td>\n",
       "      <td>0</td>\n",
       "      <td>3</td>\n",
       "      <td>Vander Cruyssen, Mr. Victor</td>\n",
       "      <td>male</td>\n",
       "      <td>47.0</td>\n",
       "      <td>0</td>\n",
       "      <td>0</td>\n",
       "      <td>345765</td>\n",
       "      <td>9.0000</td>\n",
       "      <td>NaN</td>\n",
       "      <td>S</td>\n",
       "    </tr>\n",
       "    <tr>\n",
       "      <th>879</th>\n",
       "      <td>880</td>\n",
       "      <td>1</td>\n",
       "      <td>1</td>\n",
       "      <td>Potter, Mrs. Thomas Jr (Lily Alexenia Wilson)</td>\n",
       "      <td>female</td>\n",
       "      <td>56.0</td>\n",
       "      <td>0</td>\n",
       "      <td>1</td>\n",
       "      <td>11767</td>\n",
       "      <td>83.1583</td>\n",
       "      <td>C50</td>\n",
       "      <td>C</td>\n",
       "    </tr>\n",
       "    <tr>\n",
       "      <th>885</th>\n",
       "      <td>886</td>\n",
       "      <td>0</td>\n",
       "      <td>3</td>\n",
       "      <td>Rice, Mrs. William (Margaret Norton)</td>\n",
       "      <td>female</td>\n",
       "      <td>39.0</td>\n",
       "      <td>0</td>\n",
       "      <td>5</td>\n",
       "      <td>382652</td>\n",
       "      <td>29.1250</td>\n",
       "      <td>NaN</td>\n",
       "      <td>Q</td>\n",
       "    </tr>\n",
       "  </tbody>\n",
       "</table>\n",
       "<p>217 rows × 12 columns</p>\n",
       "</div>"
      ],
      "text/plain": [
       "     PassengerId  Survived  Pclass  \\\n",
       "1              2         1       1   \n",
       "6              7         0       1   \n",
       "11            12         1       1   \n",
       "13            14         0       3   \n",
       "15            16         1       2   \n",
       "..           ...       ...     ...   \n",
       "865          866         1       2   \n",
       "871          872         1       1   \n",
       "873          874         0       3   \n",
       "879          880         1       1   \n",
       "885          886         0       3   \n",
       "\n",
       "                                                  Name     Sex   Age  SibSp  \\\n",
       "1    Cumings, Mrs. John Bradley (Florence Briggs Th...  female  38.0      1   \n",
       "6                              McCarthy, Mr. Timothy J    male  54.0      0   \n",
       "11                            Bonnell, Miss. Elizabeth  female  58.0      0   \n",
       "13                         Andersson, Mr. Anders Johan    male  39.0      1   \n",
       "15                    Hewlett, Mrs. (Mary D Kingcome)   female  55.0      0   \n",
       "..                                                 ...     ...   ...    ...   \n",
       "865                           Bystrom, Mrs. (Karolina)  female  42.0      0   \n",
       "871   Beckwith, Mrs. Richard Leonard (Sallie Monypeny)  female  47.0      1   \n",
       "873                        Vander Cruyssen, Mr. Victor    male  47.0      0   \n",
       "879      Potter, Mrs. Thomas Jr (Lily Alexenia Wilson)  female  56.0      0   \n",
       "885               Rice, Mrs. William (Margaret Norton)  female  39.0      0   \n",
       "\n",
       "     Parch    Ticket     Fare Cabin Embarked  \n",
       "1        0  PC 17599  71.2833   C85        C  \n",
       "6        0     17463  51.8625   E46        S  \n",
       "11       0    113783  26.5500  C103        S  \n",
       "13       5    347082  31.2750   NaN        S  \n",
       "15       0    248706  16.0000   NaN        S  \n",
       "..     ...       ...      ...   ...      ...  \n",
       "865      0    236852  13.0000   NaN        S  \n",
       "871      1     11751  52.5542   D35        S  \n",
       "873      0    345765   9.0000   NaN        S  \n",
       "879      1     11767  83.1583   C50        C  \n",
       "885      5    382652  29.1250   NaN        Q  \n",
       "\n",
       "[217 rows x 12 columns]"
      ]
     },
     "execution_count": 389,
     "metadata": {},
     "output_type": "execute_result"
    }
   ],
   "source": [
    "#En above_35 nos quedamos con las observaciones mayores a 35 años\n",
    "above_35 = titanic[titanic[\"Age\"] > 35]\n",
    "above_35"
   ]
  },
  {
   "cell_type": "code",
   "execution_count": null,
   "id": "b8249b9a",
   "metadata": {
    "id": "b8249b9a",
    "outputId": "ca3ee999-85b5-4f07-ce91-86ee96e5b2f7"
   },
   "outputs": [],
   "source": [
    "#Nos quedamos con las observaciones que esten entre la clase 2 y la 3 (incluidas)\n",
    "class_23 = titanic[titanic[\"Pclass\"].isin([2, 3])]\n",
    "class_23"
   ]
  },
  {
   "cell_type": "code",
   "execution_count": null,
   "id": "20cfd8b3",
   "metadata": {
    "id": "20cfd8b3",
    "outputId": "e68cae33-c0ee-4270-e97a-71c3913a09bc"
   },
   "outputs": [],
   "source": [
    "#Otra forma de hacer lo mismo: Nos quedamos con las observaciones que pertenezcan a la clase 2 o 3\n",
    "class_23 = titanic[(titanic[\"Pclass\"] == 2) | (titanic[\"Pclass\"] == 3)]\n",
    "class_23"
   ]
  },
  {
   "cell_type": "code",
   "execution_count": null,
   "id": "87ea31e4",
   "metadata": {
    "id": "87ea31e4",
    "outputId": "058a14a2-03de-4d0a-fa88-99255ce94805"
   },
   "outputs": [],
   "source": [
    "#Nos quedamos con los nombres de aquellos pasajeros cuya edad es mayor a 35 años\n",
    "adult_names = titanic.loc[titanic[\"Age\"] > 35, \"Name\"]\n",
    "adult_names.head()"
   ]
  },
  {
   "cell_type": "code",
   "execution_count": 390,
   "id": "f80130c8",
   "metadata": {
    "id": "f80130c8",
    "outputId": "84f8ba77-94c6-4be2-c1f9-a404cbf2f3a5"
   },
   "outputs": [
    {
     "data": {
      "text/html": [
       "<div>\n",
       "<style scoped>\n",
       "    .dataframe tbody tr th:only-of-type {\n",
       "        vertical-align: middle;\n",
       "    }\n",
       "\n",
       "    .dataframe tbody tr th {\n",
       "        vertical-align: top;\n",
       "    }\n",
       "\n",
       "    .dataframe thead th {\n",
       "        text-align: right;\n",
       "    }\n",
       "</style>\n",
       "<table border=\"1\" class=\"dataframe\">\n",
       "  <thead>\n",
       "    <tr style=\"text-align: right;\">\n",
       "      <th></th>\n",
       "      <th>Pclass</th>\n",
       "      <th>Name</th>\n",
       "      <th>Sex</th>\n",
       "    </tr>\n",
       "  </thead>\n",
       "  <tbody>\n",
       "    <tr>\n",
       "      <th>9</th>\n",
       "      <td>2</td>\n",
       "      <td>Nasser, Mrs. Nicholas (Adele Achem)</td>\n",
       "      <td>female</td>\n",
       "    </tr>\n",
       "    <tr>\n",
       "      <th>10</th>\n",
       "      <td>3</td>\n",
       "      <td>Sandstrom, Miss. Marguerite Rut</td>\n",
       "      <td>female</td>\n",
       "    </tr>\n",
       "    <tr>\n",
       "      <th>11</th>\n",
       "      <td>1</td>\n",
       "      <td>Bonnell, Miss. Elizabeth</td>\n",
       "      <td>female</td>\n",
       "    </tr>\n",
       "    <tr>\n",
       "      <th>12</th>\n",
       "      <td>3</td>\n",
       "      <td>Saundercock, Mr. William Henry</td>\n",
       "      <td>male</td>\n",
       "    </tr>\n",
       "    <tr>\n",
       "      <th>13</th>\n",
       "      <td>3</td>\n",
       "      <td>Andersson, Mr. Anders Johan</td>\n",
       "      <td>male</td>\n",
       "    </tr>\n",
       "    <tr>\n",
       "      <th>14</th>\n",
       "      <td>3</td>\n",
       "      <td>Vestrom, Miss. Hulda Amanda Adolfina</td>\n",
       "      <td>female</td>\n",
       "    </tr>\n",
       "    <tr>\n",
       "      <th>15</th>\n",
       "      <td>2</td>\n",
       "      <td>Hewlett, Mrs. (Mary D Kingcome)</td>\n",
       "      <td>female</td>\n",
       "    </tr>\n",
       "    <tr>\n",
       "      <th>16</th>\n",
       "      <td>3</td>\n",
       "      <td>Rice, Master. Eugene</td>\n",
       "      <td>male</td>\n",
       "    </tr>\n",
       "    <tr>\n",
       "      <th>17</th>\n",
       "      <td>2</td>\n",
       "      <td>Williams, Mr. Charles Eugene</td>\n",
       "      <td>male</td>\n",
       "    </tr>\n",
       "    <tr>\n",
       "      <th>18</th>\n",
       "      <td>3</td>\n",
       "      <td>Vander Planke, Mrs. Julius (Emelia Maria Vande...</td>\n",
       "      <td>female</td>\n",
       "    </tr>\n",
       "    <tr>\n",
       "      <th>19</th>\n",
       "      <td>3</td>\n",
       "      <td>Masselmani, Mrs. Fatima</td>\n",
       "      <td>female</td>\n",
       "    </tr>\n",
       "    <tr>\n",
       "      <th>20</th>\n",
       "      <td>2</td>\n",
       "      <td>Fynney, Mr. Joseph J</td>\n",
       "      <td>male</td>\n",
       "    </tr>\n",
       "    <tr>\n",
       "      <th>21</th>\n",
       "      <td>2</td>\n",
       "      <td>Beesley, Mr. Lawrence</td>\n",
       "      <td>male</td>\n",
       "    </tr>\n",
       "    <tr>\n",
       "      <th>22</th>\n",
       "      <td>3</td>\n",
       "      <td>McGowan, Miss. Anna \"Annie\"</td>\n",
       "      <td>female</td>\n",
       "    </tr>\n",
       "    <tr>\n",
       "      <th>23</th>\n",
       "      <td>1</td>\n",
       "      <td>Sloper, Mr. William Thompson</td>\n",
       "      <td>male</td>\n",
       "    </tr>\n",
       "    <tr>\n",
       "      <th>24</th>\n",
       "      <td>3</td>\n",
       "      <td>Palsson, Miss. Torborg Danira</td>\n",
       "      <td>female</td>\n",
       "    </tr>\n",
       "  </tbody>\n",
       "</table>\n",
       "</div>"
      ],
      "text/plain": [
       "    Pclass                                               Name     Sex\n",
       "9        2                Nasser, Mrs. Nicholas (Adele Achem)  female\n",
       "10       3                    Sandstrom, Miss. Marguerite Rut  female\n",
       "11       1                           Bonnell, Miss. Elizabeth  female\n",
       "12       3                     Saundercock, Mr. William Henry    male\n",
       "13       3                        Andersson, Mr. Anders Johan    male\n",
       "14       3               Vestrom, Miss. Hulda Amanda Adolfina  female\n",
       "15       2                   Hewlett, Mrs. (Mary D Kingcome)   female\n",
       "16       3                               Rice, Master. Eugene    male\n",
       "17       2                       Williams, Mr. Charles Eugene    male\n",
       "18       3  Vander Planke, Mrs. Julius (Emelia Maria Vande...  female\n",
       "19       3                            Masselmani, Mrs. Fatima  female\n",
       "20       2                               Fynney, Mr. Joseph J    male\n",
       "21       2                              Beesley, Mr. Lawrence    male\n",
       "22       3                        McGowan, Miss. Anna \"Annie\"  female\n",
       "23       1                       Sloper, Mr. William Thompson    male\n",
       "24       3                      Palsson, Miss. Torborg Danira  female"
      ]
     },
     "execution_count": 390,
     "metadata": {},
     "output_type": "execute_result"
    }
   ],
   "source": [
    "#Nos devuelve de la fila 9 a la 24 (9:25) y de la colmuna 3 a la 5 (2:5)\n",
    "titanic.iloc[9:25, 2:5]"
   ]
  },
  {
   "cell_type": "code",
   "execution_count": null,
   "id": "2b4789f7",
   "metadata": {
    "id": "2b4789f7",
    "outputId": "de16a3f1-819e-4a7b-935d-6ca355af1b54"
   },
   "outputs": [],
   "source": [
    "#Calculamos la edad promedio en el Titanic\n",
    "titanic[\"Age\"].mean()"
   ]
  },
  {
   "cell_type": "code",
   "execution_count": null,
   "id": "3012eec3",
   "metadata": {
    "id": "3012eec3",
    "outputId": "22b86429-eb1e-46c4-e097-95e58f54a64f"
   },
   "outputs": [],
   "source": [
    "#Calculamos la mediana \n",
    "titanic[[\"Age\", \"Fare\"]].median()"
   ]
  },
  {
   "cell_type": "code",
   "execution_count": null,
   "id": "f7b38146",
   "metadata": {
    "id": "f7b38146",
    "outputId": "0087c0ec-1a04-486d-d096-2d986404570c"
   },
   "outputs": [],
   "source": [
    "#Más estadísticas descriptivas\n",
    "titanic[[\"Age\", \"Fare\"]].describe()"
   ]
  },
  {
   "cell_type": "code",
   "execution_count": null,
   "id": "ec6b1816",
   "metadata": {
    "id": "ec6b1816",
    "outputId": "54d96081-38ef-4b28-e652-dc1cbdf9b3b4"
   },
   "outputs": [],
   "source": [
    "#Agregamos en una tabla dos listas\n",
    "titanic.agg(\n",
    "    {\n",
    "        \"Age\": [\"min\", \"max\", \"median\", \"skew\"],\n",
    "        \"Fare\": [\"min\", \"max\", \"median\", \"mean\"],\n",
    "    }\n",
    ")"
   ]
  },
  {
   "cell_type": "code",
   "execution_count": 391,
   "id": "33b7981c",
   "metadata": {
    "id": "33b7981c",
    "outputId": "964dd7b6-1c59-40c8-fe83-e6b602c0a049"
   },
   "outputs": [
    {
     "data": {
      "text/html": [
       "<div>\n",
       "<style scoped>\n",
       "    .dataframe tbody tr th:only-of-type {\n",
       "        vertical-align: middle;\n",
       "    }\n",
       "\n",
       "    .dataframe tbody tr th {\n",
       "        vertical-align: top;\n",
       "    }\n",
       "\n",
       "    .dataframe thead th {\n",
       "        text-align: right;\n",
       "    }\n",
       "</style>\n",
       "<table border=\"1\" class=\"dataframe\">\n",
       "  <thead>\n",
       "    <tr style=\"text-align: right;\">\n",
       "      <th></th>\n",
       "      <th>PassengerId</th>\n",
       "      <th>Survived</th>\n",
       "      <th>Pclass</th>\n",
       "      <th>Age</th>\n",
       "      <th>SibSp</th>\n",
       "      <th>Parch</th>\n",
       "      <th>Fare</th>\n",
       "    </tr>\n",
       "    <tr>\n",
       "      <th>Sex</th>\n",
       "      <th></th>\n",
       "      <th></th>\n",
       "      <th></th>\n",
       "      <th></th>\n",
       "      <th></th>\n",
       "      <th></th>\n",
       "      <th></th>\n",
       "    </tr>\n",
       "  </thead>\n",
       "  <tbody>\n",
       "    <tr>\n",
       "      <th>female</th>\n",
       "      <td>431.028662</td>\n",
       "      <td>0.742038</td>\n",
       "      <td>2.159236</td>\n",
       "      <td>27.915709</td>\n",
       "      <td>0.694268</td>\n",
       "      <td>0.649682</td>\n",
       "      <td>44.479818</td>\n",
       "    </tr>\n",
       "    <tr>\n",
       "      <th>male</th>\n",
       "      <td>454.147314</td>\n",
       "      <td>0.188908</td>\n",
       "      <td>2.389948</td>\n",
       "      <td>30.726645</td>\n",
       "      <td>0.429809</td>\n",
       "      <td>0.235702</td>\n",
       "      <td>25.523893</td>\n",
       "    </tr>\n",
       "  </tbody>\n",
       "</table>\n",
       "</div>"
      ],
      "text/plain": [
       "        PassengerId  Survived    Pclass        Age     SibSp     Parch  \\\n",
       "Sex                                                                      \n",
       "female   431.028662  0.742038  2.159236  27.915709  0.694268  0.649682   \n",
       "male     454.147314  0.188908  2.389948  30.726645  0.429809  0.235702   \n",
       "\n",
       "             Fare  \n",
       "Sex                \n",
       "female  44.479818  \n",
       "male    25.523893  "
      ]
     },
     "execution_count": 391,
     "metadata": {},
     "output_type": "execute_result"
    }
   ],
   "source": [
    "#Agrupamos por sexo todas columnas (calcula el promedio)\n",
    "titanic.groupby(\"Sex\").mean()"
   ]
  },
  {
   "cell_type": "code",
   "execution_count": null,
   "id": "30a9eac8",
   "metadata": {
    "id": "30a9eac8",
    "outputId": "43985b3e-0c3e-45ea-91e5-2089e5cab207"
   },
   "outputs": [],
   "source": [
    "#Nos quedamos con sexo y edad y agrupamos por sexo\n",
    "titanic[[\"Sex\", \"Age\"]].groupby(\"Sex\").mean()"
   ]
  },
  {
   "cell_type": "code",
   "execution_count": null,
   "id": "347ff456",
   "metadata": {
    "id": "347ff456",
    "outputId": "c848b11a-4683-4891-c481-d0ca4bf38180"
   },
   "outputs": [],
   "source": [
    "#Agrupamos por sexo y clase, para calcular el promedio de la tarifa\n",
    "titanic.groupby([\"Sex\", \"Pclass\"])[\"Fare\"].mean()"
   ]
  },
  {
   "cell_type": "code",
   "execution_count": null,
   "id": "81710eef",
   "metadata": {
    "id": "81710eef",
    "outputId": "6e0d5a8d-69cb-411d-d400-77b84ab3cc02"
   },
   "outputs": [],
   "source": [
    "#Contamos dentro de las categorías de la columna Clase\n",
    "titanic[\"Pclass\"].value_counts()"
   ]
  },
  {
   "cell_type": "code",
   "execution_count": null,
   "id": "d6ee771f",
   "metadata": {
    "id": "d6ee771f",
    "outputId": "3e710e08-95c8-4f1d-e2a3-821bee9fee30"
   },
   "outputs": [],
   "source": [
    "#Otra manera de hacer lo mismo\n",
    "titanic.groupby(\"Pclass\")[\"Pclass\"].count()"
   ]
  },
  {
   "cell_type": "code",
   "execution_count": 392,
   "id": "71379e51",
   "metadata": {
    "id": "71379e51",
    "outputId": "b245f7f8-0273-4278-f078-ee311b3331e2"
   },
   "outputs": [
    {
     "data": {
      "text/html": [
       "<div>\n",
       "<style scoped>\n",
       "    .dataframe tbody tr th:only-of-type {\n",
       "        vertical-align: middle;\n",
       "    }\n",
       "\n",
       "    .dataframe tbody tr th {\n",
       "        vertical-align: top;\n",
       "    }\n",
       "\n",
       "    .dataframe thead th {\n",
       "        text-align: right;\n",
       "    }\n",
       "</style>\n",
       "<table border=\"1\" class=\"dataframe\">\n",
       "  <thead>\n",
       "    <tr style=\"text-align: right;\">\n",
       "      <th></th>\n",
       "      <th>PassengerId</th>\n",
       "      <th>Survived</th>\n",
       "      <th>Pclass</th>\n",
       "      <th>Name</th>\n",
       "      <th>Sex</th>\n",
       "      <th>Age</th>\n",
       "      <th>SibSp</th>\n",
       "      <th>Parch</th>\n",
       "      <th>Ticket</th>\n",
       "      <th>Fare</th>\n",
       "      <th>Cabin</th>\n",
       "      <th>Embarked</th>\n",
       "    </tr>\n",
       "  </thead>\n",
       "  <tbody>\n",
       "    <tr>\n",
       "      <th>803</th>\n",
       "      <td>804</td>\n",
       "      <td>1</td>\n",
       "      <td>3</td>\n",
       "      <td>Thomas, Master. Assad Alexander</td>\n",
       "      <td>male</td>\n",
       "      <td>0.42</td>\n",
       "      <td>0</td>\n",
       "      <td>1</td>\n",
       "      <td>2625</td>\n",
       "      <td>8.5167</td>\n",
       "      <td>NaN</td>\n",
       "      <td>C</td>\n",
       "    </tr>\n",
       "    <tr>\n",
       "      <th>755</th>\n",
       "      <td>756</td>\n",
       "      <td>1</td>\n",
       "      <td>2</td>\n",
       "      <td>Hamalainen, Master. Viljo</td>\n",
       "      <td>male</td>\n",
       "      <td>0.67</td>\n",
       "      <td>1</td>\n",
       "      <td>1</td>\n",
       "      <td>250649</td>\n",
       "      <td>14.5000</td>\n",
       "      <td>NaN</td>\n",
       "      <td>S</td>\n",
       "    </tr>\n",
       "    <tr>\n",
       "      <th>644</th>\n",
       "      <td>645</td>\n",
       "      <td>1</td>\n",
       "      <td>3</td>\n",
       "      <td>Baclini, Miss. Eugenie</td>\n",
       "      <td>female</td>\n",
       "      <td>0.75</td>\n",
       "      <td>2</td>\n",
       "      <td>1</td>\n",
       "      <td>2666</td>\n",
       "      <td>19.2583</td>\n",
       "      <td>NaN</td>\n",
       "      <td>C</td>\n",
       "    </tr>\n",
       "    <tr>\n",
       "      <th>469</th>\n",
       "      <td>470</td>\n",
       "      <td>1</td>\n",
       "      <td>3</td>\n",
       "      <td>Baclini, Miss. Helene Barbara</td>\n",
       "      <td>female</td>\n",
       "      <td>0.75</td>\n",
       "      <td>2</td>\n",
       "      <td>1</td>\n",
       "      <td>2666</td>\n",
       "      <td>19.2583</td>\n",
       "      <td>NaN</td>\n",
       "      <td>C</td>\n",
       "    </tr>\n",
       "    <tr>\n",
       "      <th>78</th>\n",
       "      <td>79</td>\n",
       "      <td>1</td>\n",
       "      <td>2</td>\n",
       "      <td>Caldwell, Master. Alden Gates</td>\n",
       "      <td>male</td>\n",
       "      <td>0.83</td>\n",
       "      <td>0</td>\n",
       "      <td>2</td>\n",
       "      <td>248738</td>\n",
       "      <td>29.0000</td>\n",
       "      <td>NaN</td>\n",
       "      <td>S</td>\n",
       "    </tr>\n",
       "  </tbody>\n",
       "</table>\n",
       "</div>"
      ],
      "text/plain": [
       "     PassengerId  Survived  Pclass                             Name     Sex  \\\n",
       "803          804         1       3  Thomas, Master. Assad Alexander    male   \n",
       "755          756         1       2        Hamalainen, Master. Viljo    male   \n",
       "644          645         1       3           Baclini, Miss. Eugenie  female   \n",
       "469          470         1       3    Baclini, Miss. Helene Barbara  female   \n",
       "78            79         1       2    Caldwell, Master. Alden Gates    male   \n",
       "\n",
       "      Age  SibSp  Parch  Ticket     Fare Cabin Embarked  \n",
       "803  0.42      0      1    2625   8.5167   NaN        C  \n",
       "755  0.67      1      1  250649  14.5000   NaN        S  \n",
       "644  0.75      2      1    2666  19.2583   NaN        C  \n",
       "469  0.75      2      1    2666  19.2583   NaN        C  \n",
       "78   0.83      0      2  248738  29.0000   NaN        S  "
      ]
     },
     "execution_count": 392,
     "metadata": {},
     "output_type": "execute_result"
    }
   ],
   "source": [
    "#Ordenamos por Edad\n",
    "titanic.sort_values(by=\"Age\").head()"
   ]
  },
  {
   "cell_type": "code",
   "execution_count": 393,
   "id": "fd61fee3",
   "metadata": {
    "id": "fd61fee3",
    "outputId": "01b00e5c-e58d-4991-eb0c-d01d63210ecf"
   },
   "outputs": [
    {
     "data": {
      "text/html": [
       "<div>\n",
       "<style scoped>\n",
       "    .dataframe tbody tr th:only-of-type {\n",
       "        vertical-align: middle;\n",
       "    }\n",
       "\n",
       "    .dataframe tbody tr th {\n",
       "        vertical-align: top;\n",
       "    }\n",
       "\n",
       "    .dataframe thead th {\n",
       "        text-align: right;\n",
       "    }\n",
       "</style>\n",
       "<table border=\"1\" class=\"dataframe\">\n",
       "  <thead>\n",
       "    <tr style=\"text-align: right;\">\n",
       "      <th></th>\n",
       "      <th>PassengerId</th>\n",
       "      <th>Survived</th>\n",
       "      <th>Pclass</th>\n",
       "      <th>Name</th>\n",
       "      <th>Sex</th>\n",
       "      <th>Age</th>\n",
       "      <th>SibSp</th>\n",
       "      <th>Parch</th>\n",
       "      <th>Ticket</th>\n",
       "      <th>Fare</th>\n",
       "      <th>Cabin</th>\n",
       "      <th>Embarked</th>\n",
       "    </tr>\n",
       "  </thead>\n",
       "  <tbody>\n",
       "    <tr>\n",
       "      <th>630</th>\n",
       "      <td>631</td>\n",
       "      <td>1</td>\n",
       "      <td>1</td>\n",
       "      <td>Barkworth, Mr. Algernon Henry Wilson</td>\n",
       "      <td>male</td>\n",
       "      <td>80.0</td>\n",
       "      <td>0</td>\n",
       "      <td>0</td>\n",
       "      <td>27042</td>\n",
       "      <td>30.0000</td>\n",
       "      <td>A23</td>\n",
       "      <td>S</td>\n",
       "    </tr>\n",
       "    <tr>\n",
       "      <th>851</th>\n",
       "      <td>852</td>\n",
       "      <td>0</td>\n",
       "      <td>3</td>\n",
       "      <td>Svensson, Mr. Johan</td>\n",
       "      <td>male</td>\n",
       "      <td>74.0</td>\n",
       "      <td>0</td>\n",
       "      <td>0</td>\n",
       "      <td>347060</td>\n",
       "      <td>7.7750</td>\n",
       "      <td>NaN</td>\n",
       "      <td>S</td>\n",
       "    </tr>\n",
       "    <tr>\n",
       "      <th>493</th>\n",
       "      <td>494</td>\n",
       "      <td>0</td>\n",
       "      <td>1</td>\n",
       "      <td>Artagaveytia, Mr. Ramon</td>\n",
       "      <td>male</td>\n",
       "      <td>71.0</td>\n",
       "      <td>0</td>\n",
       "      <td>0</td>\n",
       "      <td>PC 17609</td>\n",
       "      <td>49.5042</td>\n",
       "      <td>NaN</td>\n",
       "      <td>C</td>\n",
       "    </tr>\n",
       "    <tr>\n",
       "      <th>96</th>\n",
       "      <td>97</td>\n",
       "      <td>0</td>\n",
       "      <td>1</td>\n",
       "      <td>Goldschmidt, Mr. George B</td>\n",
       "      <td>male</td>\n",
       "      <td>71.0</td>\n",
       "      <td>0</td>\n",
       "      <td>0</td>\n",
       "      <td>PC 17754</td>\n",
       "      <td>34.6542</td>\n",
       "      <td>A5</td>\n",
       "      <td>C</td>\n",
       "    </tr>\n",
       "    <tr>\n",
       "      <th>116</th>\n",
       "      <td>117</td>\n",
       "      <td>0</td>\n",
       "      <td>3</td>\n",
       "      <td>Connors, Mr. Patrick</td>\n",
       "      <td>male</td>\n",
       "      <td>70.5</td>\n",
       "      <td>0</td>\n",
       "      <td>0</td>\n",
       "      <td>370369</td>\n",
       "      <td>7.7500</td>\n",
       "      <td>NaN</td>\n",
       "      <td>Q</td>\n",
       "    </tr>\n",
       "  </tbody>\n",
       "</table>\n",
       "</div>"
      ],
      "text/plain": [
       "     PassengerId  Survived  Pclass                                  Name  \\\n",
       "630          631         1       1  Barkworth, Mr. Algernon Henry Wilson   \n",
       "851          852         0       3                   Svensson, Mr. Johan   \n",
       "493          494         0       1               Artagaveytia, Mr. Ramon   \n",
       "96            97         0       1             Goldschmidt, Mr. George B   \n",
       "116          117         0       3                  Connors, Mr. Patrick   \n",
       "\n",
       "      Sex   Age  SibSp  Parch    Ticket     Fare Cabin Embarked  \n",
       "630  male  80.0      0      0     27042  30.0000   A23        S  \n",
       "851  male  74.0      0      0    347060   7.7750   NaN        S  \n",
       "493  male  71.0      0      0  PC 17609  49.5042   NaN        C  \n",
       "96   male  71.0      0      0  PC 17754  34.6542    A5        C  \n",
       "116  male  70.5      0      0    370369   7.7500   NaN        Q  "
      ]
     },
     "execution_count": 393,
     "metadata": {},
     "output_type": "execute_result"
    }
   ],
   "source": [
    "#Ordenamos por edad en forma descendente\n",
    "titanic.sort_values(by=['Age'], ascending=False).head()"
   ]
  },
  {
   "cell_type": "code",
   "execution_count": null,
   "id": "722fff1b",
   "metadata": {},
   "outputs": [],
   "source": []
  }
 ],
 "metadata": {
  "colab": {
   "provenance": []
  },
  "kernelspec": {
   "display_name": "Python 3 (ipykernel)",
   "language": "python",
   "name": "python3"
  },
  "language_info": {
   "codemirror_mode": {
    "name": "ipython",
    "version": 3
   },
   "file_extension": ".py",
   "mimetype": "text/x-python",
   "name": "python",
   "nbconvert_exporter": "python",
   "pygments_lexer": "ipython3",
   "version": "3.9.12"
  }
 },
 "nbformat": 4,
 "nbformat_minor": 5
}
