{
 "cells": [
  {
   "cell_type": "markdown",
   "id": "c1be9434",
   "metadata": {},
   "source": [
    "# Encuentro sincrónico\n",
    "\n",
    "# Introducción al análisis de datos con Python\n",
    "\n"
   ]
  },
  {
   "cell_type": "markdown",
   "id": "8dd7dafc",
   "metadata": {},
   "source": [
    "## Regresión lineal "
   ]
  },
  {
   "cell_type": "markdown",
   "id": "8cfdcc58",
   "metadata": {},
   "source": [
    "Para realizar esta actividad deberá utilizar la base de datos `ingresos`\n",
    "\n",
    "\n",
    "La misma cuenta con las siguientes variables:\n",
    "- **`lila`:** contiene el logaritmo del ingreso laboral de los individuos.\n",
    "- **`edad`:** contiene los años cumplidos de cada individuo.\n",
    "- **`aedu`:** contiene la cantidad de años de educación alcanzada por cada individuo.\n",
    "- **`hstrab`:** contiene la cantidad de horas trabajadas semanalmente en la ocupación principal.\n",
    "- **`hombre`:** vale 1 si el individuo es hombre y 0 si es mujer.\n",
    "- **`informal`:** vale 1 si el individuo tiene un empleo formal y 0 en caso contrario.\n",
    "- **`casada`:** vale 1 si el individuo está casado y 0 si no lo está.\n",
    "- **`menores`:** contiene la cantidad de hijos menores de 18 años que viven en el hogar del individuo.\n",
    "- **`dormitorios`:** contiene la cantidad de dormitorios que tiene el hogar de cada individuo.\n",
    "- **`ambientes`:** contiene la cantidad de ambientes que tiene el hogar de cada individuo.\n",
    "\n",
    "\n"
   ]
  },
  {
   "cell_type": "code",
   "execution_count": null,
   "id": "58c53a04",
   "metadata": {},
   "outputs": [],
   "source": [
    "#importar librerías"
   ]
  },
  {
   "cell_type": "code",
   "execution_count": null,
   "id": "f32e10ce",
   "metadata": {},
   "outputs": [],
   "source": [
    "#cargar la base de datos\n",
    "\n",
    "#ver las primeras observaciones\n"
   ]
  },
  {
   "cell_type": "markdown",
   "id": "67379b07",
   "metadata": {},
   "source": [
    "**(1)** Incialmente pueden comenzar mostrando correlaciones entre el ingreso laboral y algunas variables (al menos 3) que les resulten de interés dentro de la base de datos. Comenten qué relaciones encuentran."
   ]
  },
  {
   "cell_type": "code",
   "execution_count": null,
   "id": "cc90f082",
   "metadata": {},
   "outputs": [],
   "source": [
    "#primera variable\n",
    "#pearsonr\n"
   ]
  },
  {
   "cell_type": "code",
   "execution_count": null,
   "id": "cae7b197",
   "metadata": {},
   "outputs": [],
   "source": [
    "#segunda variable\n",
    "#pearsonr\n"
   ]
  },
  {
   "cell_type": "code",
   "execution_count": null,
   "id": "5afe5619",
   "metadata": {},
   "outputs": [],
   "source": [
    "#tercera variable\n",
    "#pearsonr"
   ]
  },
  {
   "cell_type": "markdown",
   "id": "5835b584",
   "metadata": {},
   "source": [
    "**(2)** \n",
    "Luego, elijan el método de los vistos en clase que deseen para estimar la siguiente ecuación:\n",
    "$$ ingreso laboral =β_0+β_1edad+β_2 años de educación+β_3 horas trabajadas+β_4 hombre+ϵ_i $$"
   ]
  },
  {
   "cell_type": "code",
   "execution_count": null,
   "id": "eba0712e",
   "metadata": {},
   "outputs": [],
   "source": [
    "#train\n",
    "#test\n"
   ]
  },
  {
   "cell_type": "code",
   "execution_count": null,
   "id": "f175b146",
   "metadata": {},
   "outputs": [],
   "source": [
    "#add_constant\n",
    "#OLS\n",
    "#fit()\n"
   ]
  },
  {
   "cell_type": "markdown",
   "id": "62892997",
   "metadata": {},
   "source": [
    "#### Comenten acerca de la significatividad de las variables y de su interpretación."
   ]
  },
  {
   "cell_type": "markdown",
   "id": "33dfa27e",
   "metadata": {},
   "source": [
    "Recuerden que al ser un modelo del tipo **log-lin**, la interpretación se realiza se la siguiente manera:\n",
    "- un aumento en 1 de la variable explicativa varía, en promedio, en β*100% a los salarios, ceteris paribus.\n",
    "\n",
    "Para las variables que toman dos valores (dummies) la interpretación es se la siguiente manera:\n",
    "- los hombres tienen, en promedio, un ingreso (𝑒^β − 1) ∗ 100% mayor/menor a las mujeres, ceteris paribus."
   ]
  },
  {
   "cell_type": "markdown",
   "id": "81f8e718",
   "metadata": {},
   "source": [
    "**(3)** Ahora, agreguen la ecuación antes estimada las siguientes variables una a una (manteniendo la enterior) en este orden:\n",
    "\n",
    "$$ formal, casada, menores, ambientes $$"
   ]
  },
  {
   "cell_type": "markdown",
   "id": "ba2f3466",
   "metadata": {},
   "source": [
    "Comenten que va sucediendo con el ajuste del modelo ¿Todas son significativas? ¿Todas agregan información?"
   ]
  },
  {
   "cell_type": "code",
   "execution_count": null,
   "id": "9ac74703",
   "metadata": {},
   "outputs": [],
   "source": [
    "#edad, aedu, hstrab, hombre y formal\n",
    "\n",
    "#train\n",
    "#test\n",
    "\n",
    "#add_constant\n",
    "#OLS\n",
    "#fit()\n"
   ]
  },
  {
   "cell_type": "code",
   "execution_count": null,
   "id": "a6dfc444",
   "metadata": {},
   "outputs": [],
   "source": [
    "#edad, aedu, hstrab, hombre, formal y casada\n",
    "\n",
    "#train\n",
    "#test\n",
    "\n",
    "#add_constant\n",
    "#OLS\n",
    "#fit()\n"
   ]
  },
  {
   "cell_type": "code",
   "execution_count": null,
   "id": "d9d600e1",
   "metadata": {
    "scrolled": true
   },
   "outputs": [],
   "source": [
    "#edad, aedu, hstrab, hombre, formal, casada y menores\n",
    "#train\n",
    "#test\n",
    "\n",
    "#add_constant\n",
    "#OLS\n",
    "#fit()\n"
   ]
  },
  {
   "cell_type": "code",
   "execution_count": null,
   "id": "f9b6f55d",
   "metadata": {},
   "outputs": [],
   "source": [
    "#edad, aedu, hstrab, hombre, formal, casada, menores y ambientes\n",
    "#train\n",
    "#test\n",
    "\n",
    "#add_constant\n",
    "#OLS\n",
    "#fit()\n"
   ]
  }
 ],
 "metadata": {
  "kernelspec": {
   "display_name": "Python 3 (ipykernel)",
   "language": "python",
   "name": "python3"
  },
  "language_info": {
   "codemirror_mode": {
    "name": "ipython",
    "version": 3
   },
   "file_extension": ".py",
   "mimetype": "text/x-python",
   "name": "python",
   "nbconvert_exporter": "python",
   "pygments_lexer": "ipython3",
   "version": "3.9.12"
  }
 },
 "nbformat": 4,
 "nbformat_minor": 5
}
